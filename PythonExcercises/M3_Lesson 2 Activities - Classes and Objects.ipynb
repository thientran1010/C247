{
  "cells": [
    {
      "cell_type": "markdown",
      "metadata": {
        "id": "hYCcC5vjikA2"
      },
      "source": [
        "# Lesson 2 Activities: Classes and Objects\n",
        "The activities in this page will allow you to demonstrate your ability to:\n",
        "* Create a class that includes at least three attributes appropriate for that class.\n",
        "* Use a class to create two or more separate objects.\n",
        "* Define and use a constructor in a class.\n",
        "* Create one or more methods that describe a behavior associated with a class and implement those methods in a program.\n",
        "* Reference a class as an attribute of another class to create a complex entity."
      ]
    },
    {
      "cell_type": "markdown",
      "metadata": {
        "id": "a5Gc10AgikA9"
      },
      "source": [
        "## Activity 1\n",
        "The lesson uses `Person` and `Animal` as example classes. For this activity, choose another `Noun` of your choice to create a class. It can be anything you wish, as long as it meets the following criteria:\n",
        "* Do not use people or animals.\n",
        "* The category must be broad enough to include different examples of the category.\n",
        "* It must represent a real-life object.\n",
        "\n",
        "Include at least three attributes that are common to most (if not all) instances of the `Noun`. Use appropriate naming conventions."
      ]
    },
    {
      "cell_type": "code",
      "execution_count": 4,
      "metadata": {
        "id": "4YIEPrKDikA-"
      },
      "outputs": [],
      "source": [
        "# your code here\n",
        "class Vehicle():\n",
        "  v_type=\"\"\n",
        "  v_class=\"\"\n",
        "  top_speed=0"
      ]
    },
    {
      "cell_type": "markdown",
      "metadata": {
        "id": "cPlIxtCNikA_"
      },
      "source": [
        "## Activity 2\n",
        "Use the `Noun` class you created in the previous activity to create at least four different objects. Print out all attributes for each object."
      ]
    },
    {
      "cell_type": "code",
      "execution_count": 9,
      "metadata": {
        "id": "H-EdtdJoikA_",
        "outputId": "eccafcc1-5b05-4497-fda3-f4429e628c9c",
        "colab": {
          "base_uri": "https://localhost:8080/"
        }
      },
      "outputs": [
        {
          "output_type": "stream",
          "name": "stdout",
          "text": [
            "{'v_class': 'Regular Class D', 'v_type': 'Car', 'top_speed': 180}\n",
            "{'v_class': 'Regular Class D', 'v_type': 'Car', 'top_speed': 200}\n",
            "{'v_class': 'Luxury Class A', 'v_type': 'Car', 'top_speed': 500}\n",
            "{'v_class': 'Commercial Airplane Class E', 'v_type': 'Plane', 'top_speed': 2500}\n"
          ]
        }
      ],
      "source": [
        "# your code here\n",
        "honda = Vehicle()\n",
        "honda.v_class=\"Regular Class D\"\n",
        "honda.v_type=\"Car\"\n",
        "honda.top_speed=180\n",
        "\n",
        "ford_focus=Vehicle()\n",
        "ford_focus.v_class=\"Regular Class D\"\n",
        "ford_focus.v_type=\"Car\"\n",
        "ford_focus.top_speed=200\n",
        "\n",
        "ferrari=Vehicle()\n",
        "ferrari.v_class=\"Luxury Class A\"\n",
        "ferrari.v_type=\"Car\"\n",
        "ferrari.top_speed=500\n",
        "\n",
        "air_bus44=Vehicle()\n",
        "air_bus44.v_class=\"Commercial Airplane Class E\"\n",
        "air_bus44.v_type=\"Plane\"\n",
        "air_bus44.top_speed=2500\n",
        "\n",
        "v=[honda,ford_focus,ferrari,air_bus44]\n",
        "for i in v:\n",
        "  print(vars(i))"
      ]
    },
    {
      "cell_type": "markdown",
      "metadata": {
        "id": "ed8YdOl8ikA_"
      },
      "source": [
        "## Activity 3\n",
        "Create an `__init__` method for your `Noun` class. Include at least four of the attributes you originally defined in the new method."
      ]
    },
    {
      "cell_type": "code",
      "execution_count": 11,
      "metadata": {
        "id": "nptb0MAhikA_"
      },
      "outputs": [],
      "source": [
        "# your code here\n",
        "class Vehicle():\n",
        "  v_type=\"\"\n",
        "  v_class=\"\"\n",
        "  top_speed=0\n",
        "  num_pass=\"\"\n",
        "  def __init__(self,v_type,v_class,top_speed,num_pass):\n",
        "    self.v_type=v_type\n",
        "    self.v_class=v_class\n",
        "    self.top_speed=top_speed\n",
        "    self.num_pass=num_pass"
      ]
    },
    {
      "cell_type": "markdown",
      "metadata": {
        "id": "IIqtw5LZikBA"
      },
      "source": [
        "## Activity 4\n",
        "Create a method for your `Noun` class. The method should perform a specific activity (or series of activities) on objects based on the class. \n",
        "\n",
        "Although this can be a simple `display`, you are encouraged to consider more complicated activities in the method."
      ]
    },
    {
      "cell_type": "code",
      "execution_count": null,
      "metadata": {
        "id": "EKEUPtCPikBA"
      },
      "outputs": [],
      "source": [
        "# your code here"
      ]
    },
    {
      "cell_type": "markdown",
      "metadata": {
        "id": "IsHiXLzGikBB"
      },
      "source": [
        "## Activity 5\n",
        "Create a separate class that is logically related to your original `Noun` class, based on the example that a `Person` can have one or more `Addresses`.\n",
        "\t\n",
        "Create at least one `Noun` object that includes a list of objects from the associated class. Display the `Noun` with the related objects."
      ]
    },
    {
      "cell_type": "code",
      "execution_count": null,
      "metadata": {
        "id": "y9IealgNikBB"
      },
      "outputs": [],
      "source": [
        "# your code here"
      ]
    }
  ],
  "metadata": {
    "kernelspec": {
      "display_name": "Python 3",
      "language": "python",
      "name": "python3"
    },
    "language_info": {
      "codemirror_mode": {
        "name": "ipython",
        "version": 3
      },
      "file_extension": ".py",
      "mimetype": "text/x-python",
      "name": "python",
      "nbconvert_exporter": "python",
      "pygments_lexer": "ipython3",
      "version": "3.7.3"
    },
    "colab": {
      "name": "M3_Lesson 2 Activities - Classes and Objects.ipynb",
      "provenance": []
    }
  },
  "nbformat": 4,
  "nbformat_minor": 0
}