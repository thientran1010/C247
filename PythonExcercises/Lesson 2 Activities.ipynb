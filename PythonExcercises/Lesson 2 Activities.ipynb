{
  "cells": [
    {
      "cell_type": "markdown",
      "metadata": {
        "id": "9ztRAV-rFzV6"
      },
      "source": [
        "# Lesson 2 Activities\n",
        "The activities in this page will allow you to demonstrate your ability to:\n",
        "\n",
        "* Create a Python script that uses a `for` loop to repeat an activity until a specific criterion is met.\n",
        "* Create a Python script that uses a `while` loop to repeat an activity as long as a specific criterion holds true."
      ]
    },
    {
      "cell_type": "markdown",
      "metadata": {
        "id": "MVrtOvVQFzV8"
      },
      "source": [
        "## Activity 1\n",
        "Given the list `fruit_list`, write a script that iterates through the list and prints each item on a separate line."
      ]
    },
    {
      "cell_type": "code",
      "execution_count": null,
      "metadata": {
        "colab": {
          "base_uri": "https://localhost:8080/"
        },
        "id": "-Sk5RUvoFzV9",
        "outputId": "f2ea8df3-63c3-451a-8ee7-b9adad67e27f"
      },
      "outputs": [
        {
          "output_type": "stream",
          "name": "stdout",
          "text": [
            "apple\n",
            "banana\n",
            "cherry\n",
            "gooseberry\n",
            "kumquat\n",
            "orange\n",
            "pineapple\n"
          ]
        }
      ],
      "source": [
        "fruit_list = [\"apple\", \"banana\", \"cherry\", \"gooseberry\", \"kumquat\", \"orange\", \"pineapple\"]\n",
        "\n",
        "# your code here\n",
        "for i in fruit_list:\n",
        "  print(i)"
      ]
    },
    {
      "cell_type": "markdown",
      "metadata": {
        "id": "kPSNwHqLFzV-"
      },
      "source": [
        "## Activity 2\n",
        "Write a script that asks the user for a string and displays the characters of the string to the user, with each character on a new line.\n",
        "\n",
        "For example, if the input is `Hello`, the output should be:\n",
        "\n",
        "    H\n",
        "    e\n",
        "    l\n",
        "    l\n",
        "    o"
      ]
    },
    {
      "cell_type": "code",
      "execution_count": null,
      "metadata": {
        "colab": {
          "base_uri": "https://localhost:8080/"
        },
        "id": "KbTaT9e9FzV_",
        "outputId": "58b65665-96c9-412d-d51e-5aced7a444f1"
      },
      "outputs": [
        {
          "output_type": "stream",
          "name": "stdout",
          "text": [
            "Enter your input: hello\n",
            "h\n",
            "e\n",
            "l\n",
            "l\n",
            "o\n"
          ]
        }
      ],
      "source": [
        "# your code here\n",
        "l = input('Enter your input: ')\n",
        "for i in l:\n",
        "  print(i)"
      ]
    },
    {
      "cell_type": "markdown",
      "metadata": {
        "id": "McIujg_wFzV_"
      },
      "source": [
        "## Activity 3\n",
        "Write a script that computes the length of a string without using the `len()` function."
      ]
    },
    {
      "cell_type": "code",
      "execution_count": null,
      "metadata": {
        "colab": {
          "base_uri": "https://localhost:8080/"
        },
        "id": "M0rC4IL7FzWA",
        "outputId": "b758279b-1905-4aa0-83c9-82e62b8581b0"
      },
      "outputs": [
        {
          "output_type": "stream",
          "name": "stdout",
          "text": [
            "5\n"
          ]
        }
      ],
      "source": [
        "# your code here\n",
        "c=0\n",
        "for i in l:\n",
        "  c+=1\n",
        "print(c)"
      ]
    },
    {
      "cell_type": "markdown",
      "metadata": {
        "id": "qJ_tdsVRFzWA"
      },
      "source": [
        "## Activity 4\n",
        "Create a program that starts with a list of strings, identifies all the strings with more than two characters, stores the results in another list, and displays the new list.\n",
        "\n",
        "For example:\n",
        "\n",
        "    a = [\"a\", \"bc\", \"rye\", \"hello\", \"c\", \"\"]\n",
        "\n",
        "Output:\n",
        "\n",
        "    [\"rye\", \"hello\"]"
      ]
    },
    {
      "cell_type": "code",
      "execution_count": null,
      "metadata": {
        "colab": {
          "base_uri": "https://localhost:8080/"
        },
        "id": "cJ7GB0wMFzWA",
        "outputId": "09dc8f3b-7f10-49d3-ab4c-dd17534cd7a0"
      },
      "outputs": [
        {
          "output_type": "stream",
          "name": "stdout",
          "text": [
            "['rye', 'hello']\n"
          ]
        }
      ],
      "source": [
        "# your code here\n",
        "a = [\"a\", \"bc\", \"rye\", \"hello\", \"c\", \"\"]\n",
        "\n",
        "l = []\n",
        "for i in a:\n",
        "  if(len(i)>2):\n",
        "    l.append(i)\n",
        "print(l)"
      ]
    },
    {
      "cell_type": "markdown",
      "metadata": {
        "id": "j9OGRSCgFzWB"
      },
      "source": [
        "## Activity 5\n",
        "Write two scripts, each of which displays all numbers divisible by 50 between 100 and 1000 (inclusive).\n",
        "* Use the `range` function with `for` in one script.\n",
        "* Use `while` without `range` in the other script.\n",
        "\n",
        "Both scripts should have identical outputs."
      ]
    },
    {
      "cell_type": "code",
      "execution_count": null,
      "metadata": {
        "colab": {
          "base_uri": "https://localhost:8080/"
        },
        "id": "HbuVsR-yFzWC",
        "outputId": "72a33562-dce5-47d0-db96-7eaccbfdfede"
      },
      "outputs": [
        {
          "output_type": "stream",
          "name": "stdout",
          "text": [
            "100\n",
            "150\n",
            "200\n",
            "250\n",
            "300\n",
            "350\n",
            "400\n",
            "450\n",
            "500\n",
            "550\n",
            "600\n",
            "650\n",
            "700\n",
            "750\n",
            "800\n",
            "850\n",
            "900\n",
            "950\n",
            "1000\n"
          ]
        }
      ],
      "source": [
        "# script 1: range\n",
        "# your code here\n",
        "for i in range(100,1001,50):\n",
        "  print(i)"
      ]
    },
    {
      "cell_type": "code",
      "execution_count": null,
      "metadata": {
        "colab": {
          "base_uri": "https://localhost:8080/"
        },
        "id": "G4xjf6coFzWC",
        "outputId": "1e785ff4-0d9e-4831-b5e5-aa407bdf18a9"
      },
      "outputs": [
        {
          "output_type": "stream",
          "name": "stdout",
          "text": [
            "100\n",
            "150\n",
            "200\n",
            "250\n",
            "300\n",
            "350\n",
            "400\n",
            "450\n",
            "500\n",
            "550\n",
            "600\n",
            "650\n",
            "700\n",
            "750\n",
            "800\n",
            "850\n",
            "900\n",
            "950\n",
            "1000\n"
          ]
        }
      ],
      "source": [
        "# script 2: while\n",
        "# your code here\n",
        "i=100\n",
        "while(i<1001):\n",
        "  print(i)\n",
        "  i+=50"
      ]
    },
    {
      "cell_type": "markdown",
      "metadata": {
        "id": "hS9abyiVFzWC"
      },
      "source": [
        "## Activity 6\n",
        "Create a script that computes the sum of all numbers between 0 and 100."
      ]
    },
    {
      "cell_type": "code",
      "execution_count": null,
      "metadata": {
        "colab": {
          "base_uri": "https://localhost:8080/"
        },
        "id": "X_bR8VJrFzWD",
        "outputId": "0f2f0de2-e227-4d9a-f7b9-8f46ef609070"
      },
      "outputs": [
        {
          "output_type": "stream",
          "name": "stdout",
          "text": [
            "5050\n"
          ]
        }
      ],
      "source": [
        "# your code here\n",
        "r = range(0,101)\n",
        "print(sum(r))"
      ]
    },
    {
      "cell_type": "markdown",
      "metadata": {
        "id": "NAb4QdjrFzWD"
      },
      "source": [
        "## Activity 7\n",
        "Create a script that computes the factorial of any given number."
      ]
    },
    {
      "cell_type": "code",
      "execution_count": null,
      "metadata": {
        "colab": {
          "base_uri": "https://localhost:8080/"
        },
        "id": "6cJpbwSzFzWD",
        "outputId": "5e358469-df2a-4050-f259-330b6171fe24"
      },
      "outputs": [
        {
          "output_type": "stream",
          "name": "stdout",
          "text": [
            "120\n"
          ]
        }
      ],
      "source": [
        "# your code here\n",
        "def fac(n):\n",
        "  if(n==1): return 1\n",
        "  return fac(n-1) * n\n",
        "print(fac((5)))"
      ]
    },
    {
      "cell_type": "markdown",
      "metadata": {
        "id": "uHYxtbIWFzWE"
      },
      "source": [
        "##  Activity 8\n",
        "Starting with the defined `fruit_list` in the code block below, update the script to perform the following tasks.\n",
        "\n",
        "1. Prompt the user to enter the name of a fruit.\n",
        "1. If the fruit is in `fruit_list`, display an appropriate message to the user and tell the user its index value in the list.\n",
        "1. If the fruit is not in `fruit_list`, display an appropriate message to the user and prompt them to try again.\n",
        "1. The script should repeat itself until the user enters a stop word at the prompt.\n",
        "\n",
        "**Tip:** It's always a good idea to tell the user how to end a loop!"
      ]
    },
    {
      "cell_type": "code",
      "execution_count": null,
      "metadata": {
        "colab": {
          "base_uri": "https://localhost:8080/"
        },
        "id": "7Z-bW7SDFzWE",
        "outputId": "af3f4eb2-a671-4055-c00e-518f18459858"
      },
      "outputs": [
        {
          "name": "stdout",
          "output_type": "stream",
          "text": [
            "Enter a fruit: apple\n",
            "apple is on our list at index 0\n",
            "Would you like to continue? (0/1) 0\n"
          ]
        }
      ],
      "source": [
        "fruit_list = [\"apple\", \"banana\", \"cherry\", \"gooseberry\", \"kumquat\", \"orange\", \"pineapple\"]\n",
        "\n",
        "# your code here\n",
        "cont= 1\n",
        "while(bool(cont)):\n",
        "  i = input(\"Enter a fruit: \")\n",
        "  while(i.lower() not in fruit_list):\n",
        "    print(\"Sorry, the fruit is not on the list. PLease, try again!\")\n",
        "    i = input(\"Enter a fruit: \")\n",
        "  \n",
        "  ii = fruit_list.index(i)\n",
        "  print(\"{} is on our list at index {}\".format(i,ii))\n",
        "  cont = int(input(\"Would you like to continue? (0/1) \"))\n"
      ]
    },
    {
      "cell_type": "markdown",
      "metadata": {
        "id": "4AyS_2DtFzWE"
      },
      "source": [
        "## Activity 9\n",
        "Create a script that asks the user for a variable number of values and displays the sum of those values to the user. \n",
        "\t\n",
        "The program should prompt the user for values until the user enters the word \"quit\" (uppercase or lowercase), display the values used in the calculation, and then display the total of those values."
      ]
    },
    {
      "cell_type": "code",
      "execution_count": null,
      "metadata": {
        "colab": {
          "base_uri": "https://localhost:8080/"
        },
        "id": "QAblCrktFzWF",
        "outputId": "6b6f39c9-0156-4520-90f4-5ce814519214"
      },
      "outputs": [
        {
          "output_type": "stream",
          "name": "stdout",
          "text": [
            "Enter value 1: \n",
            "123\n",
            "Enter quit if you want to quit: \n",
            "no\n",
            "Enter value 2: \n",
            "1245\n",
            "Enter quit if you want to quit: \n",
            "quit\n",
            "Sum is 1368 \n"
          ]
        }
      ],
      "source": [
        "# your code here\n",
        "c = 1\n",
        "q = \"\"\n",
        "ar=[]\n",
        "while (q.lower() != 'quit'):\n",
        "  print(\"Enter value {}: \".format(c))\n",
        "  i = input()\n",
        "  c+=1\n",
        "  ar.append(int(i))\n",
        "  print(\"Enter quit if you want to quit: \")\n",
        "  q = input()\n",
        "print(\"Sum is {} \".format(sum(ar)))\n"
      ]
    },
    {
      "cell_type": "markdown",
      "metadata": {
        "id": "75tcmSriFzWF"
      },
      "source": [
        "## Activity 10\n",
        "Write a script that asks the user for an integer value and then displays the multiplication table of that input number from 1 through the integer squared."
      ]
    },
    {
      "cell_type": "code",
      "execution_count": null,
      "metadata": {
        "colab": {
          "base_uri": "https://localhost:8080/"
        },
        "id": "5twQoME7FzWG",
        "outputId": "35294622-099f-4e85-d2de-3e63a3e60a7c"
      },
      "outputs": [
        {
          "output_type": "stream",
          "name": "stdout",
          "text": [
            "[]\n",
            "       0  1  2   3   4\n",
            "0  index  1  2   3   4\n",
            "1      1  1  2   3   4\n",
            "2      2  2  4   6   8\n",
            "3      3  3  6   9  12\n",
            "4      4  4  8  12  16\n"
          ]
        }
      ],
      "source": [
        "# your code here\n",
        "import pandas as pd\n",
        "\n",
        "i = 2\n",
        "#i = int(input(\"Enter an integer: \"))\n",
        "i = i**2\n",
        "\n",
        "r = range(i**2+1)\n",
        "top = ['index']\n",
        "for k in range(i):\n",
        "  top.append(k+1)\n",
        "\n",
        "t = []\n",
        "c=0\n",
        "print(t)\n",
        "while(c<i):\n",
        "  ii=0\n",
        "  temp=[]\n",
        "  while(ii<i):\n",
        "    \n",
        "    tt=(c+1)*(ii+1)\n",
        "    \n",
        "    temp.append(tt)\n",
        "    \n",
        "\n",
        "    ii+=1\n",
        "  t.append(temp)\n",
        "  c+=1\n",
        "\n",
        "table=[]\n",
        "table.append(top)\n",
        "t1=[]\n",
        "for i in range(len(t)):\n",
        "  tt=[]\n",
        "  tt =[i+1]\n",
        "  tt.extend(t[i])\n",
        "  t1.append(tt)\n",
        "table.extend(t1)\n",
        "df.append(table)\n",
        "df = pd.DataFrame(table)\n",
        "print(df)\n",
        "\n"
      ]
    },
    {
      "cell_type": "markdown",
      "metadata": {
        "id": "4jBacNcCFzWG"
      },
      "source": [
        "## Activity 11\n",
        "Create a script that identifies all prime numbers between 0 and 100. "
      ]
    },
    {
      "cell_type": "code",
      "execution_count": null,
      "metadata": {
        "colab": {
          "base_uri": "https://localhost:8080/"
        },
        "id": "vzhItOhCFzWG",
        "outputId": "b0259afb-9694-43bc-ccd5-99284fce8abf"
      },
      "outputs": [
        {
          "output_type": "stream",
          "name": "stdout",
          "text": [
            "0 True\n",
            "1 True\n",
            "2 True\n",
            "3 True\n",
            "5 True\n",
            "7 True\n",
            "11 True\n",
            "13 True\n",
            "17 True\n",
            "19 True\n",
            "23 True\n",
            "29 True\n",
            "31 True\n",
            "37 True\n",
            "41 True\n",
            "43 True\n",
            "47 True\n",
            "53 True\n",
            "59 True\n",
            "61 True\n",
            "67 True\n",
            "71 True\n",
            "73 True\n",
            "79 True\n",
            "83 True\n",
            "89 True\n",
            "97 True\n"
          ]
        }
      ],
      "source": [
        "# your code here\n",
        "prime=1\n",
        "def primeOrNot(n):\n",
        "  if n == 1:\n",
        "    return True\n",
        "  if n == 0:\n",
        "    return True\n",
        "  for i in range(2,n):\n",
        "    if (n%i == 0):\n",
        "      return False\n",
        "  return True\n",
        "for i in range(101):\n",
        "  if(primeOrNot(i)):\n",
        "    print(i,True)"
      ]
    },
    {
      "cell_type": "markdown",
      "metadata": {
        "id": "G7EedwmKFzWG"
      },
      "source": [
        "## Activity 12\n",
        "Write a script that calculates the greatest common denominator between two numbers.\n",
        "\n",
        "For example, given the numbers 18 and 27, the greatest common denominator is 9."
      ]
    },
    {
      "cell_type": "code",
      "execution_count": 3,
      "metadata": {
        "colab": {
          "base_uri": "https://localhost:8080/"
        },
        "id": "OxRFDZQYFzWG",
        "outputId": "fc9f431a-4c62-4920-f3b1-d6cfd3d1974a"
      },
      "outputs": [
        {
          "output_type": "stream",
          "name": "stdout",
          "text": [
            "9\n",
            "9\n"
          ]
        }
      ],
      "source": [
        "# your code here\n",
        "a=18\n",
        "b=27\n",
        "m = min(a,b)\n",
        "d=1\n",
        "for i in reversed(range(1,m+1)):\n",
        "  if(a%i==0 and b%i==0):\n",
        "    d=i\n",
        "    break\n",
        "print(d)\n",
        "import math\n",
        "temp = math.gcd(a,b)\n",
        "print(temp)"
      ]
    },
    {
      "cell_type": "markdown",
      "metadata": {
        "id": "UtrGNWiGFzWH"
      },
      "source": [
        "## Activity 13\n",
        "Write a script that computes the frequency of each digit in a given integer.\n",
        "\n",
        "For example, if the input number is 334, the output should be:\n",
        "\n",
        "    3 occurs 2 times \n",
        "    4 occurs 1 time"
      ]
    },
    {
      "cell_type": "code",
      "execution_count": 6,
      "metadata": {
        "id": "lGYt5FoJFzWH",
        "outputId": "4cc2586b-4e02-46bd-d35d-0b7af5446e16",
        "colab": {
          "base_uri": "https://localhost:8080/"
        }
      },
      "outputs": [
        {
          "output_type": "stream",
          "name": "stdout",
          "text": [
            "0 occurs 0 times\n",
            "1 occurs 3 times\n",
            "2 occurs 2 times\n",
            "3 occurs 2 times\n",
            "4 occurs 1 times\n",
            "5 occurs 0 times\n",
            "6 occurs 0 times\n",
            "7 occurs 0 times\n",
            "8 occurs 0 times\n",
            "9 occurs 0 times\n"
          ]
        }
      ],
      "source": [
        "# your code here\n",
        "l=range(0,10)\n",
        "c=[0]*10\n",
        "test=str(12314231)\n",
        "for i in test:\n",
        "  c[int(i)]+=1\n",
        "\n",
        "for i in l:\n",
        "  print(\"{} occurs {} times\".format(i,c[i]))"
      ]
    },
    {
      "cell_type": "markdown",
      "metadata": {
        "id": "Q-fCebdjFzWH"
      },
      "source": [
        "## Activity 14\n",
        "\n",
        "Write a script that calculates the lowest common multiple of two given integers.\n",
        "\n",
        "For example, given the values 4 and 6, the lowest common multiple is 12."
      ]
    },
    {
      "cell_type": "code",
      "execution_count": 10,
      "metadata": {
        "id": "Cc5VNEaaFzWH",
        "outputId": "f99e0ea5-a6f6-41ff-d193-58d1c794ef73",
        "colab": {
          "base_uri": "https://localhost:8080/"
        }
      },
      "outputs": [
        {
          "output_type": "stream",
          "name": "stdout",
          "text": [
            "20\n"
          ]
        }
      ],
      "source": [
        "# your code here\n",
        "a = 4\n",
        "b = 10\n",
        "m = 4*6\n",
        "for i in range(1,m+1):\n",
        "  if (i%a==0 and i%b==0):\n",
        "    print(i)\n",
        "    break"
      ]
    },
    {
      "cell_type": "markdown",
      "metadata": {
        "id": "uaaEi70VFzWH"
      },
      "source": [
        "## Activity 15\n",
        "Write a script that determines if an input number can be expressed as the sum of two prime numbers. \n",
        "\n",
        "For example, the number `10` can be expressed as the sum of two prime numbers:\n",
        "* 10 = 3 + 7 : both prime numbers \n",
        "* 10 = 5 + 5 : both prime numbers \n",
        "\n",
        "However, the number `11` cannot be:\n",
        "* 11 = 1 + 10 : neither 1 nor 10 are prime numbers\n",
        "* 11 = 2 + 9 : 9 is not a prime number\n",
        "* 11 = 3 + 8 : 8 is not a prime number\n",
        "* 11 = 4 + 7 : 4 is not a prime number\n",
        "* 11 = 5 + 6 : 6 is not a prime number"
      ]
    },
    {
      "cell_type": "code",
      "execution_count": 8,
      "metadata": {
        "id": "mLkFzx7GFzWI",
        "outputId": "f2aefb00-1340-4e95-97a3-352e602d6cbd",
        "colab": {
          "base_uri": "https://localhost:8080/"
        }
      },
      "outputs": [
        {
          "output_type": "stream",
          "name": "stdout",
          "text": [
            "12 = 5 + 7\n"
          ]
        }
      ],
      "source": [
        "# your code here\n",
        "s = 12\n",
        "def isPrime(p):\n",
        "  if(p==1):\n",
        "    return False\n",
        "  if(p==2):\n",
        "    return True\n",
        "  for i in range(2,round(p)):\n",
        "    if(p%i==0):\n",
        "      return False\n",
        "  return True\n",
        "notExists=True\n",
        "for i in range(2,round(s/2)):\n",
        "  if(isPrime(i) and isPrime(s-i)):\n",
        "    print(\"{} = {} + {}\".format(s,i,(s-i)))\n",
        "    notExists=False\n",
        "if(notExists):\n",
        "  print(\"No solution\")\n",
        "    "
      ]
    },
    {
      "cell_type": "code",
      "source": [
        ""
      ],
      "metadata": {
        "id": "i5tR2KojgHBh"
      },
      "execution_count": null,
      "outputs": []
    }
  ],
  "metadata": {
    "kernelspec": {
      "display_name": "Python 3",
      "language": "python",
      "name": "python3"
    },
    "language_info": {
      "codemirror_mode": {
        "name": "ipython",
        "version": 3
      },
      "file_extension": ".py",
      "mimetype": "text/x-python",
      "name": "python",
      "nbconvert_exporter": "python",
      "pygments_lexer": "ipython3",
      "version": "3.7.3"
    },
    "colab": {
      "name": "Lesson 2 Activities.ipynb",
      "provenance": []
    }
  },
  "nbformat": 4,
  "nbformat_minor": 0
}