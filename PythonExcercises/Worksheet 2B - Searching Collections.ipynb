{
  "cells": [
    {
      "cell_type": "markdown",
      "metadata": {
        "id": "view-in-github",
        "colab_type": "text"
      },
      "source": [
        "<a href=\"https://colab.research.google.com/github/thientran1010/C247/blob/main/PythonExcercises/Worksheet%202B%20-%20Searching%20Collections.ipynb\" target=\"_parent\"><img src=\"https://colab.research.google.com/assets/colab-badge.svg\" alt=\"Open In Colab\"/></a>"
      ]
    },
    {
      "cell_type": "markdown",
      "metadata": {
        "id": "6j0tBhzS08Fk"
      },
      "source": [
        "# Worksheet 2B - Searching Collections\n",
        "This worksheet corresponds to *Lesson 2B: Searching Collections* in the online course. Refer to that lesson as necessary to complete the practice activities here."
      ]
    },
    {
      "cell_type": "markdown",
      "metadata": {
        "id": "SIhOXTP408Fm"
      },
      "source": [
        "## Practice 1a\n",
        "Complete the script below so that it performs the following actions:\n",
        "* Iterate through the entire list.\n",
        "* Display only negative numbers from the list."
      ]
    },
    {
      "cell_type": "code",
      "execution_count": 2,
      "metadata": {
        "id": "Kveg0fMe08Fn",
        "outputId": "5971f66e-0aff-4cf4-8eb8-42a6b4d2e65c",
        "colab": {
          "base_uri": "https://localhost:8080/"
        }
      },
      "outputs": [
        {
          "output_type": "stream",
          "name": "stdout",
          "text": [
            "-9\n",
            "-10\n",
            "-11\n",
            "-23\n"
          ]
        }
      ],
      "source": [
        "list_of_numbers = [0, 1, -9, -10, 3, 56, 45, -11, 35, 2, -23]\n",
        "# your code goes here \n",
        "for i in list_of_numbers:\n",
        "  if(i<0):\n",
        "    print(i)"
      ]
    },
    {
      "cell_type": "markdown",
      "metadata": {
        "id": "NDWhVtLS08Fo"
      },
      "source": [
        "## Practice 1b\n",
        "Let's make the code from Example 1 above more interactive.\n",
        "\n",
        "The code block below includes the same code presented in Example 1. Modify the code to include the following actions:\n",
        "\n",
        "1. Prompt the user for a name to look for.\n",
        "1. Check whether or not the name is in the list.\n",
        "    1. If the name is **not** in the list, print a statement to that effect and end the program.\n",
        "    1. If the name **is** in the list, print a statement to that effect and then print a separate statement for each instance of the search term in the list."
      ]
    },
    {
      "cell_type": "code",
      "execution_count": null,
      "metadata": {
        "id": "UK7mClTS08Fp",
        "outputId": "3d58ce61-9b75-4d78-b676-2e06c092e0eb"
      },
      "outputs": [
        {
          "name": "stdout",
          "output_type": "stream",
          "text": [
            "Mike appears at least once in the list.\n",
            "We found Mike\n",
            "We found Mike\n"
          ]
        }
      ],
      "source": [
        "list_of_names = [\"Kate\", \"Jennifer\", \"Mike\", \"Pete\", \"Alex\", \"Mike\"]\n",
        "search_term = \"Mike\"\n",
        "\n",
        "#check that the search term occurs at least once in the list\n",
        "if search_term in list_of_names:\n",
        "    print (search_term + \" appears at least once in the list.\")\n",
        "\n",
        "#use the variable name to store each item in the list sequentially \n",
        "#and compare name to the search term\n",
        "#print a separate statement for each instance of the search term\n",
        "for name in list_of_names:\n",
        "    if name == search_term:\n",
        "        print(\"We found \" + search_term)"
      ]
    },
    {
      "cell_type": "markdown",
      "metadata": {
        "id": "q8ZPfKbz08Fq"
      },
      "source": [
        "## Practice 2\n",
        "Create a tuple that includes data of your choice, with at least two duplicate items.\n",
        "\n",
        "Create a script that searches the tuple for duplicate items and displays appropriate output each time the search terms are found."
      ]
    },
    {
      "cell_type": "code",
      "execution_count": 3,
      "metadata": {
        "id": "JiJ5Aop-08Fq",
        "outputId": "461c4f06-6e80-488e-b0c3-e60ae82e69db",
        "colab": {
          "base_uri": "https://localhost:8080/"
        }
      },
      "outputs": [
        {
          "output_type": "stream",
          "name": "stdout",
          "text": [
            "We found the name Mike 1 times on the list\n",
            "We found the name Mike 2 times on the list\n"
          ]
        }
      ],
      "source": [
        "# your code here\n",
        "l = (\"Kate\", \"Jennifer\", \"Mike\", \"Pete\", \"Alex\", \"Mike\")\n",
        "s = \"Mike\"\n",
        "f=0\n",
        "for i in l:\n",
        "  if(s==i):\n",
        "    f+=1\n",
        "    print(\"We found the name {} {} times on the list\".format(s,f))\n",
        "if(f==0):\n",
        "  print(\"{} not on the list\".format(s))"
      ]
    },
    {
      "cell_type": "markdown",
      "metadata": {
        "id": "jiQ3QSFn08Fq"
      },
      "source": [
        "## Practice 3a\n",
        "Now let's try a customized search using a string.\n",
        "\n",
        "We'll start with a longer string, such as the first sentence from Edgar Allan Poe's story <a href=\"https://www.gutenberg.org/ebooks/932\" target=\"_blank\">The House of Usher</a>, as published in Project Gutenberg.\n",
        "\n",
        "Create a script that performs the following tasks:\n",
        "* Prompt the user for a single character.\n",
        "* Search the string for that character.\n",
        "    * If the character does not appear in the string, display a message to inform the user.\n",
        "    * If the string does appear in the string, print a statement for each instance of the character"
      ]
    },
    {
      "cell_type": "code",
      "execution_count": 5,
      "metadata": {
        "id": "Uyf0s6D308Fr",
        "outputId": "9fbebd11-1ea0-43a4-b88a-643b44a5d40e",
        "colab": {
          "base_uri": "https://localhost:8080/"
        }
      },
      "outputs": [
        {
          "output_type": "stream",
          "name": "stdout",
          "text": [
            "During the whole of a dull, dark, and soundless day in the autumn of the year, when the clouds hung oppressively low in the heavens, I had been passing alone, on horseback, through a singularly dreary tract of country; and at length found myself, as the shades of the evening drew on, within view of the melancholy House of Usher.\n",
            "dark,\n",
            "year,\n",
            "singularly\n",
            "dreary\n"
          ]
        }
      ],
      "source": [
        "#create a string\n",
        "#because this string is very long, we use \\ at the end of each line \n",
        " #to continue the text to the next line\n",
        "#Python ignores the \\ character\n",
        "string_1 = \"During the whole of a dull, dark, and soundless day in the \\\n",
        "autumn of the year, when the clouds hung oppressively low in the \\\n",
        "heavens, I had been passing alone, on horseback, through a \\\n",
        "singularly dreary tract of country; and at length found myself, \\\n",
        "as the shades of the evening drew on, within view of the \\\n",
        "melancholy House of Usher.\"\n",
        "\n",
        "print(string_1)\n",
        "\n",
        "# your code here\n",
        "inp=\"ar\"\n",
        "l = string_1.split(\" \")\n",
        "c=0\n",
        "for i in l:\n",
        "  if(inp.lower() in i.lower()):\n",
        "    print(i)"
      ]
    },
    {
      "cell_type": "markdown",
      "metadata": {
        "id": "WWMHKHAW08Fr"
      },
      "source": [
        "## Practice 3b\n",
        "Refactor the code in the previous practice exercise so that the user can enter a character in uppercase or lowercase and Python will find each instance of that character, regardless of its case in the original text. \n",
        "\n",
        "For example, the user can enter either \"i\" or \"I\" and Python will find all instances of the letter \"i\" or \"I\" in the string in the same search."
      ]
    },
    {
      "cell_type": "code",
      "execution_count": null,
      "metadata": {
        "id": "AP1jSPuN08Fs"
      },
      "outputs": [],
      "source": [
        "# Copy your code from the previous practice and paste the code here\n",
        "# Make changes to the copied code\n",
        "inp=\"ar\"\n",
        "l = string_1.split(\" \")\n",
        "c=0\n",
        "for i in l:\n",
        "  if(inp.lower() in i.lower()):\n",
        "    print(i)"
      ]
    },
    {
      "cell_type": "markdown",
      "metadata": {
        "id": "1oM__Eqg08Fs"
      },
      "source": [
        "## Search Challenge\n",
        "Now let's put together a bunch of individual concepts into a single script.\n",
        "\n",
        "The tuple below contains the abbreviations of all states in the USA.\n",
        "\n",
        "Using the values in the tuple as a starting point, create three new lists:\n",
        "- one list contains all states that start with N\n",
        "- one list contains all states that start with W\n",
        "- one list contains all states that start with A\n",
        "\n",
        "The lists should be generated by asking Python to look at the initial letter of each abbreviation and performing a set of instructions based on that letter. Do NOT use slicing techniques to extract multiple values at the same time.\n",
        "\n",
        "Print each list one time.\n",
        "\n",
        "**Tip**: This is a complex problem that requires several individual steps completed in the correct order. It can help to write out the steps first, using pseudocode or something similar, and then make sure the steps are in a logical order. Complete the code for the first list to make sure it works before attempting the other two lists."
      ]
    },
    {
      "cell_type": "code",
      "execution_count": 12,
      "metadata": {
        "id": "EXcp4MTq08Ft",
        "outputId": "c869d6f8-b2d7-47ab-bd8c-f6eed802eab6",
        "colab": {
          "base_uri": "https://localhost:8080/"
        }
      },
      "outputs": [
        {
          "output_type": "stream",
          "name": "stdout",
          "text": [
            "['NE', 'NV', 'NH', 'NJ', 'NM', 'NY', 'NC', 'ND']\n",
            "['WA', 'WV', 'WI', 'WY']\n",
            "['AL', 'AK', 'AZ', 'AR']\n"
          ]
        }
      ],
      "source": [
        "states = (\"AL\", \"AK\", \"AZ\", \"AR\", \"CA\", \"CO\", \"CT\", \"DC\", \"FL\", \"GA\", \n",
        "          \"HI\", \"ID\", \"IL\", \"IN\", \"IA\", \"KS\", \"KY\", \"LA\", \"ME\", \"MD\", \n",
        "          \"MA\", \"MI\", \"MN\", \"MS\", \"MO\", \"MT\", \"NE\", \"NV\", \"NH\", \"NJ\", \n",
        "          \"NM\", \"NY\", \"NC\", \"ND\", \"OH\", \"OK\", \"OR\", \"PA\", \"RI\", \"SC\", \n",
        "          \"SD\", \"TN\", \"TX\", \"UT\", \"VT\", \"VA\", \"WA\", \"WV\", \"WI\", \"WY\")\n",
        "\n",
        "# your code here\n",
        "n=[]\n",
        "w=[]\n",
        "a=[]\n",
        "for s in states:\n",
        "  \n",
        "  if(s[0]=='A'):\n",
        "    a.append(s)\n",
        "  elif(s[0]=='N'):\n",
        "    n.append(s)\n",
        "  elif(s[0]=='W'):\n",
        "    w.append(s)\n",
        "print(n)\n",
        "print(w)\n",
        "print(a)\n"
      ]
    },
    {
      "cell_type": "code",
      "source": [
        ""
      ],
      "metadata": {
        "id": "4a_2-PLEkwer"
      },
      "execution_count": null,
      "outputs": []
    }
  ],
  "metadata": {
    "kernelspec": {
      "display_name": "Python 3",
      "language": "python",
      "name": "python3"
    },
    "language_info": {
      "codemirror_mode": {
        "name": "ipython",
        "version": 3
      },
      "file_extension": ".py",
      "mimetype": "text/x-python",
      "name": "python",
      "nbconvert_exporter": "python",
      "pygments_lexer": "ipython3",
      "version": "3.7.3"
    },
    "colab": {
      "name": "Worksheet 2B - Searching Collections.ipynb",
      "provenance": [],
      "include_colab_link": true
    }
  },
  "nbformat": 4,
  "nbformat_minor": 0
}