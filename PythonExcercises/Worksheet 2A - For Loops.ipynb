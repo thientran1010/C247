{
  "cells": [
    {
      "cell_type": "markdown",
      "metadata": {
        "id": "Bdqqf9C307bv"
      },
      "source": [
        "# Worksheet 2A - For Loops\n",
        "This worksheet corresponds to *Lesson 2A: For Loops* in the online course. Refer to that lesson as necessary to complete the practice activities here."
      ]
    },
    {
      "cell_type": "markdown",
      "metadata": {
        "id": "0BeuQ3w_07by"
      },
      "source": [
        "## Practice 1 \n",
        "Fix the following code to display the list items one at a time."
      ]
    },
    {
      "cell_type": "code",
      "execution_count": 1,
      "metadata": {
        "id": "1hc5QsDy07bz",
        "outputId": "fd3ce159-2a9a-4d33-af7a-b412b2b60e1b",
        "colab": {
          "base_uri": "https://localhost:8080/"
        }
      },
      "outputs": [
        {
          "output_type": "stream",
          "name": "stdout",
          "text": [
            "John\n",
            "Smith\n",
            "123 East Main Street\n",
            "Boston\n",
            "Junior Software Developer\n"
          ]
        }
      ],
      "source": [
        "info = [\"John\",\"Smith\",\"123 East Main Street\",\"Boston\",\"Junior Software Developer\"]\n",
        "for i in info:\n",
        "    print(i)"
      ]
    },
    {
      "cell_type": "markdown",
      "metadata": {
        "id": "3XjuQp2J07b0"
      },
      "source": [
        "## Practice 2 \n",
        "Fix the following code to display the tuple items one at a time."
      ]
    },
    {
      "cell_type": "code",
      "execution_count": 2,
      "metadata": {
        "id": "DgeSLo1107b1",
        "outputId": "a8c696e3-d026-4695-9a24-f575c643ba67",
        "colab": {
          "base_uri": "https://localhost:8080/"
        }
      },
      "outputs": [
        {
          "output_type": "stream",
          "name": "stdout",
          "text": [
            "John\n",
            "Smith\n",
            "123 East Main Street\n",
            "Boston\n",
            "Junior Software Developer\n"
          ]
        }
      ],
      "source": [
        "info = (\"John\",\"Smith\",\"123 East Main Street\",\"Boston\",\"Junior Software Developer\")\n",
        "for i in info:\n",
        "    print(i)"
      ]
    },
    {
      "cell_type": "markdown",
      "metadata": {
        "id": "F_ol_qJd07b1"
      },
      "source": [
        "## Practice 3\n",
        "Complete the following script so that it iterates through the characters in the variable `name` and displays each character in upper case."
      ]
    },
    {
      "cell_type": "code",
      "execution_count": 3,
      "metadata": {
        "id": "IUpLy-E407b2",
        "outputId": "17ff7592-d473-4c73-a576-4d4558e183f3",
        "colab": {
          "base_uri": "https://localhost:8080/"
        }
      },
      "outputs": [
        {
          "output_type": "stream",
          "name": "stdout",
          "text": [
            "P\n",
            "A\n",
            "T\n",
            "R\n",
            "I\n",
            "C\n",
            "K\n"
          ]
        }
      ],
      "source": [
        "name = \"Patrick\"\n",
        "\n",
        "# add code here\n",
        "for i in name:\n",
        "  print(i.upper())"
      ]
    },
    {
      "cell_type": "code",
      "source": [
        ""
      ],
      "metadata": {
        "id": "uW6KGwwBh362"
      },
      "execution_count": null,
      "outputs": []
    }
  ],
  "metadata": {
    "kernelspec": {
      "display_name": "Python 3",
      "language": "python",
      "name": "python3"
    },
    "language_info": {
      "codemirror_mode": {
        "name": "ipython",
        "version": 3
      },
      "file_extension": ".py",
      "mimetype": "text/x-python",
      "name": "python",
      "nbconvert_exporter": "python",
      "pygments_lexer": "ipython3",
      "version": "3.7.3"
    },
    "colab": {
      "name": "Worksheet 2A - For Loops.ipynb",
      "provenance": []
    }
  },
  "nbformat": 4,
  "nbformat_minor": 0
}