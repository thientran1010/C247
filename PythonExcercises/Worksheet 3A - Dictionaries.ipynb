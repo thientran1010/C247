{
  "cells": [
    {
      "cell_type": "markdown",
      "metadata": {
        "id": "1MP1gbWSrHDl"
      },
      "source": [
        "# Worksheet 3A: Dictionaries\n",
        "This worksheet corresponds to *Lesson 3A: Dictionaries* in the online course. Refer to that lesson as necessary to complete these practice exercises."
      ]
    },
    {
      "cell_type": "markdown",
      "metadata": {
        "id": "2IuacaGKrHDn"
      },
      "source": [
        "## Practice 1a\n",
        "Starting with the dictionary below, add another record with the same key as an existing record, such as \"X10001\": \"Mary\". Before running the updated code, predict what you think will happen, keeping in mind that a dictionary cannot include the same key in more than one record.\n",
        "\n",
        "Was your prediction correct?"
      ]
    },
    {
      "cell_type": "code",
      "execution_count": 2,
      "metadata": {
        "id": "tCEpBnn2rHDo",
        "outputId": "e05c2d57-a5a4-47e7-eeed-a8e45315c21a",
        "colab": {
          "base_uri": "https://localhost:8080/"
        }
      },
      "outputs": [
        {
          "output_type": "stream",
          "name": "stdout",
          "text": [
            "{'X10000': 'Michael', 'X10002': 'Neil', 'X10001': 'Karen'}\n",
            "{'X10000': 'Michael', 'X10002': 'Neil', 'X10001': 'Mary'}\n"
          ]
        }
      ],
      "source": [
        "students_dict = dict()\n",
        "students_dict['X10000'] = 'Michael' #Assign the key X10000,the value Michael\n",
        "students_dict['X10002'] = 'Neil' #Assign the key X10002,the value Neil\n",
        "students_dict['X10001'] = 'Karen' #Assign the key X10001,the value Karen\n",
        "\n",
        "print(students_dict)\n",
        "students_dict.update({'X10001':\"Mary\"})\n",
        "print(students_dict)"
      ]
    },
    {
      "cell_type": "markdown",
      "metadata": {
        "id": "MD8SmKUQrHDp"
      },
      "source": [
        "## Practice 1b\n",
        "Create a dictionary that contains key-value pairs of your choice. The dictionary should have at least four key-value pairs. Make sure to use meaningful keys and values, so you would eventually be able to look up a value using its key.\n",
        "\n",
        "Suggestions include:\n",
        "* Names and phone numbers\n",
        "* Menu prices\n",
        "* RPG players and roles\n",
        "* Text acronyms and their meanings\n",
        "\n",
        "Remember that each key must be unique in the dictionary. However, key-value pairs can be added in any order."
      ]
    },
    {
      "cell_type": "code",
      "execution_count": 3,
      "metadata": {
        "id": "fda3B3R8rHDp"
      },
      "outputs": [],
      "source": [
        "# your code here\n",
        "students_dict['X10000'] = 'Michael' #Assign the key X10000,the value Michael\n",
        "students_dict['X10002'] = 'Neil' #Assign the key X10002,the value Neil\n",
        "students_dict['X10001'] = 'Karen' #Assign the key X10001,the value Karen\n",
        "students_dict['X10003'] = 'Mary' #Assign the key X10001,the value Karen\n"
      ]
    },
    {
      "cell_type": "markdown",
      "metadata": {
        "id": "05Az0ulNrHDq"
      },
      "source": [
        "## Practice 2\n",
        "Use the two lists below to create a dictionary where the state abbreviations are used as keys and the values are the respective populations. \n",
        "\n",
        "The state and population lists are in the same order, e.g.,  CA has a population of 39557045.\n",
        "\n",
        "After creating the dictionary, retrieve the population of each state individually."
      ]
    },
    {
      "cell_type": "code",
      "execution_count": 7,
      "metadata": {
        "id": "Qpt1UfUhrHDq",
        "outputId": "f2fe00ec-9e21-412d-b23f-83fd25b042fc",
        "colab": {
          "base_uri": "https://localhost:8080/"
        }
      },
      "outputs": [
        {
          "output_type": "stream",
          "name": "stdout",
          "text": [
            "{'CA': 39557045, 'NY': 19542209, 'KY': 4468402}\n"
          ]
        }
      ],
      "source": [
        "states = ['CA', 'NY', 'KY']\n",
        "population  = [39557045,19542209,4468402]\n",
        "\n",
        "# your code here\n",
        "dict_={}\n",
        "for i in range(len(states)):\n",
        "  dict_[states[i]]=population[i]\n",
        "print(dict_)"
      ]
    },
    {
      "cell_type": "markdown",
      "metadata": {
        "id": "289k2W5qrHDr"
      },
      "source": [
        "## Practice 3\n",
        "Write a script that creates a dictionary and then uses a `for` loop to display the individual values in the dictionary.\n",
        "\n",
        "You can use the practice dictionary you created earlier in this lesson, if you wish."
      ]
    },
    {
      "cell_type": "code",
      "execution_count": 9,
      "metadata": {
        "id": "iBbA3yvzrHDr",
        "outputId": "bd39f7bb-d291-48aa-adcf-30cd54539a98",
        "colab": {
          "base_uri": "https://localhost:8080/"
        }
      },
      "outputs": [
        {
          "output_type": "stream",
          "name": "stdout",
          "text": [
            "39557045\n",
            "19542209\n",
            "4468402\n"
          ]
        }
      ],
      "source": [
        "# your code here  \n",
        "states = ['CA', 'NY', 'KY']\n",
        "population  = [39557045,19542209,4468402]\n",
        "dict_={}\n",
        "for i in range(len(states)):\n",
        "  dict_[states[i]]=population[i]\n",
        "\n",
        "for i,v in dict_.items():\n",
        "  print(v)"
      ]
    },
    {
      "cell_type": "markdown",
      "metadata": {
        "id": "04cDEJRirHDr"
      },
      "source": [
        "## Practice 4\n",
        "Create a program that asks the user for a series of key-value pairs and assigns each pair to the same dictionary. Display the contents of the dictionary in  the last step, in the format \"key: value,\" with each key-value pair on a separate line."
      ]
    },
    {
      "cell_type": "code",
      "execution_count": null,
      "metadata": {
        "id": "JXLtPT8NrHDs"
      },
      "outputs": [],
      "source": [
        "# your code here"
      ]
    },
    {
      "cell_type": "markdown",
      "metadata": {
        "id": "ZAhSC6yXrHDs"
      },
      "source": [
        "## Practice 5\n",
        "The code below includes two lists: one for each state's abbreviation and the other for the full name of each state. Each list presents the states in the same order.\n",
        "\n",
        "Transform the lists into a single dictionary of key-value pairs, where:\n",
        "* The key is the state abbreviation\n",
        "* The value is the full state name\n",
        "\n",
        "Print the list of states from the dictionary, displaying both the abbreviation and the name of the state in the output."
      ]
    },
    {
      "cell_type": "code",
      "execution_count": 10,
      "metadata": {
        "id": "F8asdspTrHDs",
        "outputId": "e3f4b47e-0cce-4771-8de3-100491c92fd4",
        "colab": {
          "base_uri": "https://localhost:8080/"
        }
      },
      "outputs": [
        {
          "output_type": "stream",
          "name": "stdout",
          "text": [
            "{'AL': 'Alabama', 'AK': 'Alaska', 'AZ': 'Arizona', 'AR': 'Arkansas', 'CA': 'California', 'CO': 'Colorado', 'CT': 'Connecticut', 'DE': 'Delaware', 'FL': 'Florida', 'GA': 'Georgia', 'HI': 'Hawaii', 'ID': 'Idaho', 'IL': 'Illinois', 'IN': 'Indiana', 'IA': 'Iowa', 'KS': 'Kansas', 'KY': 'Kentucky', 'LA': 'Louisiana', 'ME': 'Maine', 'MD': 'Maryland', 'MA': 'Massachusetts', 'MI': 'Michigan', 'MN': 'Minnesota', 'MS': 'Mississippi', 'MO': 'Missouri', 'MT': 'Montana', 'NE': 'Nebraska', 'NV': 'Nevada', 'NH': 'New Hampshire', 'NJ': 'New Jersey', 'NM': 'New Mexico', 'NY': 'New York', 'NC': 'North Carolina', 'ND': 'North Dakota', 'OH': 'Ohio', 'OK': 'Oklahoma', 'OR': 'Oregon', 'PA': 'Pennsylvania', 'RI': 'Rhode Island', 'SC': 'South Carolina', 'SD': 'South Dakota', 'TN': 'Tennessee', 'TX': 'Texas', 'UT': 'Utah', 'VT': 'Vermont', 'VA': 'Virginia', 'WA': 'Washington', 'WV': 'West Virginia', 'WI': 'Wisconsin', 'WY': 'Wyoming'}\n"
          ]
        }
      ],
      "source": [
        "states_abbrev = [\"AL\", \"AK\", \"AZ\", \"AR\", \"CA\", \"CO\", \"CT\", \"DE\", \"FL\", \"GA\", \n",
        "          \"HI\", \"ID\", \"IL\", \"IN\", \"IA\", \"KS\", \"KY\", \"LA\", \"ME\", \"MD\", \n",
        "          \"MA\", \"MI\", \"MN\", \"MS\", \"MO\", \"MT\", \"NE\", \"NV\", \"NH\", \"NJ\", \n",
        "          \"NM\", \"NY\", \"NC\", \"ND\", \"OH\", \"OK\", \"OR\", \"PA\", \"RI\", \"SC\", \n",
        "          \"SD\", \"TN\", \"TX\", \"UT\", \"VT\", \"VA\", \"WA\", \"WV\", \"WI\", \"WY\"]\n",
        "\n",
        "states_full = [\"Alabama\", \"Alaska\", \"Arizona\", \"Arkansas\", \"California\", \"Colorado\",\n",
        "  \"Connecticut\", \"Delaware\", \"Florida\", \"Georgia\", \"Hawaii\", \"Idaho\", \"Illinois\",\n",
        "  \"Indiana\", \"Iowa\", \"Kansas\", \"Kentucky\", \"Louisiana\", \"Maine\", \"Maryland\",\n",
        "  \"Massachusetts\", \"Michigan\", \"Minnesota\", \"Mississippi\", \"Missouri\", \"Montana\",\n",
        "  \"Nebraska\", \"Nevada\", \"New Hampshire\", \"New Jersey\", \"New Mexico\", \"New York\",\n",
        "  \"North Carolina\", \"North Dakota\", \"Ohio\", \"Oklahoma\", \"Oregon\", \"Pennsylvania\",\n",
        "  \"Rhode Island\", \"South Carolina\", \"South Dakota\", \"Tennessee\", \"Texas\", \"Utah\",\n",
        "  \"Vermont\", \"Virginia\", \"Washington\", \"West Virginia\", \"Wisconsin\", \"Wyoming\"]\n",
        "\n",
        "# your code here\n",
        "d = {}\n",
        "for i in range(len(states_abbrev)):\n",
        "  d[states_abbrev[i]]=states_full[i]\n",
        "print(d)"
      ]
    },
    {
      "cell_type": "markdown",
      "metadata": {
        "id": "umHyA4KArHDt"
      },
      "source": [
        "##  Practice 6\n",
        "Now let's do the opposite of the last practice activity.\n",
        "\n",
        "Transform the dictionary below into two separate lists. One list should contain the state abbreviations, and the other one should contain the full name of each state. You must preserve the same order in both lists. \n",
        "\n",
        "Print both lists after they have been generated."
      ]
    },
    {
      "cell_type": "code",
      "execution_count": 12,
      "metadata": {
        "id": "rTTl-GRJrHDt",
        "outputId": "25b448bb-1c9f-4e76-b525-a341e0e5424f",
        "colab": {
          "base_uri": "https://localhost:8080/"
        }
      },
      "outputs": [
        {
          "output_type": "stream",
          "name": "stdout",
          "text": [
            "['AK', 'AL', 'AR', 'AS', 'AZ', 'CA', 'CO', 'CT', 'DC', 'DE', 'FL', 'GA', 'GU', 'HI', 'IA', 'ID', 'IL', 'IN', 'KS', 'KY', 'LA', 'MA', 'MD', 'ME', 'MI', 'MN', 'MO', 'MP', 'MS', 'MT', 'NA', 'NC', 'ND', 'NE', 'NH', 'NJ', 'NM', 'NV', 'NY', 'OH', 'OK', 'OR', 'PA', 'PR', 'RI', 'SC', 'SD', 'TN', 'TX', 'UT', 'VA', 'VI', 'VT', 'WA', 'WI', 'WV', 'WY']\n",
            "['Alaska', 'Alabama', 'Arkansas', 'American Samoa', 'Arizona', 'California', 'Colorado', 'Connecticut', 'District of Columbia', 'Delaware', 'Florida', 'Georgia', 'Guam', 'Hawaii', 'Iowa', 'Idaho', 'Illinois', 'Indiana', 'Kansas', 'Kentucky', 'Louisiana', 'Massachusetts', 'Maryland', 'Maine', 'Michigan', 'Minnesota', 'Missouri', 'Northern Mariana Islands', 'Mississippi', 'Montana', 'National', 'North Carolina', 'North Dakota', 'Nebraska', 'New Hampshire', 'New Jersey', 'New Mexico', 'Nevada', 'New York', 'Ohio', 'Oklahoma', 'Oregon', 'Pennsylvania', 'Puerto Rico', 'Rhode Island', 'South Carolina', 'South Dakota', 'Tennessee', 'Texas', 'Utah', 'Virginia', 'Virgin Islands', 'Vermont', 'Washington', 'Wisconsin', 'West Virginia', 'Wyoming']\n"
          ]
        }
      ],
      "source": [
        "states = {\n",
        "        'AK': 'Alaska',\n",
        "        'AL': 'Alabama',\n",
        "        'AR': 'Arkansas',\n",
        "        'AS': 'American Samoa',\n",
        "        'AZ': 'Arizona',\n",
        "        'CA': 'California',\n",
        "        'CO': 'Colorado',\n",
        "        'CT': 'Connecticut',\n",
        "        'DC': 'District of Columbia',\n",
        "        'DE': 'Delaware',\n",
        "        'FL': 'Florida',\n",
        "        'GA': 'Georgia',\n",
        "        'GU': 'Guam',\n",
        "        'HI': 'Hawaii',\n",
        "        'IA': 'Iowa',\n",
        "        'ID': 'Idaho',\n",
        "        'IL': 'Illinois',\n",
        "        'IN': 'Indiana',\n",
        "        'KS': 'Kansas',\n",
        "        'KY': 'Kentucky',\n",
        "        'LA': 'Louisiana',\n",
        "        'MA': 'Massachusetts',\n",
        "        'MD': 'Maryland',\n",
        "        'ME': 'Maine',\n",
        "        'MI': 'Michigan',\n",
        "        'MN': 'Minnesota',\n",
        "        'MO': 'Missouri',\n",
        "        'MP': 'Northern Mariana Islands',\n",
        "        'MS': 'Mississippi',\n",
        "        'MT': 'Montana',\n",
        "        'NA': 'National',\n",
        "        'NC': 'North Carolina',\n",
        "        'ND': 'North Dakota',\n",
        "        'NE': 'Nebraska',\n",
        "        'NH': 'New Hampshire',\n",
        "        'NJ': 'New Jersey',\n",
        "        'NM': 'New Mexico',\n",
        "        'NV': 'Nevada',\n",
        "        'NY': 'New York',\n",
        "        'OH': 'Ohio',\n",
        "        'OK': 'Oklahoma',\n",
        "        'OR': 'Oregon',\n",
        "        'PA': 'Pennsylvania',\n",
        "        'PR': 'Puerto Rico',\n",
        "        'RI': 'Rhode Island',\n",
        "        'SC': 'South Carolina',\n",
        "        'SD': 'South Dakota',\n",
        "        'TN': 'Tennessee',\n",
        "        'TX': 'Texas',\n",
        "        'UT': 'Utah',\n",
        "        'VA': 'Virginia',\n",
        "        'VI': 'Virgin Islands',\n",
        "        'VT': 'Vermont',\n",
        "        'WA': 'Washington',\n",
        "        'WI': 'Wisconsin',\n",
        "        'WV': 'West Virginia',\n",
        "        'WY': 'Wyoming'\n",
        "}\n",
        "\n",
        "# your code here\n",
        "s=[]\n",
        "v=[]\n",
        "for i,ii in states.items():\n",
        "  s.append(i)\n",
        "  v.append(ii)\n",
        "print(s)\n",
        "print(v)"
      ]
    },
    {
      "cell_type": "markdown",
      "metadata": {
        "id": "S2CfRQL0rHDt"
      },
      "source": [
        "## Practice 7\n",
        "Complete the program below to include the following steps: \n",
        "* Ask the user for a state abbreviation.\n",
        "* Display the full name of the state if it exists in the dictionary or an error message if the abbreviation does not exist in the dictionary."
      ]
    },
    {
      "cell_type": "code",
      "execution_count": 15,
      "metadata": {
        "id": "IXw8rBJprHDu",
        "outputId": "bd3172fe-7a1e-4f0f-955b-0048b1143d0a",
        "colab": {
          "base_uri": "https://localhost:8080/"
        }
      },
      "outputs": [
        {
          "output_type": "stream",
          "name": "stdout",
          "text": [
            "NOT FOUND\n"
          ]
        }
      ],
      "source": [
        "states = {\n",
        "        'AK': 'Alaska',\n",
        "        'AL': 'Alabama',\n",
        "        'AR': 'Arkansas',\n",
        "        'AS': 'American Samoa',\n",
        "        'AZ': 'Arizona',\n",
        "        'CA': 'California',\n",
        "        'CO': 'Colorado',\n",
        "        'CT': 'Connecticut',\n",
        "        'DE': 'Delaware',\n",
        "        'FL': 'Florida',\n",
        "        'GA': 'Georgia',\n",
        "        'GU': 'Guam',\n",
        "        'HI': 'Hawaii',\n",
        "        'IA': 'Iowa',\n",
        "        'ID': 'Idaho',\n",
        "        'IL': 'Illinois',\n",
        "        'IN': 'Indiana',\n",
        "        'KS': 'Kansas',\n",
        "        'KY': 'Kentucky',\n",
        "        'LA': 'Louisiana',\n",
        "        'MA': 'Massachusetts',\n",
        "        'MD': 'Maryland',\n",
        "        'ME': 'Maine',\n",
        "        'MI': 'Michigan',\n",
        "        'MN': 'Minnesota',\n",
        "        'MO': 'Missouri',\n",
        "        'MP': 'Northern Mariana Islands',\n",
        "        'MS': 'Mississippi',\n",
        "        'MT': 'Montana',\n",
        "        'NA': 'National',\n",
        "        'NC': 'North Carolina',\n",
        "        'ND': 'North Dakota',\n",
        "        'NE': 'Nebraska',\n",
        "        'NH': 'New Hampshire',\n",
        "        'NJ': 'New Jersey',\n",
        "        'NM': 'New Mexico',\n",
        "        'NV': 'Nevada',\n",
        "        'NY': 'New York',\n",
        "        'OH': 'Ohio',\n",
        "        'OK': 'Oklahoma',\n",
        "        'OR': 'Oregon',\n",
        "        'PA': 'Pennsylvania',\n",
        "        'PR': 'Puerto Rico',\n",
        "        'RI': 'Rhode Island',\n",
        "        'SC': 'South Carolina',\n",
        "        'SD': 'South Dakota',\n",
        "        'TN': 'Tennessee',\n",
        "        'TX': 'Texas',\n",
        "        'UT': 'Utah',\n",
        "        'VA': 'Virginia',\n",
        "        'VI': 'Virgin Islands',\n",
        "        'VT': 'Vermont',\n",
        "        'WA': 'Washington',\n",
        "        'WI': 'Wisconsin',\n",
        "        'WV': 'West Virginia',\n",
        "        'WY': 'Wyoming'\n",
        "}\n",
        "\n",
        "# your code here\n",
        "inp = 'CC'\n",
        "if inp in states:\n",
        "  print(states[inp])\n",
        "else:\n",
        "  print(\"NOT FOUND\")"
      ]
    },
    {
      "cell_type": "markdown",
      "metadata": {
        "id": "QCzYcKCjrHDu"
      },
      "source": [
        "## Practice 8\n",
        "Add the `clear` method in the program below to empty the dictionary and include only the key-value pair `('X10002','Karen')`.  \n",
        "\n",
        "**Hint**: Do not add the Karen record more than one time."
      ]
    },
    {
      "cell_type": "code",
      "execution_count": 18,
      "metadata": {
        "id": "iLnGYmOFrHDu",
        "outputId": "9a601ca5-fb97-4bb0-90f5-044d42f9f43b",
        "colab": {
          "base_uri": "https://localhost:8080/"
        }
      },
      "outputs": [
        {
          "output_type": "stream",
          "name": "stdout",
          "text": [
            "{'X10000': 'Michael', 'X10001': 'Neil', 'X10002': 'Karen'}\n",
            "{'X10002': 'Karen'}\n"
          ]
        }
      ],
      "source": [
        "# your code here \n",
        "\n",
        "students_dict = dict()\n",
        "students_dict['X10000']='Michael'\n",
        "students_dict['X10001']='Neil'\n",
        "#students_dict['X10002']='Karen'\n",
        "\n",
        "print(students_dict)\n",
        "students_dict.clear()\n",
        "students_dict['X10002']='Karen'\n",
        "\n",
        "print(students_dict)\n"
      ]
    },
    {
      "cell_type": "markdown",
      "metadata": {
        "id": "1620vdhPrHDv"
      },
      "source": [
        "## Practice 9\n",
        "Using the following code as your starting point, complete the following steps:\n",
        "* Create a copy of the `states` dictionary. \n",
        "* Add key-value pairs that represent US districts and territories to the new dictionary.\n",
        " \n",
        "Use this list of districts and territories:\n",
        "* AS: American Samoa\n",
        "* DC: District of Columbia\n",
        "* GU: Guam\n",
        "* NMI: Northern Mariana Islands\n",
        "* PR: Puerto Rico\n",
        "* USVI: U.S. Virgin Islands"
      ]
    },
    {
      "cell_type": "code",
      "execution_count": 21,
      "metadata": {
        "id": "FaN-B8gDrHDv"
      },
      "outputs": [],
      "source": [
        "states = {\n",
        "        'AK': 'Alaska',\n",
        "        'AL': 'Alabama',\n",
        "        'AR': 'Arkansas',\n",
        "        'AZ': 'Arizona',\n",
        "        'CA': 'California',\n",
        "        'CO': 'Colorado',\n",
        "        'CT': 'Connecticut',\n",
        "        'DE': 'Delaware',\n",
        "        'FL': 'Florida',\n",
        "        'GA': 'Georgia',\n",
        "        'HI': 'Hawaii',\n",
        "        'IA': 'Iowa',\n",
        "        'ID': 'Idaho',\n",
        "        'IL': 'Illinois',\n",
        "        'IN': 'Indiana',\n",
        "        'KS': 'Kansas',\n",
        "        'KY': 'Kentucky',\n",
        "        'LA': 'Louisiana',\n",
        "        'MA': 'Massachusetts',\n",
        "        'MD': 'Maryland',\n",
        "        'ME': 'Maine',\n",
        "        'MI': 'Michigan',\n",
        "        'MN': 'Minnesota',\n",
        "        'MO': 'Missouri',\n",
        "        'MP': 'Northern Mariana Islands',\n",
        "        'MS': 'Mississippi',\n",
        "        'MT': 'Montana',\n",
        "        'NA': 'National',\n",
        "        'NC': 'North Carolina',\n",
        "        'ND': 'North Dakota',\n",
        "        'NE': 'Nebraska',\n",
        "        'NH': 'New Hampshire',\n",
        "        'NJ': 'New Jersey',\n",
        "        'NM': 'New Mexico',\n",
        "        'NV': 'Nevada',\n",
        "        'NY': 'New York',\n",
        "        'OH': 'Ohio',\n",
        "        'OK': 'Oklahoma',\n",
        "        'OR': 'Oregon',\n",
        "        'PA': 'Pennsylvania',\n",
        "        'RI': 'Rhode Island',\n",
        "        'SC': 'South Carolina',\n",
        "        'SD': 'South Dakota',\n",
        "        'TN': 'Tennessee',\n",
        "        'TX': 'Texas',\n",
        "        'UT': 'Utah',\n",
        "        'VA': 'Virginia',\n",
        "        'VI': 'Virgin Islands',\n",
        "        'VT': 'Vermont',\n",
        "        'WA': 'Washington',\n",
        "        'WI': 'Wisconsin',\n",
        "        'WV': 'West Virginia',\n",
        "        'WY': 'Wyoming'\n",
        "}\n",
        "\n",
        "# your code here\n",
        "a = states.copy()\n",
        "a.update({'AS':' American Samoa'}) \n",
        "a.update({'DC':' District of Columbia'}) \n",
        "a.update({'GU':' Guam'}) \n",
        "a.update({'NMI':' Northern Mariana Islands'}) \n",
        "a.update({'PR':' Puerto Rico'}) \n",
        "a.update({'USVI':' U.S. Virgin Islands'})"
      ]
    },
    {
      "cell_type": "markdown",
      "metadata": {
        "id": "jCXs44jjrHDv"
      },
      "source": [
        "## Practice 10\n",
        "Using the `states` dictionary defined below, move all states that start with M to a new dictionary.\n",
        "\n",
        "Requirements:\n",
        "* The new dictionary should include the abbreviation and name for each state moved out of the `states` dictionary.\n",
        "* Use the `pop()` method to remove the states from the `states` dictionary.\n"
      ]
    },
    {
      "cell_type": "code",
      "execution_count": 24,
      "metadata": {
        "id": "6A2srs2drHDv",
        "outputId": "5cc0136b-9535-4fe3-8c3c-6e176817fc02",
        "colab": {
          "base_uri": "https://localhost:8080/"
        }
      },
      "outputs": [
        {
          "output_type": "stream",
          "name": "stdout",
          "text": [
            "{'AK': 'Alaska', 'AL': 'Alabama', 'AR': 'Arkansas', 'AS': 'American Samoa', 'AZ': 'Arizona', 'CA': 'California', 'CO': 'Colorado', 'CT': 'Connecticut', 'DE': 'Delaware', 'FL': 'Florida', 'GA': 'Georgia', 'GU': 'Guam', 'HI': 'Hawaii', 'IA': 'Iowa', 'ID': 'Idaho', 'IL': 'Illinois', 'IN': 'Indiana', 'KS': 'Kansas', 'KY': 'Kentucky', 'LA': 'Louisiana', 'NA': 'National', 'NC': 'North Carolina', 'ND': 'North Dakota', 'NE': 'Nebraska', 'NH': 'New Hampshire', 'NJ': 'New Jersey', 'NM': 'New Mexico', 'NV': 'Nevada', 'NY': 'New York', 'OH': 'Ohio', 'OK': 'Oklahoma', 'OR': 'Oregon', 'PA': 'Pennsylvania', 'PR': 'Puerto Rico', 'RI': 'Rhode Island', 'SC': 'South Carolina', 'SD': 'South Dakota', 'TN': 'Tennessee', 'TX': 'Texas', 'UT': 'Utah', 'VA': 'Virginia', 'VI': 'Virgin Islands', 'VT': 'Vermont', 'WA': 'Washington', 'WI': 'Wisconsin', 'WV': 'West Virginia', 'WY': 'Wyoming'}\n",
            "{'MA': 'Massachusetts', 'MD': 'Maryland', 'ME': 'Maine', 'MI': 'Michigan', 'MN': 'Minnesota', 'MO': 'Missouri', 'MP': 'Northern Mariana Islands', 'MS': 'Mississippi', 'MT': 'Montana'}\n"
          ]
        }
      ],
      "source": [
        "states = {\n",
        "        'AK': 'Alaska',\n",
        "        'AL': 'Alabama',\n",
        "        'AR': 'Arkansas',\n",
        "        'AS': 'American Samoa',\n",
        "        'AZ': 'Arizona',\n",
        "        'CA': 'California',\n",
        "        'CO': 'Colorado',\n",
        "        'CT': 'Connecticut',\n",
        "        'DE': 'Delaware',\n",
        "        'FL': 'Florida',\n",
        "        'GA': 'Georgia',\n",
        "        'GU': 'Guam',\n",
        "        'HI': 'Hawaii',\n",
        "        'IA': 'Iowa',\n",
        "        'ID': 'Idaho',\n",
        "        'IL': 'Illinois',\n",
        "        'IN': 'Indiana',\n",
        "        'KS': 'Kansas',\n",
        "        'KY': 'Kentucky',\n",
        "        'LA': 'Louisiana',\n",
        "        'MA': 'Massachusetts',\n",
        "        'MD': 'Maryland',\n",
        "        'ME': 'Maine',\n",
        "        'MI': 'Michigan',\n",
        "        'MN': 'Minnesota',\n",
        "        'MO': 'Missouri',\n",
        "        'MP': 'Northern Mariana Islands',\n",
        "        'MS': 'Mississippi',\n",
        "        'MT': 'Montana',\n",
        "        'NA': 'National',\n",
        "        'NC': 'North Carolina',\n",
        "        'ND': 'North Dakota',\n",
        "        'NE': 'Nebraska',\n",
        "        'NH': 'New Hampshire',\n",
        "        'NJ': 'New Jersey',\n",
        "        'NM': 'New Mexico',\n",
        "        'NV': 'Nevada',\n",
        "        'NY': 'New York',\n",
        "        'OH': 'Ohio',\n",
        "        'OK': 'Oklahoma',\n",
        "        'OR': 'Oregon',\n",
        "        'PA': 'Pennsylvania',\n",
        "        'PR': 'Puerto Rico',\n",
        "        'RI': 'Rhode Island',\n",
        "        'SC': 'South Carolina',\n",
        "        'SD': 'South Dakota',\n",
        "        'TN': 'Tennessee',\n",
        "        'TX': 'Texas',\n",
        "        'UT': 'Utah',\n",
        "        'VA': 'Virginia',\n",
        "        'VI': 'Virgin Islands',\n",
        "        'VT': 'Vermont',\n",
        "        'WA': 'Washington',\n",
        "        'WI': 'Wisconsin',\n",
        "        'WV': 'West Virginia',\n",
        "        'WY': 'Wyoming'\n",
        "}\n",
        "\n",
        "# your code here\n",
        "newstates={}\n",
        "for i,v in states.items():\n",
        "  if(i[0]==\"M\"):\n",
        "    newstates[i]=v\n",
        "for i in newstates.keys():\n",
        "  states.pop(i)\n",
        "print(states)\n",
        "print(newstates)"
      ]
    },
    {
      "cell_type": "markdown",
      "metadata": {
        "id": "U6Et0y7srHDw"
      },
      "source": [
        "## Practice 11\n",
        "Use the `update()` method to change the dictionary below to include information about yourself. Include at least two hobbies and use a random address, if you wish."
      ]
    },
    {
      "cell_type": "code",
      "execution_count": 26,
      "metadata": {
        "id": "bQu24--MrHDw",
        "outputId": "a1afe1d9-b8e2-46dd-e136-49241ed9c8c2",
        "colab": {
          "base_uri": "https://localhost:8080/"
        }
      },
      "outputs": [
        {
          "output_type": "stream",
          "name": "stdout",
          "text": [
            "{'name': 'Robert', 'hobbies': ['fishing', 'dancing'], 'address': '123 Main Street, Louisville, KY'}\n",
            "{'name': 'Thien', 'hobbies': ['soccer', 'gaming'], 'address': '1214 GashVillas, MainRiverDale, LA'}\n"
          ]
        }
      ],
      "source": [
        "info = {\n",
        "  \"name\": \"Robert\",\n",
        "  \"hobbies\": ['fishing','dancing'],\n",
        "  \"address\": \"123 Main Street, Louisville, KY\"\n",
        "}\n",
        "print(info)\n",
        "info.update({\"name\":\"Thien\"})\n",
        "info.update({\"hobbies\":['soccer','gaming']})\n",
        "info.update({\"address\":\"1214 GashVillas, MainRiverDale, LA\"})\n",
        "print(info)"
      ]
    },
    {
      "cell_type": "markdown",
      "metadata": {
        "id": "hCz3uFyOrHDw"
      },
      "source": [
        "## Practice 12\n",
        "Update the program below to include the following tasks:\n",
        "* Ask the user for an input key.\n",
        "* Check if the key exists in the dictionary. If it does, display the value.\n",
        "* If the key doesn't exist, display an appropriate error message. "
      ]
    },
    {
      "cell_type": "code",
      "execution_count": 29,
      "metadata": {
        "id": "0Vo0UxiSrHDw",
        "outputId": "e32c05e9-d833-41b3-d94b-f64bc8ae3eca",
        "colab": {
          "base_uri": "https://localhost:8080/"
        }
      },
      "outputs": [
        {
          "output_type": "stream",
          "name": "stdout",
          "text": [
            "Not found\n"
          ]
        }
      ],
      "source": [
        "info = {\n",
        "  \"name\": \"Robert\",\n",
        "  \"hobbies\": ['fishing','dancing'],\n",
        "  \"address\": \"123 Main Street, Louisville, KY\"\n",
        "}\n",
        "\n",
        "# your code here \n",
        "inp =\"fishing\"\n",
        "if (inp in info):\n",
        "  print(info[inp])\n",
        "else:\n",
        "  print(\"Not found\")"
      ]
    },
    {
      "cell_type": "code",
      "source": [
        ""
      ],
      "metadata": {
        "id": "Cyocgcia1anb"
      },
      "execution_count": null,
      "outputs": []
    }
  ],
  "metadata": {
    "kernelspec": {
      "display_name": "Python 3",
      "language": "python",
      "name": "python3"
    },
    "language_info": {
      "codemirror_mode": {
        "name": "ipython",
        "version": 3
      },
      "file_extension": ".py",
      "mimetype": "text/x-python",
      "name": "python",
      "nbconvert_exporter": "python",
      "pygments_lexer": "ipython3",
      "version": "3.7.3"
    },
    "colab": {
      "name": "Worksheet 3A - Dictionaries.ipynb",
      "provenance": []
    }
  },
  "nbformat": 4,
  "nbformat_minor": 0
}