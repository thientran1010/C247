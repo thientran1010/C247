{
  "nbformat": 4,
  "nbformat_minor": 0,
  "metadata": {
    "colab": {
      "name": "Classes and Objects Self-Assessment: A Simple Calculator.ipynb",
      "provenance": [],
      "authorship_tag": "ABX9TyPko9/qTjlBLCMRKZgHzEFC",
      "include_colab_link": true
    },
    "kernelspec": {
      "name": "python3",
      "display_name": "Python 3"
    },
    "language_info": {
      "name": "python"
    }
  },
  "cells": [
    {
      "cell_type": "markdown",
      "metadata": {
        "id": "view-in-github",
        "colab_type": "text"
      },
      "source": [
        "<a href=\"https://colab.research.google.com/github/thientran1010/C247/blob/main/PythonExcercises/Classes_and_Objects_Self_Assessment_A_Simple_Calculator.ipynb\" target=\"_parent\"><img src=\"https://colab.research.google.com/assets/colab-badge.svg\" alt=\"Open In Colab\"/></a>"
      ]
    },
    {
      "cell_type": "code",
      "execution_count": 4,
      "metadata": {
        "colab": {
          "base_uri": "https://localhost:8080/"
        },
        "id": "J9uBw03DnFI5",
        "outputId": "e51120b8-d970-4431-bc4a-a4c2c4e48c51"
      },
      "outputs": [
        {
          "name": "stdout",
          "output_type": "stream",
          "text": [
            "Enter quit if you want to exit\n",
            "asd\n",
            "Enter the operation in the format a operator b: \n",
            "4 + 1\n",
            "5.0\n",
            "Enter quit if you want to exit\n",
            "asfas\n",
            "Enter the operation in the format a operator b: \n",
            "4 / 2\n",
            "2.0\n",
            "Enter quit if you want to exit\n",
            "exit\n",
            "Enter the operation in the format a operator b: \n",
            "1 + 1\n",
            "2.0\n",
            "Enter quit if you want to exit\n",
            "quit\n"
          ]
        }
      ],
      "source": [
        "import operator\n",
        "ops = {\n",
        "    '+':operator.add,\n",
        "    '-':operator.sub,\n",
        "    '*':operator.mul,\n",
        "    '/':operator.truediv\n",
        "\n",
        "}\n",
        "while(True):\n",
        "  print(\"Enter quit if you want to exit\")\n",
        "  i =input()\n",
        "  if i.lower() == 'quit':\n",
        "    break\n",
        "  print(\"Enter the operation in the format a operator b: \")\n",
        "  i = input()\n",
        "  o = i.split(\" \")\n",
        "  print(ops[o[1]](float(o[0]),float(o[2])))\n",
        "\n"
      ]
    },
    {
      "cell_type": "code",
      "source": [
        ""
      ],
      "metadata": {
        "id": "lAoPZ7EiqFJu"
      },
      "execution_count": null,
      "outputs": []
    }
  ]
}