{
  "cells": [
    {
      "cell_type": "markdown",
      "metadata": {
        "id": "-_QUmi8W06i_"
      },
      "source": [
        "# Worksheet 2C - The Range Function\n",
        "This worksheet corresponds to *Lesson 2C: The Range Function* in the online course. Refer to that lesson as necessary to complete the practice activities here."
      ]
    },
    {
      "cell_type": "markdown",
      "metadata": {
        "id": "hMy0VU3t06jA"
      },
      "source": [
        "## Practice 1 \n",
        "Create a script that uses the `range` function and displays the square (x<sup>2</sup>) of each number between 1 and 20."
      ]
    },
    {
      "cell_type": "code",
      "execution_count": 1,
      "metadata": {
        "id": "19k-Fwae06jB",
        "outputId": "e3d2d4de-5ca7-473e-be5c-1fad7911873f",
        "colab": {
          "base_uri": "https://localhost:8080/"
        }
      },
      "outputs": [
        {
          "output_type": "stream",
          "name": "stdout",
          "text": [
            "1\n",
            "4\n",
            "9\n",
            "16\n",
            "25\n",
            "36\n",
            "49\n",
            "64\n",
            "81\n",
            "100\n",
            "121\n",
            "144\n",
            "169\n",
            "196\n",
            "225\n",
            "256\n",
            "289\n",
            "324\n",
            "361\n",
            "400\n"
          ]
        }
      ],
      "source": [
        "# your code here \n",
        "for i in range(1,21):\n",
        "  print(i**2)"
      ]
    },
    {
      "cell_type": "markdown",
      "metadata": {
        "id": "s1zxslht06jC"
      },
      "source": [
        "## Practice 2\n",
        "Create a Python script that uses the `range` function to display all the even numbers between 0 and 100, inclusive. "
      ]
    },
    {
      "cell_type": "code",
      "execution_count": 2,
      "metadata": {
        "id": "20xe8EQt06jC",
        "outputId": "a54c8373-a8ec-433f-c032-9a48c0201725",
        "colab": {
          "base_uri": "https://localhost:8080/"
        }
      },
      "outputs": [
        {
          "output_type": "stream",
          "name": "stdout",
          "text": [
            "2\n",
            "4\n",
            "6\n",
            "8\n",
            "10\n",
            "12\n",
            "14\n",
            "16\n",
            "18\n",
            "20\n",
            "22\n",
            "24\n",
            "26\n",
            "28\n",
            "30\n",
            "32\n",
            "34\n",
            "36\n",
            "38\n",
            "40\n",
            "42\n",
            "44\n",
            "46\n",
            "48\n",
            "50\n",
            "52\n",
            "54\n",
            "56\n",
            "58\n",
            "60\n",
            "62\n",
            "64\n",
            "66\n",
            "68\n",
            "70\n",
            "72\n",
            "74\n",
            "76\n",
            "78\n",
            "80\n",
            "82\n",
            "84\n",
            "86\n",
            "88\n",
            "90\n",
            "92\n",
            "94\n",
            "96\n",
            "98\n",
            "100\n"
          ]
        }
      ],
      "source": [
        "# your code here\n",
        "def isEven(e):\n",
        "  if(e==0):\n",
        "    return False\n",
        "  if(e%2==0):\n",
        "    return True\n",
        "  return False\n",
        "for i in range(101):\n",
        "  if(isEven(i)):\n",
        "    print(i)"
      ]
    },
    {
      "cell_type": "markdown",
      "metadata": {
        "id": "emy-iNS106jC"
      },
      "source": [
        "## Practice 3\n",
        "Use the same logic from Example 3 to iterate through a tuple. \n",
        "\n",
        "The box below includes the original code from Example 3. Modify it to use a tuple instead of a list."
      ]
    },
    {
      "cell_type": "code",
      "execution_count": null,
      "metadata": {
        "id": "ucsKkAaM06jD",
        "outputId": "56954586-7e09-4d78-d4fb-0f62b84a2518"
      },
      "outputs": [
        {
          "name": "stdout",
          "output_type": "stream",
          "text": [
            "John\n",
            "Smith\n",
            "123 East Main Street\n",
            "Boston\n",
            "Junior Software Developer\n"
          ]
        }
      ],
      "source": [
        "info = [\"John\",\"Smith\",\"123 East Main Street\",\"Boston\",\"Junior Software Developer\"]\n",
        "\n",
        "for i in range(len(info)):\n",
        "    print(info[i]) "
      ]
    },
    {
      "cell_type": "markdown",
      "metadata": {
        "id": "pU3dKV_H06jE"
      },
      "source": [
        "## Practice 4\n",
        "Display the string backwards. "
      ]
    },
    {
      "cell_type": "code",
      "execution_count": 4,
      "metadata": {
        "id": "QolHpUqk06jE",
        "outputId": "ddfe9872-f43d-4af8-bdeb-42aee2efc458",
        "colab": {
          "base_uri": "https://localhost:8080/"
        }
      },
      "outputs": [
        {
          "output_type": "stream",
          "name": "stdout",
          "text": [
            "!dlroW ,olleH\n"
          ]
        }
      ],
      "source": [
        "message = \"Hello, World!\" \n",
        "\n",
        "# your code here\n",
        "ns=\"\"\n",
        "for i in reversed(message):\n",
        "  ns+=i\n",
        "print(ns)"
      ]
    },
    {
      "cell_type": "markdown",
      "metadata": {
        "id": "AnEunzwC06jG"
      },
      "source": [
        "## Practice 5\n",
        "Display a list of numbers that includes all integers between 0 and 100 that are evenly divisible by 3."
      ]
    },
    {
      "cell_type": "code",
      "execution_count": 5,
      "metadata": {
        "id": "j-ZyJcKf06jG",
        "outputId": "9f83b0ae-014f-455b-cec1-f6a5d628ac71",
        "colab": {
          "base_uri": "https://localhost:8080/"
        }
      },
      "outputs": [
        {
          "output_type": "stream",
          "name": "stdout",
          "text": [
            "0\n",
            "3\n",
            "6\n",
            "9\n",
            "12\n",
            "15\n",
            "18\n",
            "21\n",
            "24\n",
            "27\n",
            "30\n",
            "33\n",
            "36\n",
            "39\n",
            "42\n",
            "45\n",
            "48\n",
            "51\n",
            "54\n",
            "57\n",
            "60\n",
            "63\n",
            "66\n",
            "69\n",
            "72\n",
            "75\n",
            "78\n",
            "81\n",
            "84\n",
            "87\n",
            "90\n",
            "93\n",
            "96\n",
            "99\n"
          ]
        }
      ],
      "source": [
        "# your code here\n",
        "for i in range(0,101):\n",
        "  if(i%3==0):\n",
        "    print(i)"
      ]
    },
    {
      "cell_type": "code",
      "source": [
        ""
      ],
      "metadata": {
        "id": "VzFfzyvHmSh5"
      },
      "execution_count": null,
      "outputs": []
    }
  ],
  "metadata": {
    "kernelspec": {
      "display_name": "Python 3",
      "language": "python",
      "name": "python3"
    },
    "language_info": {
      "codemirror_mode": {
        "name": "ipython",
        "version": 3
      },
      "file_extension": ".py",
      "mimetype": "text/x-python",
      "name": "python",
      "nbconvert_exporter": "python",
      "pygments_lexer": "ipython3",
      "version": "3.7.3"
    },
    "colab": {
      "name": "Worksheet 2C - The Range Function.ipynb",
      "provenance": []
    }
  },
  "nbformat": 4,
  "nbformat_minor": 0
}