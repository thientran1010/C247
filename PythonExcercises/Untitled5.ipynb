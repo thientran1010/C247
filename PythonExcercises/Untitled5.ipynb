{
  "nbformat": 4,
  "nbformat_minor": 0,
  "metadata": {
    "colab": {
      "name": "Untitled5.ipynb",
      "provenance": [],
      "authorship_tag": "ABX9TyNuEOl20VRjYlI5CSEqjxMR",
      "include_colab_link": true
    },
    "kernelspec": {
      "name": "python3",
      "display_name": "Python 3"
    },
    "language_info": {
      "name": "python"
    }
  },
  "cells": [
    {
      "cell_type": "markdown",
      "metadata": {
        "id": "view-in-github",
        "colab_type": "text"
      },
      "source": [
        "<a href=\"https://colab.research.google.com/github/thientran1010/C247/blob/main/PythonExcercises/Untitled5.ipynb\" target=\"_parent\"><img src=\"https://colab.research.google.com/assets/colab-badge.svg\" alt=\"Open In Colab\"/></a>"
      ]
    },
    {
      "cell_type": "code",
      "execution_count": null,
      "metadata": {
        "id": "vh3Jy1LeDJLQ"
      },
      "outputs": [],
      "source": [
        "menu = { \"burger\": 5.00 }\n",
        "\n",
        "\n",
        "d={\n",
        "    \"name\": \"Burger\",\n",
        "   \"price\": 0\n",
        "}\n",
        "\n",
        "\n",
        "class FoodItem:\n",
        "  price=0\n",
        "  name=\"\"\n",
        "  def __init__(self,name,price):\n",
        "    self.name=name\n",
        "    self.price=price\n",
        "  def display(self):\n",
        "    print(self.__dict__)\n",
        "\n",
        "\n",
        "class Drink(FoodItem):\n",
        "    #size is 1 for small, 2 for medium, 3 for large\n",
        "    size=0\n",
        "    #with ice or not\n",
        "    ice=0\n",
        "    def __init__(self,name,price,size,ice):\n",
        "        FoodItem.__init__(self,name,price)\n",
        "        self.size=size\n",
        "        self.ice=ice\n",
        "    def display(self):\n",
        "        print(self.__dict__)\n",
        "\n",
        "class Side(FoodItem):\n",
        "  size=\"\"\n",
        "  def __init__(self,name,price,size):\n",
        "    FoodItem.__init__(self,name,price)\n",
        "    if size in ('small','medium','large'):\n",
        "      self.size=size\n",
        "    else: print(\"error\")\n",
        "  def display(self):\n",
        "    print(self.__dict__)\n",
        "  def changeSize(self,size):\n",
        "    self.size=size\n",
        "\n",
        "class Burger(FoodItem):\n",
        "    \n",
        "    patty=\"\"\n",
        "    \n",
        "    def __init__(self, name, price, patty):\n",
        "        FoodItem.__init__(self, name, price)\n",
        "        self.patty=patty\n",
        "\n",
        "    def display(self):\n",
        "        print(self)    \n",
        "\n",
        "class Order:\n",
        "  # menu ={\n",
        "  #   \"soda\":1.00,\n",
        "  #   'salad':5.45,\n",
        "  #   'meat burger': 8.35\n",
        "  # }\n",
        "  cost = 0\n",
        "  items=[]\n",
        "  def __init__(self):\n",
        "    self.cost=0\n",
        "    self.items=[]\n",
        "  def add(self,item):\n",
        "    self.items.append(item)\n",
        "\n",
        "  def calculateTotal(self):\n",
        "    self.cost = sum([i.price for i in self.items])\n",
        "\n",
        "  def display(self):\n",
        "    for i in self.items:\n",
        "      i.display()\n",
        "    print(\"Total cost is ${}\".format(self.cost))\n",
        "\n",
        "\n",
        "# user interface \n",
        "# work on error detection\n",
        "# presentation:\n"
      ]
    },
    {
      "cell_type": "code",
      "source": [
        "ordering=True\n",
        "#while(True):\n",
        "menu ={\n",
        "    \"soda\":1.00,\n",
        "    'salad':5.45\n",
        "}\n",
        "\n",
        "def createBurger():\n",
        "  name = input(\"Select a burger: \")\n",
        "  pass\n",
        "\n",
        "def createDrink():\n",
        "  name = input(\"Select a drink: \")\n",
        "  size = input(\"Select the size of the drink: \")\n",
        "  ice = input(\"Do you want it with ice: \")\n",
        "  drink = Drink(name,menu[name],size,ice)\n",
        "  finalized=bool(input(\"Do you finish ordering side? True/False \"))\n",
        "  if finalized:\n",
        "    return drink\n",
        "  return False\n",
        "\n",
        "def createSide():\n",
        "  name = input(\"Select a side: \")\n",
        "  size = input(\"Select the size of the side: \")\n",
        "  s = Side(name,menu[name],size)\n",
        "  finalized=True\n",
        "  finalized=bool(input(\"Do you finish ordering side? True/False \"))\n",
        "  if finalized:\n",
        "    return s\n",
        "\n",
        "def createBurger():\n",
        "  name = input(\"Select a side: \")\n",
        "  size = input(\"Select the size of the burger: \")\n",
        "  patty = input(\"Select the patty of the burger (single/double): \")\n",
        "  s = Side(name,menu[name],patty)\n",
        "  finalized=True\n",
        "  finalized=bool(input(\"Do you finish ordering side? True/False \"))\n",
        "  if finalized:\n",
        "    return s\n",
        "  pass\n",
        "\n",
        "def userInput():\n",
        "  order=Order()\n",
        "  cont= input(\"Do you want to order (True/False): \")\n",
        "  while(cont=='True'):\n",
        "    orderType = input(\"Please choose type of order (combo, burger, drink, side): \")\n",
        "    if orderType.lower() == 'drink':\n",
        "      drink = createDrink()\n",
        "      if drink is not None: order.add(drink)\n",
        "    if orderType.lower() == 'side':\n",
        "      s = createSide()\n",
        "      if s is not None: order.add(s)\n",
        "    cont= input(\"Do you want to order (True/False): \")\n",
        "  \n",
        "  order.calculateTotal()\n",
        "  order.display()\n",
        "\n",
        "  \n",
        "  \n"
      ],
      "metadata": {
        "id": "pXJ8nRPpFUMZ"
      },
      "execution_count": null,
      "outputs": []
    },
    {
      "cell_type": "code",
      "source": [
        "userInput()"
      ],
      "metadata": {
        "colab": {
          "base_uri": "https://localhost:8080/"
        },
        "id": "pBFwZid5Fap6",
        "outputId": "40c88342-0765-48dd-c407-61d72b60a646"
      },
      "execution_count": null,
      "outputs": [
        {
          "output_type": "stream",
          "name": "stdout",
          "text": [
            "Do you want to order (True/False): True\n",
            "Please choose type of order (combo, burger, drink, side): drink\n",
            "Select a drink: soda\n",
            "Select the size of the drink: 1\n",
            "Do you want it with ice: True\n",
            "Do you finish ordering side? True/False True\n",
            "Do you want to order (True/False): True\n",
            "Please choose type of order (combo, burger, drink, side): side\n",
            "Select a side: salad\n",
            "Select the size of the side: large\n",
            "Do you finish ordering side? True/False True\n",
            "Do you want to order (True/False): False\n",
            "{'name': 'soda', 'price': 1.0, 'size': '1', 'ice': 'True'}\n",
            "{'name': 'salad', 'price': 5.45, 'size': 'large'}\n",
            "Total cost is $6.45\n"
          ]
        }
      ]
    },
    {
      "cell_type": "code",
      "source": [
        "menu ={\n",
        "    'fries1':1.45,\n",
        "    'fries2':2.45,\n",
        "    'fries3':3.45,\n",
        "    'salad1': 2.00,\n",
        "    'salad2': 3.45,\n",
        "    'salad3': 4.25,\n",
        "    \n",
        "    'poutine1':4.45,\n",
        "    'poutine2':5.45,\n",
        "    'poutine3':5.75,\n",
        "    \n",
        "}\n"
      ],
      "metadata": {
        "id": "4AYYPNyGHxsz"
      },
      "execution_count": null,
      "outputs": []
    },
    {
      "cell_type": "code",
      "source": [
        "if size==1 and name==\"soda\":\n",
        "\tprice=1.00\n",
        "if size==2 and name==\"soda\":\n",
        "\tprice=1.20\n",
        "if size==3 and name==\"soda\":\n",
        "\tprice=1.40\n",
        "\n",
        "if size==1 and name==\"coffee\":\n",
        "\tprice=3.00\n",
        "if size==2 and name==\"coffee\":\n",
        "\tprice=4.20\n",
        "if size==3 and name==\"coffee\":\n",
        "\tprice=5.40\n",
        "\n",
        "if size==1 and name==\"juice\":\n",
        "\tprice=2.00\n",
        "if size==2 and name==\"juice\":\n",
        "\tprice=2.20\n",
        "if size==3 and name==\"juice\":\n",
        "\tprice=2.40\n"
      ],
      "metadata": {
        "id": "R3APAX4WlAiy"
      },
      "execution_count": null,
      "outputs": []
    },
    {
      "cell_type": "code",
      "source": [
        "a={'soda1':1.00,\n",
        "'soda2':1.20,\n",
        "'soda3':1.30,\n",
        "\n",
        "'coffee1':3.00,\n",
        "'coffee2':4.00,\n",
        "'coffee3':5.00,\n",
        "\n",
        "'juice1':2.00,\n",
        "'juice2':3.00,\n",
        "'juice3':4.00,\n",
        "}\n"
      ],
      "metadata": {
        "id": "HOphxF47mjNt"
      },
      "execution_count": null,
      "outputs": []
    }
  ]
}