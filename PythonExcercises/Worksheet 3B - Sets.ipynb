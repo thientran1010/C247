{
  "cells": [
    {
      "cell_type": "markdown",
      "metadata": {
        "id": "PRyElMOn1lO7"
      },
      "source": [
        "# Worksheet 3B: Sets\n",
        "This worksheet corresponds to *Lesson 3B: Sets* in the online course. Refer to that lesson as necessary to complete these practice exercises."
      ]
    },
    {
      "cell_type": "markdown",
      "metadata": {
        "id": "yZJ90zSG1lPB"
      },
      "source": [
        "## Practice 1\n",
        "Create a set that contains a collection of your favorite fruits. "
      ]
    },
    {
      "cell_type": "code",
      "execution_count": 2,
      "metadata": {
        "id": "zAFcLmQp1lPC"
      },
      "outputs": [],
      "source": [
        "# your code here\n",
        "fruits={\"Apple\",\"Kiwi\",\"Banana\"}"
      ]
    },
    {
      "cell_type": "markdown",
      "metadata": {
        "id": "opWJ9L2q1lPD"
      },
      "source": [
        "## Practice 2\n",
        "Using the set of fruits you created in the previous exercise, retrieve the items from the set so that each item appears on a separate line in the output."
      ]
    },
    {
      "cell_type": "code",
      "execution_count": 3,
      "metadata": {
        "colab": {
          "base_uri": "https://localhost:8080/"
        },
        "id": "CABN-06_1lPE",
        "outputId": "32110e16-3cf6-4765-9fba-22d99077406e"
      },
      "outputs": [
        {
          "output_type": "stream",
          "name": "stdout",
          "text": [
            "Apple\n",
            "Kiwi\n",
            "Banana\n"
          ]
        }
      ],
      "source": [
        "# your code here\n",
        "for i in fruits:\n",
        "  print(i)"
      ]
    },
    {
      "cell_type": "markdown",
      "metadata": {
        "id": "HU4uvAfm1lPE"
      },
      "source": [
        "## Practice 4\n",
        "Create a set with at least three fruit items in it and print it. Then add at least three more items to the set and print the updated set."
      ]
    },
    {
      "cell_type": "code",
      "execution_count": 4,
      "metadata": {
        "colab": {
          "base_uri": "https://localhost:8080/"
        },
        "id": "pub-Usex1lPF",
        "outputId": "20cf6e62-5fee-44af-ef2d-837d56d78061"
      },
      "outputs": [
        {
          "output_type": "stream",
          "name": "stdout",
          "text": [
            "{'Apple', 'Kiwi', 'Banana'}\n",
            "{'Orange', 'Melon', 'Strawberry', 'Banana', 'Apple', 'Kiwi'}\n"
          ]
        }
      ],
      "source": [
        "# your code here\n",
        "fruits={\"Apple\",\"Kiwi\",\"Banana\"}\n",
        "print(fruits)\n",
        "fruits.add(\"Melon\")\n",
        "fruits.add(\"Strawberry\")\n",
        "fruits.add(\"Orange\")\n",
        "print(fruits)\n"
      ]
    },
    {
      "cell_type": "markdown",
      "metadata": {
        "id": "HqAp-f3L1lPG"
      },
      "source": [
        "## Practice 4a\n",
        "Use the `add()` method to convert the `names` list into a set called `names_set`. \n",
        "\n",
        "Use the following steps:\n",
        "* Create a new empty set.\n",
        "* Add the items from the list to the new set.\n",
        "* Print the set when it is complete."
      ]
    },
    {
      "cell_type": "code",
      "execution_count": 6,
      "metadata": {
        "colab": {
          "base_uri": "https://localhost:8080/"
        },
        "id": "0TZVsLsU1lPH",
        "outputId": "20e75321-8aef-41af-f51e-2bfb4a6a756b"
      },
      "outputs": [
        {
          "output_type": "stream",
          "name": "stdout",
          "text": [
            "['Robert', 'Mark', 'Nick', 'Jenny']\n",
            "{'Nick', 'Mark', 'Robert', 'Jenny'}\n"
          ]
        }
      ],
      "source": [
        "names = [\"Robert\", \"Mark\", \"Nick\", \"Jenny\"] # do not change this\n",
        "print(names)\n",
        "\n",
        "# your code here\n",
        "s=set(names)\n",
        "\n",
        "print(s)"
      ]
    },
    {
      "cell_type": "markdown",
      "metadata": {
        "id": "qLoGdkMp1lPI"
      },
      "source": [
        "## Practice 4b\n",
        "Fix the errors in following code. Do not remove any existing instructions or add new instructions."
      ]
    },
    {
      "cell_type": "code",
      "execution_count": 8,
      "metadata": {
        "scrolled": true,
        "colab": {
          "base_uri": "https://localhost:8080/"
        },
        "id": "6HmwJE1L1lPJ",
        "outputId": "85d6db0d-432a-43a1-e69f-c97ac9280640"
      },
      "outputs": [
        {
          "output_type": "stream",
          "name": "stdout",
          "text": [
            "{'Nick', 'Mark', 'Robert', 'Jenny'}\n",
            "{'Nick', 'Mark', 'Robert', 'Jenny'}\n"
          ]
        }
      ],
      "source": [
        "names = {\"Robert\", \"Mark\", \"Nick\",\"Jenny\"}\n",
        "print(names)\n",
        "         \n",
        "another_set = set()\n",
        "another_set = names\n",
        "print(another_set)"
      ]
    },
    {
      "cell_type": "markdown",
      "metadata": {
        "id": "IXAVsXwQ1lPK"
      },
      "source": [
        "## Practice 5\n",
        "Convert the `names` list into a set called `names_set` and print the set. "
      ]
    },
    {
      "cell_type": "code",
      "execution_count": 9,
      "metadata": {
        "colab": {
          "base_uri": "https://localhost:8080/"
        },
        "id": "r-OSqV_h1lPK",
        "outputId": "27f722c9-6f33-4f89-97d1-ebbd541d294d"
      },
      "outputs": [
        {
          "output_type": "stream",
          "name": "stdout",
          "text": [
            "['Robert', 'Mark', 'Nancy', 'Robert', 'Mark', 'Jenny', 'Robert']\n",
            "{'Jenny', 'Nancy', 'Mark', 'Robert'}\n"
          ]
        }
      ],
      "source": [
        "names = [\"Robert\", \"Mark\", \"Nancy\", \"Robert\", \"Mark\", \"Jenny\", \"Robert\"] # do not change this line of code\n",
        "print(names)\n",
        "\n",
        "# your code here\n",
        "names_set=set(names)\n",
        "print(names_set)"
      ]
    },
    {
      "cell_type": "markdown",
      "metadata": {
        "id": "n3ogd_1U1lPL"
      },
      "source": [
        "## Practice 6\n",
        "Create a program that performs the following steps:\n",
        "1. Prompt the user for a state abbreviation.\n",
        "2. Return a success message if the user entered a valid state abbreviation.\n",
        "3. Return an error message if the user entered an invalid state abbreviation.\n",
        "\n",
        "The final version of the code should support both uppercase and lowercase input. For example, the user should be able to input \"FL,\" \"Fl,\" \"fL,\" or \"fl\" and get the same response."
      ]
    },
    {
      "cell_type": "code",
      "execution_count": 11,
      "metadata": {
        "colab": {
          "base_uri": "https://localhost:8080/"
        },
        "id": "uVUEK1oH1lPL",
        "outputId": "0181e0c8-cf07-463c-9566-29c5c9fb4e32"
      },
      "outputs": [
        {
          "output_type": "stream",
          "name": "stdout",
          "text": [
            "Not Found\n"
          ]
        }
      ],
      "source": [
        "states_abbrev = {\"AL\", \"AK\", \"AZ\", \"AR\", \"CA\", \"CO\", \"CT\", \"DE\", \"FL\", \"GA\", \n",
        "          \"HI\", \"ID\", \"IL\", \"IN\", \"IA\", \"KS\", \"KY\", \"LA\", \"ME\", \"MD\", \n",
        "          \"MA\", \"MI\", \"MN\", \"MS\", \"MO\", \"MT\", \"NE\", \"NV\", \"NH\", \"NJ\", \n",
        "          \"NM\", \"NY\", \"NC\", \"ND\", \"OH\", \"OK\", \"OR\", \"PA\", \"RI\", \"SC\", \n",
        "          \"SD\", \"TN\", \"TX\", \"UT\", \"VT\", \"VA\", \"WA\", \"WV\", \"WI\", \"WY\"}\n",
        "\n",
        "# your code here\n",
        "inp = \"SA\"\n",
        "notFound=True\n",
        "for i in states_abbrev:\n",
        "  if i.lower()==inp.lower():\n",
        "    print(\"Found\")\n",
        "    notFound=False\n",
        "    break\n",
        "if(notFound):\n",
        "  print(\"Not Found\")"
      ]
    },
    {
      "cell_type": "markdown",
      "metadata": {
        "id": "i7P7W-VP1lPL"
      },
      "source": [
        "## Practice 7\n",
        "Create a script that keeps asking the user for input until the user enters \"quit\" (uppercase or lowercase).\n",
        "* Each input value should be added to a set. \n",
        "* When the user enters \"quit,\" the program should display all distinct values entered by the user, with each word on a separate line."
      ]
    },
    {
      "cell_type": "code",
      "execution_count": 14,
      "metadata": {
        "colab": {
          "base_uri": "https://localhost:8080/"
        },
        "id": "7RKoTLcb1lPM",
        "outputId": "f74c4ecb-8fc3-44f7-80be-18c1b3350491"
      },
      "outputs": [
        {
          "output_type": "stream",
          "name": "stdout",
          "text": [
            "Enter an input: asdas\n",
            "Enter quit if you want to quit: no\n",
            "Enter an input: sadzxcx\n",
            "Enter quit if you want to quit: quit\n",
            "sadzxcx\n",
            "asdas\n"
          ]
        }
      ],
      "source": [
        "# your code here\n",
        "notQuit=True\n",
        "s = set()\n",
        "while notQuit:\n",
        "  i = input(\"Enter an input: \")\n",
        "  s.add(i)\n",
        "  i = input(\"Enter quit if you want to quit: \")\n",
        "  if(i.lower()==\"quit\"):\n",
        "    notQuit=False\n",
        "for i in s:\n",
        "  print(i)"
      ]
    },
    {
      "cell_type": "markdown",
      "metadata": {
        "id": "uQT_OXit1lPM"
      },
      "source": [
        "## Practice 8\n",
        "Create a program that performs the following steps:\n",
        "1. Prompt the user for an integer.\n",
        "1. Ask the user to enter that many words.\n",
        "1. Display the set of words provided by the user.\n",
        "\n",
        "For example, if the user enters 5, the program will ask the user for 5 different words that it will store in a set. \n",
        "\n",
        "When the user finishes entering the items of the set, the program displays the set to the user."
      ]
    },
    {
      "cell_type": "code",
      "execution_count": 16,
      "metadata": {
        "colab": {
          "base_uri": "https://localhost:8080/"
        },
        "id": "SKiJNkeO1lPM",
        "outputId": "7377343a-cf6b-4667-d1f9-600344e5771f"
      },
      "outputs": [
        {
          "output_type": "stream",
          "name": "stdout",
          "text": [
            "Enter the number of words: 3\n",
            "Enter word 1: safas\n",
            "Enter word 2: 23ar\n",
            "Enter word 3: asdasd2\n",
            "{'asdasd2', 'safas', '23ar'}\n"
          ]
        }
      ],
      "source": [
        "# your code here\n",
        "n = int(input(\"Enter the number of words: \"))\n",
        "s=set()\n",
        "for i in range(n):\n",
        "  e = input(\"Enter word {}: \".format(i+1))\n",
        "  s.add(e)\n",
        "print(s)"
      ]
    },
    {
      "cell_type": "markdown",
      "metadata": {
        "id": "Zq4Uv7xD1lPN"
      },
      "source": [
        "## Practice 9\n",
        "Complete the code below, using the `in` operator and the `remove()` method, to create a script that will remove items from a set.\n",
        "* If the item exists, remove the item and display the current set with the item removed.\n",
        "* If the item does **not** exist, display an appropriate, user-friendly message and list the items currently in the set.\n",
        "\n",
        "The program should **not** throw an error if the item doesn't exist. This means that the script should check if the item exists in the set and remove the item only if it is included in the current set."
      ]
    },
    {
      "cell_type": "code",
      "execution_count": 18,
      "metadata": {
        "colab": {
          "base_uri": "https://localhost:8080/"
        },
        "id": "Ycj6T4H41lPN",
        "outputId": "19186d85-e5f5-4920-c8dc-6914236f6f25"
      },
      "outputs": [
        {
          "output_type": "stream",
          "name": "stdout",
          "text": [
            "Item not on the list\n",
            "{'hotdog', 'burger', 'pasta', 'pizza'}\n"
          ]
        }
      ],
      "source": [
        "food = {\"pasta\", \"burger\", \"hotdog\", \"pizza\"}\n",
        "\n",
        "\n",
        "# the remove shouldn't throw an error. \n",
        "try:\n",
        "  food.remove(\"taco\")\n",
        "  print(food)\n",
        "except:\n",
        "  print(\"Item not on the list\")\n",
        "  print(food)\n"
      ]
    },
    {
      "cell_type": "markdown",
      "metadata": {
        "id": "pElKyEao1lPN"
      },
      "source": [
        "## Practice 10\n",
        "Update the following code to include a user prompt. \n",
        "* If the user inputs a string that corresponds to the variable name of one of the sets below, clear the set using the `clear()` method.\n",
        "* If there is no set that matches the user input, display an error message that the set doesn't exist. "
      ]
    },
    {
      "cell_type": "code",
      "execution_count": 20,
      "metadata": {
        "colab": {
          "base_uri": "https://localhost:8080/"
        },
        "id": "w62zwclA1lPO",
        "outputId": "dc20e2dd-8a9b-4213-a20d-7978df4cb5a0"
      },
      "outputs": [
        {
          "name": "stdout",
          "output_type": "stream",
          "text": [
            "Enter the name of a set: shake_1\n"
          ]
        }
      ],
      "source": [
        "shake_1 = {\"banana\", \"blueberry\", \"spinach\"}\n",
        "shake_2 = {\"strawberry\", \"pistachio\", \"cocoa powder\"}\n",
        "shake_3 = {\"kiwi\", \"banana\", \"peanut butter\"}\n",
        "\n",
        "# your code here\n",
        "try:\n",
        "  i = input(\"Enter the name of a set: \")\n",
        "  globals()[i].clear()\n",
        "except:\n",
        "  print(\"Your input doesn't exist\")"
      ]
    },
    {
      "cell_type": "markdown",
      "metadata": {
        "id": "0zUALmeX1lPO"
      },
      "source": [
        "## Practice 11\n",
        "Create a script that performs the following steps:\n",
        "* Display the set to the user along with the number of items in the set.\n",
        "* If there are no items in the set, display an output message to that effect and end the script.\n",
        "* Ask the user if they want to remove an item from the set.\n",
        "* If the user says yes:\n",
        "    * Verify that there is at least one item in the set.\n",
        "    * Remove a random item from the set.\n",
        "    * Display the updated set to the user.\n",
        "    * Prompt the user to remove another item.\n",
        "* If the user says no, end the script.\n",
        "\n",
        "You cannot use the `clear()`, `remove()`, or `discard()` methods in your solution. "
      ]
    },
    {
      "cell_type": "code",
      "execution_count": 33,
      "metadata": {
        "colab": {
          "base_uri": "https://localhost:8080/"
        },
        "id": "ht0Z6h3g1lPO",
        "outputId": "2798eb4a-a76c-4fed-891b-c190b084918b"
      },
      "outputs": [
        {
          "output_type": "stream",
          "name": "stdout",
          "text": [
            "{'hotdog', 'burger', 'pasta', 'pizza'}\n",
            "Enter yes if you want to remove an item from the list: yes\n",
            "['hotdog', 'burger', 'pasta']\n",
            "Enter yes if you want to remove an item from the list: yes\n",
            "['hotdog', 'burger']\n",
            "Enter yes if you want to remove an item from the list: no\n",
            "The program stops\n"
          ]
        }
      ],
      "source": [
        "import random\n",
        "food = {\"pasta\", \"burger\", \"hotdog\", \"pizza\"}\n",
        "\n",
        "# your code here\n",
        "\n",
        "print(food)\n",
        "food=list(food)\n",
        "i = input(\"Enter yes if you want to remove an item from the list: \")\n",
        "food.pop(random.randint(0,len(food)-1))\n",
        "print(food)\n",
        "\n",
        "\n",
        "while(i.lower() == 'yes' and len(food)>0):\n",
        "  i = input(\"Enter yes if you want to remove an item from the list: \")\n",
        "  if(i.lower()!='yes'):\n",
        "    print(\"The program stops\")\n",
        "    break\n",
        "  food.pop(random.randint(0,len(food)-1))\n",
        "  print(food)\n",
        "if(len(food)==0):\n",
        "  print(\"No more food on the list\")\n",
        "      \n",
        "\n"
      ]
    },
    {
      "cell_type": "markdown",
      "metadata": {
        "id": "X8qOCS4P1lPP"
      },
      "source": [
        "## Practice 12\n",
        "Complete the code below to ask the user for input. \n",
        "* If the user inputs a string that corresponds to the variable name of one of the sets below, delete that set using `del`.\n",
        "* If there is no set with that name, display an error message that the set doesn't exist. "
      ]
    },
    {
      "cell_type": "code",
      "execution_count": 41,
      "metadata": {
        "id": "iyesSia-1lPP"
      },
      "outputs": [],
      "source": [
        "shake_1 = {\"banana\", \"blueberry\", \"spinach\"}\n",
        "shake_2 = {\"strawberry\", \"pistachio\", \"cocoa powder\"}\n",
        "shake_3 = {\"kiwi\", \"banana\", \"peanut butter\"}\n",
        "\n",
        "# your code here\n",
        "inp=\"shake_1\"\n",
        "try:\n",
        "  \n",
        "  del globals()[inp]\n",
        "except:\n",
        "  print(\"{} doesn't exist\".format(inp))\n"
      ]
    },
    {
      "cell_type": "markdown",
      "metadata": {
        "id": "siuGP9su1lPP"
      },
      "source": [
        "## Practice 13\n",
        "Create a script that performs the following steps:\n",
        "* Prompt the user for the abbreviation of a state they have visited and store the value in a new set.\n",
        "* Repeat the prompt and continue storing values in the same set until the user enters \"done\" (in uppercase or lowercase).\n",
        "* After the user enters \"done,\" display a list of abbreviations for the states that the user has **not** visited yet, using the `states_abbrev` set below and the `difference()` method. \n",
        "\n",
        "**Tip**: It's always a good idea to tell the user how to get out of a loop!"
      ]
    },
    {
      "cell_type": "code",
      "execution_count": 46,
      "metadata": {
        "colab": {
          "base_uri": "https://localhost:8080/"
        },
        "id": "Ox83vke31lPP",
        "outputId": "cd5a9b26-ec9b-43ac-fe82-023349d74013"
      },
      "outputs": [
        {
          "output_type": "stream",
          "name": "stdout",
          "text": [
            "Enter a state you have visited: AL\n",
            "AL is added to the list\n",
            "Enter done if you wish to stop: KY\n",
            "Enter a state you have visited: ID\n",
            "ID is added to the list\n",
            "Enter done if you wish to stop: CC\n",
            "Enter a state you have visited: CC\n",
            "This is not an US state\n",
            "Enter done if you wish to stop: AA\n",
            "Enter a state you have visited: NJ\n",
            "NJ is added to the list\n",
            "Enter done if you wish to stop: done\n",
            "{'AR', 'NC', 'WV', 'ND', 'GA', 'NJ', 'MD', 'DE', 'IA', 'AL', 'WY', 'MS', 'IL', 'CT', 'MI', 'LA', 'VA', 'AK', 'OK', 'VT', 'KY', 'NV', 'TX', 'WA', 'UT', 'RI', 'WI', 'OR', 'MN', 'ME', 'PA', 'HI', 'FL', 'NM', 'AZ', 'MT', 'NH', 'NE', 'CO', 'SD', 'OH', 'SC', 'NY', 'MO', 'IN', 'MA', 'KS'}\n"
          ]
        }
      ],
      "source": [
        "states_abbrev = {\"AL\", \"AK\", \"AZ\", \"AR\", \"CA\", \"CO\", \"CT\", \"DE\", \"FL\", \"GA\", \n",
        "          \"HI\", \"ID\", \"IL\", \"IN\", \"IA\", \"KS\", \"KY\", \"LA\", \"ME\", \"MD\", \n",
        "          \"MA\", \"MI\", \"MN\", \"MS\", \"MO\", \"MT\", \"NE\", \"NV\", \"NH\", \"NJ\", \n",
        "          \"NM\", \"NY\", \"NC\", \"ND\", \"OH\", \"OK\", \"OR\", \"PA\", \"RI\", \"SC\", \n",
        "          \"SD\", \"TN\", \"TX\", \"UT\", \"VT\", \"VA\", \"WA\", \"WV\", \"WI\", \"WY\"}\n",
        "\n",
        "# your code here\n",
        "test={\"CA\",\"ID\",\"TN\"}\n",
        "stop=\"\"\n",
        "while(stop.lower()!=\"done\"):\n",
        "  i = input(\"Enter a state you have visited: \")\n",
        "  if(i.upper() in states_abbrev):\n",
        "    test.update(i)\n",
        "    print(\"{} is added to the list\".format(i.upper()))\n",
        "  else:\n",
        "    print(\"This is not an US state\")\n",
        "  stop = input(\"Enter done if you wish to stop: \")\n",
        "a= states_abbrev.difference(test)\n",
        "print(a)"
      ]
    },
    {
      "cell_type": "markdown",
      "metadata": {
        "id": "mM1vvs2_1lPQ"
      },
      "source": [
        "## Practice 14\n",
        "The following code includes a set of state abbreviations representing states that Mary has visited. Update the code to include the following steps:\n",
        "* Prompt the user for the abbreviation of a state they have visited and store the value in a new set.\n",
        "* Repeat the prompt and continue storing values in the same set until the user enters \"done\" (in uppercase or lowercase).\n",
        "* Display a list of the states that both the user and Mary have visited, or display a meaningful message if the user has not visited any of the states that Mary has visited. "
      ]
    },
    {
      "cell_type": "code",
      "execution_count": 50,
      "metadata": {
        "colab": {
          "base_uri": "https://localhost:8080/"
        },
        "id": "Z-mRVgWb1lPQ",
        "outputId": "69308afb-9bcb-497f-ea77-cb5ca960fac7"
      },
      "outputs": [
        {
          "output_type": "stream",
          "name": "stdout",
          "text": [
            "Enter a state you have visited: KA\n",
            "Input not on the list\n",
            "Enter done if you wish to stop: KY\n",
            "Enter a state you have visited: KY\n",
            "KY is added to the list\n",
            "Enter done if you wish to stop: MA\n",
            "Enter a state you have visited: MA\n",
            "MA is added to the list\n",
            "Enter done if you wish to stop: done\n",
            "{'KY', 'MA'}\n",
            "You and Mary visited the following states\n",
            "{'KY', 'MA'}\n"
          ]
        }
      ],
      "source": [
        "states = {\"AL\", \"AK\", \"AZ\", \"AR\", \"CA\", \"CO\", \"CT\", \"DE\", \"FL\", \"GA\", \n",
        "          \"HI\", \"ID\", \"IL\", \"IN\", \"IA\", \"KS\", \"KY\", \"LA\", \"ME\", \"MD\", \n",
        "          \"MA\", \"MI\", \"MN\", \"MS\", \"MO\", \"MT\", \"NE\", \"NV\", \"NH\", \"NJ\", \n",
        "          \"NM\", \"NY\", \"NC\", \"ND\", \"OH\", \"OK\", \"OR\", \"PA\", \"RI\", \"SC\", \n",
        "          \"SD\", \"TN\", \"TX\", \"UT\", \"VT\", \"VA\", \"WA\", \"WV\", \"WI\", \"WY\"}\n",
        "\n",
        "mary_states = {\"AZ\", \"CA\", \"FL\", \"GA\", \"IN\", \n",
        "              \"KY\", \"MA\", \"NV\", \"NY\", \"NC\",\n",
        "              \"PA\", \"SC\", \"TN\"}\n",
        "\n",
        "# your code here\n",
        "you=set()\n",
        "cont=\"\"\n",
        "while(cont.lower()!=\"done\"):\n",
        "  i = input(\"Enter a state you have visited: \")\n",
        "  if(i.upper() in states):\n",
        "    you.add(i.upper())\n",
        "    print(\"{} is added to the list\".format(i.upper()))\n",
        "  else:\n",
        "    print(\"Input not on the list\")\n",
        "  cont=input(\"Enter done if you wish to stop: \")\n",
        "i = mary_states.intersection(you)\n",
        "\n",
        "if len(i)>0:\n",
        "  print(\"You and Mary visited the following states\")\n",
        "  print(i)\n",
        "else:\n",
        "  print(\"You and Mary never visit the same states\")"
      ]
    },
    {
      "cell_type": "markdown",
      "metadata": {
        "id": "tcgxQ5FK1lPQ"
      },
      "source": [
        "\n",
        "## Practice 15\n",
        "The following code includes a set of the states that Mary has visited. Update the code to perform the following steps:\n",
        "* Prompt the user for the abbreviation of a state they have visited and store the value in a new set.\n",
        "* Repeat the prompt and continue storing values in the same set until the user enters \"done\" (in uppercase or lowercase).\n",
        "* Display a list of the states that either the user or Mary has visited. "
      ]
    },
    {
      "cell_type": "code",
      "execution_count": 52,
      "metadata": {
        "colab": {
          "base_uri": "https://localhost:8080/"
        },
        "id": "rpSX03aK1lPQ",
        "outputId": "502cf76a-d3a4-49e1-f484-863317ca9e65"
      },
      "outputs": [
        {
          "output_type": "stream",
          "name": "stdout",
          "text": [
            "Enter a state you have visited: AZ\n",
            "AZ is added to the list\n",
            "Enter done if you wish to stop: d\n",
            "Enter a state you have visited: GA\n",
            "GA is added to the list\n",
            "Enter done if you wish to stop: d\n",
            "Enter a state you have visited: NC\n",
            "NC is added to the list\n",
            "Enter done if you wish to stop: done\n",
            "States that neither you or Mary has ever visited the following states\n",
            "{'AR', 'WV', 'ND', 'NJ', 'MD', 'DE', 'IA', 'AL', 'WY', 'MS', 'IL', 'CT', 'MI', 'LA', 'VA', 'AK', 'OK', 'VT', 'TX', 'WA', 'UT', 'RI', 'WI', 'OR', 'MN', 'ME', 'HI', 'NM', 'MT', 'NH', 'NE', 'CO', 'SD', 'ID', 'OH', 'MO', 'KS'}\n"
          ]
        }
      ],
      "source": [
        "mary_states = {\"AZ\", \"CA\", \"FL\", \"GA\", \"IN\", \n",
        "              \"KY\", \"MA\", \"NV\", \"NY\", \"NC\",\n",
        "              \"PA\", \"SC\", \"TN\"}\n",
        "\n",
        "# your code here\n",
        "states = {\"AL\", \"AK\", \"AZ\", \"AR\", \"CA\", \"CO\", \"CT\", \"DE\", \"FL\", \"GA\", \n",
        "          \"HI\", \"ID\", \"IL\", \"IN\", \"IA\", \"KS\", \"KY\", \"LA\", \"ME\", \"MD\", \n",
        "          \"MA\", \"MI\", \"MN\", \"MS\", \"MO\", \"MT\", \"NE\", \"NV\", \"NH\", \"NJ\", \n",
        "          \"NM\", \"NY\", \"NC\", \"ND\", \"OH\", \"OK\", \"OR\", \"PA\", \"RI\", \"SC\", \n",
        "          \"SD\", \"TN\", \"TX\", \"UT\", \"VT\", \"VA\", \"WA\", \"WV\", \"WI\", \"WY\"}\n",
        "\n",
        "\n",
        "\n",
        "# your code here\n",
        "you=set()\n",
        "cont=\"\"\n",
        "while(cont.lower()!=\"done\"):\n",
        "  i = input(\"Enter a state you have visited: \")\n",
        "  if(i.upper() in states):\n",
        "    you.add(i.upper())\n",
        "    print(\"{} is added to the list\".format(i.upper()))\n",
        "  else:\n",
        "    print(\"Input not on the list\")\n",
        "  cont=input(\"Enter done if you wish to stop: \")\n",
        "i = states.difference(you)\n",
        "i = i.difference(mary_states)\n",
        "\n",
        "\n",
        "if len(i)>0:\n",
        "  print(\"States that neither you or Mary has ever visited the following states\")\n",
        "  print(i)\n",
        "else:\n",
        "  print(\"You and Mary combined have visited all states\")"
      ]
    },
    {
      "cell_type": "code",
      "source": [
        ""
      ],
      "metadata": {
        "id": "wN7H93aXVc73"
      },
      "execution_count": null,
      "outputs": []
    }
  ],
  "metadata": {
    "kernelspec": {
      "display_name": "Python 3",
      "language": "python",
      "name": "python3"
    },
    "language_info": {
      "codemirror_mode": {
        "name": "ipython",
        "version": 3
      },
      "file_extension": ".py",
      "mimetype": "text/x-python",
      "name": "python",
      "nbconvert_exporter": "python",
      "pygments_lexer": "ipython3",
      "version": "3.7.3"
    },
    "colab": {
      "name": "Worksheet 3B - Sets.ipynb",
      "provenance": []
    }
  },
  "nbformat": 4,
  "nbformat_minor": 0
}