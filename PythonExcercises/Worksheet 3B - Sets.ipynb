{
 "cells": [
  {
   "cell_type": "markdown",
   "metadata": {},
   "source": [
    "# Worksheet 3B: Sets\n",
    "This worksheet corresponds to *Lesson 3B: Sets* in the online course. Refer to that lesson as necessary to complete these practice exercises."
   ]
  },
  {
   "cell_type": "markdown",
   "metadata": {},
   "source": [
    "## Practice 1\n",
    "Create a set that contains a collection of your favorite fruits. "
   ]
  },
  {
   "cell_type": "code",
   "execution_count": 20,
   "metadata": {},
   "outputs": [],
   "source": [
    "# your code here"
   ]
  },
  {
   "cell_type": "markdown",
   "metadata": {},
   "source": [
    "## Practice 2\n",
    "Using the set of fruits you created in the previous exercise, retrieve the items from the set so that each item appears on a separate line in the output."
   ]
  },
  {
   "cell_type": "code",
   "execution_count": 22,
   "metadata": {},
   "outputs": [],
   "source": [
    "# your code here"
   ]
  },
  {
   "cell_type": "markdown",
   "metadata": {},
   "source": [
    "## Practice 4\n",
    "Create a set with at least three fruit items in it and print it. Then add at least three more items to the set and print the updated set."
   ]
  },
  {
   "cell_type": "code",
   "execution_count": 24,
   "metadata": {},
   "outputs": [],
   "source": [
    "# your code here"
   ]
  },
  {
   "cell_type": "markdown",
   "metadata": {},
   "source": [
    "## Practice 4a\n",
    "Use the `add()` method to convert the `names` list into a set called `names_set`. \n",
    "\n",
    "Use the following steps:\n",
    "* Create a new empty set.\n",
    "* Add the items from the list to the new set.\n",
    "* Print the set when it is complete."
   ]
  },
  {
   "cell_type": "code",
   "execution_count": null,
   "metadata": {},
   "outputs": [],
   "source": [
    "names = [\"Robert\", \"Mark\", \"Nick\", \"Jenny\"] # do not change this\n",
    "print(names)\n",
    "\n",
    "# your code here\n"
   ]
  },
  {
   "cell_type": "markdown",
   "metadata": {},
   "source": [
    "## Practice 4b\n",
    "Fix the errors in following code. Do not remove any existing instructions or add new instructions."
   ]
  },
  {
   "cell_type": "code",
   "execution_count": null,
   "metadata": {
    "scrolled": true
   },
   "outputs": [],
   "source": [
    "names = {\"Robert\", \"Mark\", \"Nick\"Jenny\"}\n",
    "print(names)\n",
    "         \n",
    "another_set = set(1)\n",
    "another_set \\= names\n",
    "print(another_set)"
   ]
  },
  {
   "cell_type": "markdown",
   "metadata": {},
   "source": [
    "## Practice 5\n",
    "Convert the `names` list into a set called `names_set` and print the set. "
   ]
  },
  {
   "cell_type": "code",
   "execution_count": null,
   "metadata": {},
   "outputs": [],
   "source": [
    "names = [\"Robert\", \"Mark\", \"Nancy\", \"Robert\", \"Mark\", \"Jenny\", \"Robert\"] # do not change this line of code\n",
    "print(names)\n",
    "\n",
    "# your code here"
   ]
  },
  {
   "cell_type": "markdown",
   "metadata": {},
   "source": [
    "## Practice 6\n",
    "Create a program that performs the following steps:\n",
    "1. Prompt the user for a state abbreviation.\n",
    "2. Return a success message if the user entered a valid state abbreviation.\n",
    "3. Return an error message if the user entered an invalid state abbreviation.\n",
    "\n",
    "The final version of the code should support both uppercase and lowercase input. For example, the user should be able to input \"FL,\" \"Fl,\" \"fL,\" or \"fl\" and get the same response."
   ]
  },
  {
   "cell_type": "code",
   "execution_count": null,
   "metadata": {},
   "outputs": [],
   "source": [
    "states_abbrev = {\"AL\", \"AK\", \"AZ\", \"AR\", \"CA\", \"CO\", \"CT\", \"DE\", \"FL\", \"GA\", \n",
    "          \"HI\", \"ID\", \"IL\", \"IN\", \"IA\", \"KS\", \"KY\", \"LA\", \"ME\", \"MD\", \n",
    "          \"MA\", \"MI\", \"MN\", \"MS\", \"MO\", \"MT\", \"NE\", \"NV\", \"NH\", \"NJ\", \n",
    "          \"NM\", \"NY\", \"NC\", \"ND\", \"OH\", \"OK\", \"OR\", \"PA\", \"RI\", \"SC\", \n",
    "          \"SD\", \"TN\", \"TX\", \"UT\", \"VT\", \"VA\", \"WA\", \"WV\", \"WI\", \"WY\"}\n",
    "\n",
    "# your code here"
   ]
  },
  {
   "cell_type": "markdown",
   "metadata": {},
   "source": [
    "## Practice 7\n",
    "Create a script that keeps asking the user for input until the user enters \"quit\" (uppercase or lowercase).\n",
    "* Each input value should be added to a set. \n",
    "* When the user enters \"quit,\" the program should display all distinct values entered by the user, with each word on a separate line."
   ]
  },
  {
   "cell_type": "code",
   "execution_count": 28,
   "metadata": {},
   "outputs": [],
   "source": [
    "# your code here"
   ]
  },
  {
   "cell_type": "markdown",
   "metadata": {},
   "source": [
    "## Practice 8\n",
    "Create a program that performs the following steps:\n",
    "1. Prompt the user for an integer.\n",
    "1. Ask the user to enter that many words.\n",
    "1. Display the set of words provided by the user.\n",
    "\n",
    "For example, if the user enters 5, the program will ask the user for 5 different words that it will store in a set. \n",
    "\n",
    "When the user finishes entering the items of the set, the program displays the set to the user."
   ]
  },
  {
   "cell_type": "code",
   "execution_count": 30,
   "metadata": {},
   "outputs": [],
   "source": [
    "# your code here"
   ]
  },
  {
   "cell_type": "markdown",
   "metadata": {},
   "source": [
    "## Practice 9\n",
    "Complete the code below, using the `in` operator and the `remove()` method, to create a script that will remove items from a set.\n",
    "* If the item exists, remove the item and display the current set with the item removed.\n",
    "* If the item does **not** exist, display an appropriate, user-friendly message and list the items currently in the set.\n",
    "\n",
    "The program should **not** throw an error if the item doesn't exist. This means that the script should check if the item exists in the set and remove the item only if it is included in the current set."
   ]
  },
  {
   "cell_type": "code",
   "execution_count": null,
   "metadata": {},
   "outputs": [],
   "source": [
    "food = {\"pasta\", \"burger\", \"hotdog\", \"pizza\"}\n",
    "\n",
    "\n",
    "# the remove shouldn't throw an error. \n",
    "food.remove(\"taco\")\n"
   ]
  },
  {
   "cell_type": "markdown",
   "metadata": {},
   "source": [
    "## Practice 10\n",
    "Update the following code to include a user prompt. \n",
    "* If the user inputs a string that corresponds to the variable name of one of the sets below, clear the set using the `clear()` method.\n",
    "* If there is no set that matches the user input, display an error message that the set doesn't exist. "
   ]
  },
  {
   "cell_type": "code",
   "execution_count": null,
   "metadata": {},
   "outputs": [],
   "source": [
    "shake_1 = {\"banana\", \"blueberry\", \"spinach\"}\n",
    "shake_2 = {\"strawberry\", \"pistachio\", \"cocoa powder\"}\n",
    "shake_3 = {\"kiwi\", \"banana\", \"peanut butter\"}\n",
    "\n",
    "# your code here"
   ]
  },
  {
   "cell_type": "markdown",
   "metadata": {},
   "source": [
    "## Practice 11\n",
    "Create a script that performs the following steps:\n",
    "* Display the set to the user along with the number of items in the set.\n",
    "* If there are no items in the set, display an output message to that effect and end the script.\n",
    "* Ask the user if they want to remove an item from the set.\n",
    "* If the user says yes:\n",
    "    * Verify that there is at least one item in the set.\n",
    "    * Remove a random item from the set.\n",
    "    * Display the updated set to the user.\n",
    "    * Prompt the user to remove another item.\n",
    "* If the user says no, end the script.\n",
    "\n",
    "You cannot use the `clear()`, `remove()`, or `discard()` methods in your solution. "
   ]
  },
  {
   "cell_type": "code",
   "execution_count": null,
   "metadata": {},
   "outputs": [],
   "source": [
    "food = {\"pasta\", \"burger\", \"hotdog\", \"pizza\"}\n",
    "\n",
    "# your code here"
   ]
  },
  {
   "cell_type": "markdown",
   "metadata": {},
   "source": [
    "## Practice 12\n",
    "Complete the code below to ask the user for input. \n",
    "* If the user inputs a string that corresponds to the variable name of one of the sets below, delete that set using `del`.\n",
    "* If there is no set with that name, display an error message that the set doesn't exist. "
   ]
  },
  {
   "cell_type": "code",
   "execution_count": null,
   "metadata": {},
   "outputs": [],
   "source": [
    "shake_1 = {\"banana\", \"blueberry\", \"spinach\"}\n",
    "shake_2 = {\"strawberry\", \"pistachio\", \"cocoa powder\"}\n",
    "shake_3 = {\"kiwi\", \"banana\", \"peanut butter\"}\n",
    "\n",
    "# your code here"
   ]
  },
  {
   "cell_type": "markdown",
   "metadata": {},
   "source": [
    "## Practice 13\n",
    "Create a script that performs the following steps:\n",
    "* Prompt the user for the abbreviation of a state they have visited and store the value in a new set.\n",
    "* Repeat the prompt and continue storing values in the same set until the user enters \"done\" (in uppercase or lowercase).\n",
    "* After the user enters \"done,\" display a list of abbreviations for the states that the user has **not** visited yet, using the `states_abbrev` set below and the `difference()` method. \n",
    "\n",
    "**Tip**: It's always a good idea to tell the user how to get out of a loop!"
   ]
  },
  {
   "cell_type": "code",
   "execution_count": null,
   "metadata": {},
   "outputs": [],
   "source": [
    "states_abbrev = {\"AL\", \"AK\", \"AZ\", \"AR\", \"CA\", \"CO\", \"CT\", \"DE\", \"FL\", \"GA\", \n",
    "          \"HI\", \"ID\", \"IL\", \"IN\", \"IA\", \"KS\", \"KY\", \"LA\", \"ME\", \"MD\", \n",
    "          \"MA\", \"MI\", \"MN\", \"MS\", \"MO\", \"MT\", \"NE\", \"NV\", \"NH\", \"NJ\", \n",
    "          \"NM\", \"NY\", \"NC\", \"ND\", \"OH\", \"OK\", \"OR\", \"PA\", \"RI\", \"SC\", \n",
    "          \"SD\", \"TN\", \"TX\", \"UT\", \"VT\", \"VA\", \"WA\", \"WV\", \"WI\", \"WY\"}\n",
    "\n",
    "# your code here"
   ]
  },
  {
   "cell_type": "markdown",
   "metadata": {},
   "source": [
    "## Practice 14\n",
    "The following code includes a set of state abbreviations representing states that Mary has visited. Update the code to include the following steps:\n",
    "* Prompt the user for the abbreviation of a state they have visited and store the value in a new set.\n",
    "* Repeat the prompt and continue storing values in the same set until the user enters \"done\" (in uppercase or lowercase).\n",
    "* Display a list of the states that both the user and Mary have visited, or display a meaningful message if the user has not visited any of the states that Mary has visited. "
   ]
  },
  {
   "cell_type": "code",
   "execution_count": null,
   "metadata": {},
   "outputs": [],
   "source": [
    "mary_states = {\"AZ\", \"CA\", \"FL\", \"GA\", \"IN\", \n",
    "              \"KY\", \"MA\", \"NV\", \"NY\", \"NC\",\n",
    "              \"PA\", \"SC\", \"TN\"}\n",
    "\n",
    "# your code here"
   ]
  },
  {
   "cell_type": "markdown",
   "metadata": {},
   "source": [
    "## Practice 15\n",
    "The following code includes a set of the states that Mary has visited. Update the code to perform the following steps:\n",
    "* Prompt the user for the abbreviation of a state they have visited and store the value in a new set.\n",
    "* Repeat the prompt and continue storing values in the same set until the user enters \"done\" (in uppercase or lowercase).\n",
    "* Display a list of the states that either the user or Mary has visited. "
   ]
  },
  {
   "cell_type": "code",
   "execution_count": null,
   "metadata": {},
   "outputs": [],
   "source": [
    "mary_states = {\"AZ\", \"CA\", \"FL\", \"GA\", \"IN\", \n",
    "              \"KY\", \"MA\", \"NV\", \"NY\", \"NC\",\n",
    "              \"PA\", \"SC\", \"TN\"}\n",
    "\n",
    "# your code here"
   ]
  }
 ],
 "metadata": {
  "kernelspec": {
   "display_name": "Python 3",
   "language": "python",
   "name": "python3"
  },
  "language_info": {
   "codemirror_mode": {
    "name": "ipython",
    "version": 3
   },
   "file_extension": ".py",
   "mimetype": "text/x-python",
   "name": "python",
   "nbconvert_exporter": "python",
   "pygments_lexer": "ipython3",
   "version": "3.7.3"
  }
 },
 "nbformat": 4,
 "nbformat_minor": 2
}
