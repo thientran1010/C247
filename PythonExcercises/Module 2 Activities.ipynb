{
 "cells": [
  {
   "cell_type": "markdown",
   "metadata": {},
   "source": [
    "\n",
    "# Module 2 Practice Exercises\n",
    "\n",
    "After completing all parts of this module, use the following activities to practice the skills you have learned. These activities will demonstrate your ability to use Python to:\n",
    "\n",
    "* Use lists and tuples to store data collections.\n",
    "* Store, retrieve, and manipulate data in dictionaries and sets.\n",
    "* Use repetition statements to repeat blocks of code and iterate through strings, lists, tuples, dictionaries, and sets.\n",
    "\n",
    "Many of these activities depend on skills related to using numbers, strings, and conditional statements in addition to the concepts presented in this module."
   ]
  },
  {
   "cell_type": "markdown",
   "metadata": {},
   "source": [
    "## Activity 1\n",
    "\n",
    "Prompt the user to answer a series of 3-5 questions about themselves (such as their name, their age, their birthday, or where they live) and save the answers in a list. Display the results to the user."
   ]
  },
  {
   "cell_type": "code",
   "execution_count": 2,
   "metadata": {},
   "outputs": [],
   "source": [
    "# your code here"
   ]
  },
  {
   "cell_type": "markdown",
   "metadata": {},
   "source": [
    "## Activity 2\n",
    "\n",
    "Present the user with an existing list of items (such as the list created in the previous activity) and prompt the user for 2-4 more items to add to the list. Update the list with the new items and display the updated list."
   ]
  },
  {
   "cell_type": "code",
   "execution_count": null,
   "metadata": {},
   "outputs": [],
   "source": [
    "# your code here"
   ]
  },
  {
   "cell_type": "markdown",
   "metadata": {},
   "source": [
    "## Activity 3\n",
    "\n",
    "Present the user with a list of 7-9 items (such as the list created in the previous activities) and prompt them to enter one item to delete from the list. Delete the named item from the list and display the updated list."
   ]
  },
  {
   "cell_type": "code",
   "execution_count": null,
   "metadata": {},
   "outputs": [],
   "source": [
    "# your code here"
   ]
  },
  {
   "cell_type": "markdown",
   "metadata": {},
   "source": [
    "## Activity 4\n",
    "\n",
    "Present the user with a list of 7-9 items (such as the list created in the previous activities) and prompt them to select one item from the list to update, along with the new value for that item. Change the item's value and display the new list to the user.\n"
   ]
  },
  {
   "cell_type": "code",
   "execution_count": null,
   "metadata": {},
   "outputs": [],
   "source": [
    "# your code here"
   ]
  },
  {
   "cell_type": "markdown",
   "metadata": {},
   "source": [
    "## Activity 5\n",
    "\n",
    "Create four tuples:\n",
    "\n",
    "* One tuple with a person's first name and last name\n",
    "* A second tuple with the person's current profession\n",
    "* A third tuple with the person's current address\n",
    "* A fourth tuple with the person's previous address\n",
    "\n",
    "Combine all tuples into a new, single tuple that contains all items from the original tuples."
   ]
  },
  {
   "cell_type": "code",
   "execution_count": null,
   "metadata": {},
   "outputs": [],
   "source": [
    "# your code here"
   ]
  },
  {
   "cell_type": "markdown",
   "metadata": {},
   "source": [
    "## Activity 6\n",
    "\n",
    "Create a program that completes the following tasks:\n",
    "\n",
    "* Prompt the user for a series of 5-10 integers.\n",
    "    * The user must be prompted for a minimum of five numbers.\n",
    "    * After the user has entered five numbers, allow the user to stop or enter another number.\n",
    "* When the user chooses to stop or after ten numbers have been entered, stop prompting for values and perform calculations to find the following:\n",
    "    * The product of the integers\n",
    "    * The average of the integers\n",
    "    * The sum of the integers\n",
    "    * The min of the integers\n",
    "    * The max of the integers\n",
    "* After performing the calculations, display the following to the user:\n",
    "    * The values the user entered\n",
    "    * Each of the calculations, using a phrase that identifies the value\n",
    "\n",
    "Do not use the built-in sum, min, or max functions."
   ]
  },
  {
   "cell_type": "code",
   "execution_count": null,
   "metadata": {},
   "outputs": [],
   "source": [
    "# your code here"
   ]
  },
  {
   "cell_type": "markdown",
   "metadata": {},
   "source": [
    "## Activity 7\n",
    "\n",
    "Create a program that takes an input list of strings, identifies all the strings with more than two characters, and stores the results in another list.\n",
    "\n",
    "For example:\n",
    "\n",
    "    a = [\"a\", \"bc\", \"rye\", \"hello\", \"c\", \"\"]\n",
    "\n",
    "Output:\n",
    "\n",
    "    [\"bc\", \"rye\", \"hello\"]"
   ]
  },
  {
   "cell_type": "code",
   "execution_count": null,
   "metadata": {},
   "outputs": [],
   "source": [
    "# your code here"
   ]
  },
  {
   "cell_type": "markdown",
   "metadata": {},
   "source": [
    "## Activity 8\n",
    "\n",
    "Write a program using the steps below:\n",
    "\n",
    "* Create a dictionary with at least three key-value pairs.\n",
    "* Ask the user for a value.\n",
    "* Display all key-value pairs in the dictionary that include the user-specified value.\n",
    "* If the value does not exist in the dictionary, display a user-friendly error message.\n",
    "\n",
    "For example:\n",
    "\n",
    "    dictionary: freq_count = {\"hello\":4,\"world\":4,\"I\":1,\"am\": 2,\"Martha:\"3\"}\n",
    "    user input: 4\n",
    "    output: {\"hello\":4,\"world\":4}"
   ]
  },
  {
   "cell_type": "code",
   "execution_count": null,
   "metadata": {},
   "outputs": [],
   "source": [
    "# your code here"
   ]
  },
  {
   "cell_type": "markdown",
   "metadata": {},
   "source": [
    "## Activity 9\n",
    "\n",
    "Create a program that does the following:\n",
    "\n",
    "* Define a set with at least five elements.\n",
    "* Ask the user for a value.\n",
    "* Ask the user for an operation (\"add\" or \"remove\").\n",
    "* If the operation is \"remove\":\n",
    "    * If the value exists in the set, remove the value from the set and display the updated set to the user.\n",
    "    * If the value does not exist in the set, display a user-friendly error message.\n",
    "* If the operation is \"add\":\n",
    "    * If the value exists in the set, display a user-friendly error message.\n",
    "    * If the value does not exist in the set, add the value to the set and display the updated set to the user.\n",
    "* Repeat until the user enters \"quit\" (uppercase or lowercase)."
   ]
  },
  {
   "cell_type": "code",
   "execution_count": null,
   "metadata": {},
   "outputs": [],
   "source": [
    "# your code here"
   ]
  }
 ],
 "metadata": {
  "kernelspec": {
   "display_name": "Python 3",
   "language": "python",
   "name": "python3"
  },
  "language_info": {
   "codemirror_mode": {
    "name": "ipython",
    "version": 3
   },
   "file_extension": ".py",
   "mimetype": "text/x-python",
   "name": "python",
   "nbconvert_exporter": "python",
   "pygments_lexer": "ipython3",
   "version": "3.7.3"
  }
 },
 "nbformat": 4,
 "nbformat_minor": 2
}
