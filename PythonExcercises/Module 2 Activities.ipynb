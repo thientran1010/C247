{
  "cells": [
    {
      "cell_type": "markdown",
      "metadata": {
        "id": "PP-8jaNzh-BU"
      },
      "source": [
        "\n",
        "# Module 2 Practice Exercises\n",
        "\n",
        "After completing all parts of this module, use the following activities to practice the skills you have learned. These activities will demonstrate your ability to use Python to:\n",
        "\n",
        "* Use lists and tuples to store data collections.\n",
        "* Store, retrieve, and manipulate data in dictionaries and sets.\n",
        "* Use repetition statements to repeat blocks of code and iterate through strings, lists, tuples, dictionaries, and sets.\n",
        "\n",
        "Many of these activities depend on skills related to using numbers, strings, and conditional statements in addition to the concepts presented in this module."
      ]
    },
    {
      "cell_type": "markdown",
      "metadata": {
        "id": "aaJU4QwFh-BX"
      },
      "source": [
        "## Activity 1\n",
        "\n",
        "Prompt the user to answer a series of 3-5 questions about themselves (such as their name, their age, their birthday, or where they live) and save the answers in a list. Display the results to the user."
      ]
    },
    {
      "cell_type": "code",
      "execution_count": 1,
      "metadata": {
        "id": "1S12Nyknh-BY",
        "outputId": "d3c8df42-bdf7-4474-e867-89dd542a004b",
        "colab": {
          "base_uri": "https://localhost:8080/"
        }
      },
      "outputs": [
        {
          "output_type": "stream",
          "name": "stdout",
          "text": [
            "Enter your name: Thien\n",
            "Enter your age: 121\n",
            "Enter your DOB: 12/131/2\n",
            "Enter where you live: Volca\n",
            "['Thien', '121', '12/131/2', 'Volca']\n"
          ]
        }
      ],
      "source": [
        "# your code here\n",
        "answers=[]\n",
        "answers.append(input(\"Enter your name: \"))\n",
        "answers.append(input(\"Enter your age: \"))\n",
        "answers.append(input(\"Enter your DOB: \"))\n",
        "answers.append(input(\"Enter where you live: \"))\n",
        "print(answers)"
      ]
    },
    {
      "cell_type": "markdown",
      "metadata": {
        "id": "t_F4vi6Ah-BZ"
      },
      "source": [
        "## Activity 2\n",
        "\n",
        "Present the user with an existing list of items (such as the list created in the previous activity) and prompt the user for 2-4 more items to add to the list. Update the list with the new items and display the updated list."
      ]
    },
    {
      "cell_type": "code",
      "execution_count": 2,
      "metadata": {
        "id": "OkEKzLLVh-BZ",
        "outputId": "a8ee97ca-66e7-4836-fa45-07908aea83c4",
        "colab": {
          "base_uri": "https://localhost:8080/"
        }
      },
      "outputs": [
        {
          "output_type": "stream",
          "name": "stdout",
          "text": [
            "Enter sport you watch: soccer\n",
            "Enter book you read: 7 habits of effective people\n",
            "Enter song you listen: All out of love\n",
            "Enter movie you watch: 100 days\n",
            "['Thien', '121', '12/131/2', 'Volca', 'soccer', '7 habits of effective people', 'All out of love', '100 days']\n"
          ]
        }
      ],
      "source": [
        "# your code here\n",
        "answers=['Thien', '121', '12/131/2', 'Volca']\n",
        "answers.append(input(\"Enter sport you watch: \"))\n",
        "answers.append(input(\"Enter book you read: \"))\n",
        "answers.append(input(\"Enter song you listen: \"))\n",
        "answers.append(input(\"Enter movie you watch: \"))\n",
        "answers=['Thien', '121', '12/131/2', 'Volca', 'soccer', '7 habits of effective people', 'All out of love', '100 dates']\n",
        "print(answers)"
      ]
    },
    {
      "cell_type": "markdown",
      "metadata": {
        "id": "aPFywHh5h-Ba"
      },
      "source": [
        "## Activity 3\n",
        "\n",
        "Present the user with a list of 7-9 items (such as the list created in the previous activities) and prompt them to enter one item to delete from the list. Delete the named item from the list and display the updated list."
      ]
    },
    {
      "cell_type": "code",
      "execution_count": 6,
      "metadata": {
        "id": "8xBh0tugh-Ba",
        "outputId": "7ecfe5d8-36ec-4df8-af56-737bf891e154",
        "colab": {
          "base_uri": "https://localhost:8080/"
        }
      },
      "outputs": [
        {
          "output_type": "stream",
          "name": "stdout",
          "text": [
            "['Thien', '121', '12/131/2', 'Volca', 'soccer', '7 habits of effective people', 'All out of love', '100 dates']\n",
            "Enter one item to be removed from the list: soccer\n",
            "Item soccer removed successfully\n"
          ]
        }
      ],
      "source": [
        "# your code here\n",
        "answers=['Thien', '121', '12/131/2', 'Volca', 'soccer', '7 habits of effective people', 'All out of love', '100 dates']\n",
        "print(answers)\n",
        "i = input(\"Enter one item to be removed from the list: \")\n",
        "try:\n",
        "  answers.remove(i)\n",
        "  print(\"Item {} removed successfully\".format(i))\n",
        "  print(answers)\n",
        "except:\n",
        "  print(\"Item not on the list\")"
      ]
    },
    {
      "cell_type": "markdown",
      "metadata": {
        "id": "jS_pgff2h-Ba"
      },
      "source": [
        "## Activity 4\n",
        "\n",
        "Present the user with a list of 7-9 items (such as the list created in the previous activities) and prompt them to select one item from the list to update, along with the new value for that item. Change the item's value and display the new list to the user.\n"
      ]
    },
    {
      "cell_type": "code",
      "execution_count": 8,
      "metadata": {
        "id": "jxmmOR1Oh-Bb",
        "outputId": "e0563ace-84e0-40ef-9340-381074a8d1b2",
        "colab": {
          "base_uri": "https://localhost:8080/"
        }
      },
      "outputs": [
        {
          "output_type": "stream",
          "name": "stdout",
          "text": [
            "['Thien', '121', '12/131/2', 'Volca', 'soccer', '7 habits of effective people', 'All out of love', '100 dates']\n",
            "Enter one item to be updated from the list: sadfsa\n",
            "Enter one item to be updated to from the list: ssfa\n",
            "item not on the list\n"
          ]
        }
      ],
      "source": [
        "# your code here\n",
        "answers=['Thien', '121', '12/131/2', 'Volca', 'soccer', '7 habits of effective people', 'All out of love', '100 dates']\n",
        "print(answers)\n",
        "i = input(\"Enter one item to be updated from the list: \")\n",
        "u = input(\"Enter one item to be updated to from the list: \")\n",
        "\n",
        "try:\n",
        "  answers[answers.index(i)]=u\n",
        "  print(\"Item {} updated successfully to {}\".format(i,u))\n",
        "  print(answers)\n",
        "except:\n",
        "  print(\"item not on the list\")"
      ]
    },
    {
      "cell_type": "markdown",
      "metadata": {
        "id": "n45d2LICh-Bb"
      },
      "source": [
        "## Activity 5\n",
        "\n",
        "Create four tuples:\n",
        "\n",
        "* One tuple with a person's first name and last name\n",
        "* A second tuple with the person's current profession\n",
        "* A third tuple with the person's current address\n",
        "* A fourth tuple with the person's previous address\n",
        "\n",
        "Combine all tuples into a new, single tuple that contains all items from the original tuples."
      ]
    },
    {
      "cell_type": "code",
      "execution_count": 11,
      "metadata": {
        "id": "4O5m7nUzh-Bc",
        "outputId": "5d5a81f8-e595-47f4-e64d-5805ebbfb861",
        "colab": {
          "base_uri": "https://localhost:8080/"
        }
      },
      "outputs": [
        {
          "output_type": "stream",
          "name": "stdout",
          "text": [
            "('thien', 'tran', 'student', '1213 agertha main blvd, Henshinky, AL', '90-1 Rimousky, ON')\n"
          ]
        }
      ],
      "source": [
        "# your code here\n",
        "name = (\"thien\",\"tran\")\n",
        "p =(\"student\",)\n",
        "addr=('1213 agertha main blvd, Henshinky, AL',)\n",
        "paddr=('90-1 Rimousky, ON',)\n",
        "new = name + p + addr + paddr\n",
        "print(new)"
      ]
    },
    {
      "cell_type": "markdown",
      "metadata": {
        "id": "e451ljmqh-Bc"
      },
      "source": [
        "## Activity 6\n",
        "\n",
        "Create a program that completes the following tasks:\n",
        "\n",
        "* Prompt the user for a series of 5-10 integers.\n",
        "    * The user must be prompted for a minimum of five numbers.\n",
        "    * After the user has entered five numbers, allow the user to stop or enter another number.\n",
        "* When the user chooses to stop or after ten numbers have been entered, stop prompting for values and perform calculations to find the following:\n",
        "    * The product of the integers\n",
        "    * The average of the integers\n",
        "    * The sum of the integers\n",
        "    * The min of the integers\n",
        "    * The max of the integers\n",
        "* After performing the calculations, display the following to the user:\n",
        "    * The values the user entered\n",
        "    * Each of the calculations, using a phrase that identifies the value\n",
        "\n",
        "Do not use the built-in sum, min, or max functions."
      ]
    },
    {
      "cell_type": "code",
      "execution_count": 15,
      "metadata": {
        "id": "VFEcgQmdh-Bc",
        "outputId": "168a0a7f-a2a7-4360-8099-0fa139f8b4ad",
        "colab": {
          "base_uri": "https://localhost:8080/"
        }
      },
      "outputs": [
        {
          "output_type": "stream",
          "name": "stdout",
          "text": [
            "Enter a value 1: 12\n",
            "Enter a value 2: 312\n",
            "Enter a value 3: 121\n",
            "Enter a value 4: 312\n",
            "Enter a value 5: 1213\n",
            "Enter stop if you want to stop: no\n",
            "Enter a value 6: 121\n",
            "Enter stop if you want to stop: no\n",
            "Enter a value 7: 121\n",
            "Enter stop if you want to stop: no\n",
            "Enter a value 8: 1213\n",
            "Enter stop if you want to stop: no\n",
            "Enter a value 9: 1212\n",
            "Enter stop if you want to stop: no\n",
            "Enter a value 10: 1212\n",
            "Enter stop if you want to stop: no\n",
            "Min is 12.0\n",
            "Max is 1213.0\n",
            "Sum is 5849.0\n",
            "Product is 4.4727372504394507e+24\n",
            "Average is 584.9\n"
          ]
        }
      ],
      "source": [
        "# your code here\n",
        "mi=9000\n",
        "ma=0\n",
        "s=0\n",
        "prd=1\n",
        "avg=0\n",
        "c=0\n",
        "ar=[]\n",
        "stop=''\n",
        "while(c<10):\n",
        "  n = input(\"Enter a value {}: \".format(c+1))\n",
        "  n = float(n)\n",
        "  ar.append(float(n))\n",
        "  if(mi >= n):\n",
        "    mi = n\n",
        "  if(ma <= n):\n",
        "    ma = n\n",
        "  s+=n\n",
        "  prd*=n\n",
        "  if(c>3):\n",
        "    stop=input(\"Enter stop if you want to stop: \")\n",
        "  if(c>3 and stop.lower()=='stop'):\n",
        "    break\n",
        "\n",
        "  c+=1\n",
        "print(\"Min is {}\".format(mi))\n",
        "print(\"Max is {}\".format(ma))\n",
        "print(\"Sum is {}\".format(s))\n",
        "print(\"Product is {}\".format(prd))\n",
        "print(\"Average is {}\".format(s/c))\n",
        "\n",
        "\n",
        "\n",
        "\n",
        "\n",
        "\n"
      ]
    },
    {
      "cell_type": "markdown",
      "metadata": {
        "id": "uiDrZ7X_h-Bd"
      },
      "source": [
        "## Activity 7\n",
        "\n",
        "Create a program that takes an input list of strings, identifies all the strings with more than two characters, and stores the results in another list.\n",
        "\n",
        "For example:\n",
        "\n",
        "    a = [\"a\", \"bc\", \"rye\", \"hello\", \"c\", \"\"]\n",
        "\n",
        "Output:\n",
        "\n",
        "    [\"bc\", \"rye\", \"hello\"]"
      ]
    },
    {
      "cell_type": "code",
      "execution_count": 17,
      "metadata": {
        "id": "Z5QPc_XXh-Bd",
        "outputId": "9d9327e5-c344-48a6-af92-6f06138f9193",
        "colab": {
          "base_uri": "https://localhost:8080/"
        }
      },
      "outputs": [
        {
          "output_type": "stream",
          "name": "stdout",
          "text": [
            "['bc', 'rye', 'hello']\n"
          ]
        }
      ],
      "source": [
        "# your code here\n",
        "a = [\"a\", \"bc\", \"rye\", \"hello\", \"c\", \"\"]\n",
        "l=[]\n",
        "for i in a:\n",
        "  if(len(i)>=2):\n",
        "    l.append(i)\n",
        "print(l)"
      ]
    },
    {
      "cell_type": "markdown",
      "metadata": {
        "id": "jlJg65Xch-Be"
      },
      "source": [
        "## Activity 8\n",
        "\n",
        "Write a program using the steps below:\n",
        "\n",
        "* Create a dictionary with at least three key-value pairs.\n",
        "* Ask the user for a value.\n",
        "* Display all key-value pairs in the dictionary that include the user-specified value.\n",
        "* If the value does not exist in the dictionary, display a user-friendly error message.\n",
        "\n",
        "For example:\n",
        "\n",
        "    dictionary: freq_count = {\"hello\":4,\"world\":4,\"I\":1,\"am\": 2,\"Martha:\"3\"}\n",
        "    user input: 4\n",
        "    output: {\"hello\":4,\"world\":4}"
      ]
    },
    {
      "cell_type": "code",
      "execution_count": 22,
      "metadata": {
        "id": "m1iytZjih-Bf",
        "outputId": "0c31c55b-8f07-4597-b461-edbb00c38d34",
        "colab": {
          "base_uri": "https://localhost:8080/"
        }
      },
      "outputs": [
        {
          "output_type": "stream",
          "name": "stdout",
          "text": [
            "Enter a value: 10\n",
            "Doesnt exist\n"
          ]
        }
      ],
      "source": [
        "# your code here\n",
        "freq_count = {\"hello\":4,\"world\":4,\"I\":1,\"am\": 2,\"Martha\":3}\n",
        "sol={}\n",
        "vi = input(\"Enter a value: \")\n",
        "vi=int(vi)\n",
        "if vi in freq_count.values():\n",
        "  for i,v in freq_count.items():\n",
        "    if(vi==v):\n",
        "      sol.update({i:v})\n",
        "if(len(sol)==0):\n",
        "  print(\"Doesnt exist\")\n",
        "else:\n",
        "  print(sol)"
      ]
    },
    {
      "cell_type": "markdown",
      "metadata": {
        "id": "-gEkSc58h-Bf"
      },
      "source": [
        "## Activity 9\n",
        "\n",
        "Create a program that does the following:\n",
        "\n",
        "* Define a set with at least five elements.\n",
        "* Ask the user for a value.\n",
        "* Ask the user for an operation (\"add\" or \"remove\").\n",
        "* If the operation is \"remove\":\n",
        "    * If the value exists in the set, remove the value from the set and display the updated set to the user.\n",
        "    * If the value does not exist in the set, display a user-friendly error message.\n",
        "* If the operation is \"add\":\n",
        "    * If the value exists in the set, display a user-friendly error message.\n",
        "    * If the value does not exist in the set, add the value to the set and display the updated set to the user.\n",
        "* Repeat until the user enters \"quit\" (uppercase or lowercase)."
      ]
    },
    {
      "cell_type": "code",
      "execution_count": null,
      "metadata": {
        "id": "5EyLrKzwh-Bf"
      },
      "outputs": [],
      "source": [
        "# your code here\n",
        "#already did it"
      ]
    }
  ],
  "metadata": {
    "kernelspec": {
      "display_name": "Python 3",
      "language": "python",
      "name": "python3"
    },
    "language_info": {
      "codemirror_mode": {
        "name": "ipython",
        "version": 3
      },
      "file_extension": ".py",
      "mimetype": "text/x-python",
      "name": "python",
      "nbconvert_exporter": "python",
      "pygments_lexer": "ipython3",
      "version": "3.7.3"
    },
    "colab": {
      "name": "Module 2 Activities.ipynb",
      "provenance": []
    }
  },
  "nbformat": 4,
  "nbformat_minor": 0
}