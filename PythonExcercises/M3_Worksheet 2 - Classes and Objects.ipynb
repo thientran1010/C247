{
  "cells": [
    {
      "cell_type": "markdown",
      "metadata": {
        "id": "9oWZaP0WcKSq"
      },
      "source": [
        "# Classes and Objects\n",
        "This worksheet corresponds to *Lesson 2: Classes and Objects* in the online course. Refer to that lesson as necessary to complete these practice exercises."
      ]
    },
    {
      "cell_type": "markdown",
      "metadata": {
        "id": "QrWyfMplcKSu"
      },
      "source": [
        "## Practice 1\n",
        "Create a class `Animal` that could represent any animal. \n",
        "\n",
        "Include at least two attributes within the new class."
      ]
    },
    {
      "cell_type": "code",
      "execution_count": 2,
      "metadata": {
        "collapsed": true,
        "id": "Ulwwsj7ycKSv"
      },
      "outputs": [],
      "source": [
        "# your code here\n",
        "class Animal:\n",
        "  legs=\"\";\n",
        "  genetics=\"\";\n",
        "  def __init__(self,legs,genetics):\n",
        "    self.legs=legs\n",
        "    self.genetics=genetics\n",
        "    "
      ]
    },
    {
      "cell_type": "markdown",
      "metadata": {
        "id": "8rz5nrl_cKSx"
      },
      "source": [
        "## Practice 2\n",
        "Using the `Animal` class from the previous exercise, create three objects that represent animals.\n",
        "\n",
        "Print out all attributes for each animal."
      ]
    },
    {
      "cell_type": "code",
      "execution_count": 8,
      "metadata": {
        "collapsed": true,
        "id": "Xm0KHrpycKSy"
      },
      "outputs": [],
      "source": [
        "# your code here\n",
        "cat = Animal(4,\"XARAAXT\")\n",
        "dog = Animal(4,\"XAWEAF\")\n",
        "bird = Animal(2,\"TAXRTXA\")"
      ]
    },
    {
      "cell_type": "markdown",
      "metadata": {
        "id": "bWBVSb0NcKSz"
      },
      "source": [
        "## Practice 3\n",
        "Create an `__init__` method for the `Animal` class. Include at least three of the attributes you originally defined in the new method.  "
      ]
    },
    {
      "cell_type": "code",
      "execution_count": 7,
      "metadata": {
        "collapsed": true,
        "id": "mLPIOqSscKSz"
      },
      "outputs": [],
      "source": [
        "# your code here\n",
        "class Animal:\n",
        "  legs=\"\";\n",
        "  genetics=\"\";\n",
        "  def __init__(self,legs,genetics):\n",
        "    self.legs=legs\n",
        "    self.genetics=genetics\n",
        "    "
      ]
    },
    {
      "cell_type": "markdown",
      "metadata": {
        "id": "Q5p90KR0cKS0"
      },
      "source": [
        "## Practice 4\n",
        "Create a `display_info` method for the `Animal` class. \n",
        "\n",
        "Create three objects from the `Animal` class and display each object using the `display_info` method."
      ]
    },
    {
      "cell_type": "code",
      "execution_count": 9,
      "metadata": {
        "collapsed": true,
        "id": "3vM4R6mqcKS0",
        "outputId": "3063da6e-8929-45be-acc2-db3eaa2158fe",
        "colab": {
          "base_uri": "https://localhost:8080/"
        }
      },
      "outputs": [
        {
          "output_type": "execute_result",
          "data": {
            "text/plain": [
              "{'genetics': 'XARAAXT', 'legs': 4}"
            ]
          },
          "metadata": {},
          "execution_count": 9
        }
      ],
      "source": [
        "# your code here\n",
        "vars(cat)\n"
      ]
    },
    {
      "cell_type": "markdown",
      "metadata": {
        "id": "6IleSyBrcKS1"
      },
      "source": [
        "## Practice 5a\n",
        "The following code includes multiple errors. Find the errors and update the code as necessary. Do not change any of the existing code above line 9.\n",
        "\n",
        "The final output should read:\n",
        "    `Harry Potter and the Sorcerer's Stone by J. K. Rowling, published in 1997`"
      ]
    },
    {
      "cell_type": "code",
      "execution_count": 13,
      "metadata": {
        "collapsed": true,
        "id": "8MBVuoB-cKS1",
        "outputId": "86f78424-af15-480f-9585-aee8fbe4c629",
        "colab": {
          "base_uri": "https://localhost:8080/"
        }
      },
      "outputs": [
        {
          "output_type": "stream",
          "name": "stdout",
          "text": [
            "Harry Potter and the Sorcerer's Stone by J. K. Rowling, published in 1997\n"
          ]
        }
      ],
      "source": [
        "class Book:\n",
        "    title = \"\"\n",
        "    author = \"\"\n",
        "    pub_date = \"\"\n",
        "    def __init__ (self, ti, au, da):\n",
        "        self.title = ti\n",
        "        self.author = au\n",
        "        self.pub_date = da\n",
        "        \n",
        "#Change only the code below this line\n",
        "    def book_details(self):\n",
        "        print(str(self.title) + \" by \" + str(self.author) + \", published in \" + str(self.pub_date))\n",
        "        \n",
        "book_1 = Book(\"Harry Potter and the Sorcerer's Stone\", \"J. K. Rowling\",\"1997\")\n",
        "book_1.book_details()\n"
      ]
    },
    {
      "cell_type": "markdown",
      "metadata": {
        "id": "NHhozzFscKS2"
      },
      "source": [
        "## Practice 5b\n",
        "Create and execute another meaningful method for the `Animal` class. Make sure to pass the `self` object when executing the method. "
      ]
    },
    {
      "cell_type": "code",
      "execution_count": 14,
      "metadata": {
        "collapsed": true,
        "id": "9dhxXyk-cKS2",
        "outputId": "ca77e2ff-3a88-440f-94ed-b164c275a6f2",
        "colab": {
          "base_uri": "https://localhost:8080/"
        }
      },
      "outputs": [
        {
          "output_type": "execute_result",
          "data": {
            "text/plain": [
              "{'genetics': 'XARAAXTZXADQWEASD', 'legs': 4}"
            ]
          },
          "metadata": {},
          "execution_count": 14
        }
      ],
      "source": [
        "# your code here\n",
        "class Animal:\n",
        "  legs=\"\";\n",
        "  genetics=\"\";\n",
        "  def __init__(self,legs,genetics):\n",
        "    self.legs=legs\n",
        "    self.genetics=genetics\n",
        "  def morphinTime(self):\n",
        "    self.genetics= self.genetics + \"ZXADQWEASD\"\n",
        "cat = Animal(4,\"XARAAXT\")\n",
        "cat.morphinTime()\n",
        "vars(cat)"
      ]
    },
    {
      "cell_type": "markdown",
      "metadata": {
        "id": "afoq-i_PcKS2"
      },
      "source": [
        "## Practice 6\n",
        "Revise the following code so that the `Person` class includes a list of addresses rather than a single address. "
      ]
    },
    {
      "cell_type": "code",
      "execution_count": 20,
      "metadata": {
        "collapsed": true,
        "id": "OlO5zkVAcKS2",
        "outputId": "7bf9b1f6-e46f-4fc1-d5d5-d30f20bc26be",
        "colab": {
          "base_uri": "https://localhost:8080/"
        }
      },
      "outputs": [
        {
          "output_type": "stream",
          "name": "stdout",
          "text": [
            "Account Number: C1566X56576\n",
            "Account Holder Information: \n",
            "Haythem Balti\n",
            "123 Main Street Asbury Park NJ 07712\n",
            "12 Rue Simon Bolivard Paris France 75019\n",
            "46 Fourth Street Louisville KY 40208\n"
          ]
        }
      ],
      "source": [
        "class Address:\n",
        "    number = None\n",
        "    street  = None\n",
        "    city = None\n",
        "    state = None\n",
        "    zipcode = None\n",
        "    def  __init__(self,num,st,cty,ste,zc):\n",
        "        self.number = num\n",
        "        self.street = st \n",
        "        self.city = cty\n",
        "        self.state= ste\n",
        "        self.zipcode  = zc\n",
        "    def display(self):\n",
        "        print(str(self.number) + \" \" + self.street + \" \" + self.city + \" \" + self.state + \" \" + self.zipcode)\n",
        "        \n",
        "\n",
        "class Person:\n",
        "    fname = None\n",
        "    lname = None\n",
        "    addresses = [] #a ddresses will hold a list  of addresses that belong to a person\n",
        "    def __init__(self,fname,lname,addrs):\n",
        "        self.fname = fname\n",
        "        self.lname = lname\n",
        "        self.addresses = addrs\n",
        "    def display(self):\n",
        "        # implement the display method to display  first name,  last name, \n",
        "        # then iterate through addresses and display each address in one line.\n",
        "        print(self.fname,self.lname)\n",
        "        for i in self.addresses:\n",
        "          i.display()\n",
        "    def add_address(self,addr):\n",
        "        # implement\n",
        "        self.addresses.append(addr)\n",
        "        \n",
        "     \n",
        "class Account:\n",
        "    ain = None \n",
        "    person = None \n",
        "    def __init__(self,ain,person):\n",
        "        self.ain = ain\n",
        "        self.person = person\n",
        "    def display(self):\n",
        "        print(\"Account Number: \" + str(self.ain))\n",
        "        print(\"Account Holder Information: \")\n",
        "        self.person.display()\n",
        "\n",
        "addr1 = Address(123,\"Main Street\",\"Asbury Park\",\"NJ\",\"07712\")\n",
        "addr2 = Address(12,\"Rue Simon Bolivard\",\"Paris\",\"France\",\"75019\")\n",
        "addresses = list()\n",
        "addresses.append(addr1)\n",
        "addresses.append(addr2)\n",
        "\n",
        "\n",
        "p = Person(\"Haythem\",\"Balti\",addresses)\n",
        "addr3 = Address(46,\"Fourth Street\",\"Louisville\",\"KY\",\"40208\")\n",
        "\n",
        "p.add_address(addr3)\n",
        "\n",
        "# p.display()\n",
        "a = Account(\"C1566X56576\",p)\n",
        "a.display()"
      ]
    },
    {
      "cell_type": "code",
      "source": [
        ""
      ],
      "metadata": {
        "id": "vbsah012hBvf"
      },
      "execution_count": null,
      "outputs": []
    }
  ],
  "metadata": {
    "kernelspec": {
      "display_name": "Python 3",
      "language": "python",
      "name": "python3"
    },
    "language_info": {
      "codemirror_mode": {
        "name": "ipython",
        "version": 3
      },
      "file_extension": ".py",
      "mimetype": "text/x-python",
      "name": "python",
      "nbconvert_exporter": "python",
      "pygments_lexer": "ipython3",
      "version": "3.7.3"
    },
    "colab": {
      "name": "M3_Worksheet 2 - Classes and Objects.ipynb",
      "provenance": []
    }
  },
  "nbformat": 4,
  "nbformat_minor": 0
}