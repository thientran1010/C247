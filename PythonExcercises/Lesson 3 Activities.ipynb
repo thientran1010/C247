{
  "cells": [
    {
      "cell_type": "markdown",
      "metadata": {
        "id": "KxXuj8t8WAuf"
      },
      "source": [
        "# Lesson 3 Activities\n",
        "The activities in this page allow you to demonstrate your ability to:\n",
        "* Store, retrieve, and manipulate a data collection using a dictionary with defined index values.\n",
        "* Store, retrieve, and manipulate data in a set.\n"
      ]
    },
    {
      "cell_type": "markdown",
      "metadata": {
        "id": "euCR_XN5WAul"
      },
      "source": [
        "## Activity 1\n",
        "Create a program that sums all the values in a dictionary and displays them.\n",
        "\n",
        "For example:\n",
        "\n",
        "    dictionary = {\"hello\":4,\"world\":4,\"I\":1,\"am\":2,\"Martha\":3}\n",
        "\n",
        "output: `14` (the result of 4 + 4 + 1 + 2 + 3)"
      ]
    },
    {
      "cell_type": "code",
      "execution_count": 3,
      "metadata": {
        "id": "CIgHKq_fWAum",
        "outputId": "073a7669-d364-4235-b7ce-a0af9370568c",
        "colab": {
          "base_uri": "https://localhost:8080/"
        }
      },
      "outputs": [
        {
          "output_type": "stream",
          "name": "stdout",
          "text": [
            "14\n"
          ]
        }
      ],
      "source": [
        "dictionary = {\"hello\":4,\"world\":4,\"I\":1,\"am\":2,\"Martha\":3}\n",
        "\n",
        "# your code here\n",
        "s=0\n",
        "for v in dictionary.values():\n",
        "  s+=v\n",
        "print(s)"
      ]
    },
    {
      "cell_type": "markdown",
      "metadata": {
        "id": "1yQsK8dYWAun"
      },
      "source": [
        "## Activity 2\n",
        "Write a program that displays the maximum and minimum values in a dictionary. You may use the same dictionary you used in the previous activity or create a new one."
      ]
    },
    {
      "cell_type": "code",
      "execution_count": 5,
      "metadata": {
        "id": "10bVTjt6WAuo",
        "outputId": "7883e014-dd66-42b6-f26d-f21c733c4d59",
        "colab": {
          "base_uri": "https://localhost:8080/"
        }
      },
      "outputs": [
        {
          "output_type": "stream",
          "name": "stdout",
          "text": [
            "1\n",
            "4\n"
          ]
        }
      ],
      "source": [
        "# your code here\n",
        "dictionary = {\"hello\":4,\"world\":4,\"I\":1,\"am\":2,\"Martha\":3}\n",
        "ma = max(dictionary.values())\n",
        "mi = min(dictionary.values())\n",
        "print(mi)\n",
        "print(ma)"
      ]
    },
    {
      "cell_type": "markdown",
      "metadata": {
        "id": "rz-I6QMdWAuo"
      },
      "source": [
        "## Activity 3\n",
        "Write a program that returns the sum of the integer elements in a set."
      ]
    },
    {
      "cell_type": "code",
      "execution_count": 6,
      "metadata": {
        "id": "NVyt6HoMWAup",
        "outputId": "916c6c34-4b4b-47b1-970f-45648c849f29",
        "colab": {
          "base_uri": "https://localhost:8080/"
        }
      },
      "outputs": [
        {
          "output_type": "stream",
          "name": "stdout",
          "text": [
            "329\n"
          ]
        }
      ],
      "source": [
        "# your code here\n",
        "print(sum({12,312,312,5}))"
      ]
    },
    {
      "cell_type": "markdown",
      "metadata": {
        "id": "F_1-0qPHWAup"
      },
      "source": [
        "## Activity 4\n",
        "Write a program that computes and displays the maximum and the minimum values in a set."
      ]
    },
    {
      "cell_type": "code",
      "execution_count": 7,
      "metadata": {
        "id": "OrNj5AjoWAuq",
        "outputId": "eef58e13-6534-44da-ec54-0ba0d51d4d18",
        "colab": {
          "base_uri": "https://localhost:8080/"
        }
      },
      "outputs": [
        {
          "output_type": "execute_result",
          "data": {
            "text/plain": [
              "5"
            ]
          },
          "metadata": {},
          "execution_count": 7
        }
      ],
      "source": [
        "# your code here\n",
        "max({12,312,312,5})\n",
        "min({12,312,312,5})"
      ]
    },
    {
      "cell_type": "markdown",
      "metadata": {
        "id": "kPdFNipgWAus"
      },
      "source": [
        "## Activity 5\n",
        "Given the following dictionary `storage`, complete the following tasks:\n",
        "* Add a key named \"freezer\".\n",
        "* Set the value of \"freezer\" to be a list containing the items \"ice cubes\", \"ice cream\", and \"pepperoni pizza\".\n",
        "* Sort the items in the cupboard using `sort`.\n",
        "* Add \"cream\" to the fridge.\n",
        "* Remove \"sugar\" from the cupboard.\n",
        "* Subtract $25 from the emergency jar."
      ]
    },
    {
      "cell_type": "code",
      "execution_count": 28,
      "metadata": {
        "id": "E4PaNLbcWAut",
        "outputId": "11d04319-16f5-47c2-f40b-5b39ca1158f1",
        "colab": {
          "base_uri": "https://localhost:8080/"
        }
      },
      "outputs": [
        {
          "output_type": "stream",
          "name": "stdout",
          "text": [
            "{'cupboard': ['flour', 'spices'], 'drawer': ['fork', 'knife', 'spoon'], 'fridge': ['butter', 'milk', 'cheese', 'ice cream'], 'emergency jar': 125, 'freezer': ['ice cubes', 'ice cubes', 'ice cubes']}\n"
          ]
        }
      ],
      "source": [
        "storage = {\n",
        "    \"cupboard\" : [\"spices\", \"flour\", \"sugar\"],\n",
        "    \"drawer\" : [\"fork\", \"knife\", \"spoon\"],\n",
        "    \"fridge\" : [\"butter\", \"milk\", \"cheese\"],\n",
        "    \"emergency jar\" : 150\n",
        "}\n",
        "\n",
        "# your code here\n",
        "storage.update({'freezer':['ice cubes','ice cubes','ice cubes']})\n",
        "storage.update({'cupboard':sorted(storage['cupboard'])})\n",
        "#storage.update({'fridge' : storage['fridge'].append('ice cream')})\n",
        "storage['fridge'].append('ice cream')\n",
        "storage['cupboard'].remove('sugar')\n",
        "storage['emergency jar']-=25\n",
        "print(storage)"
      ]
    },
    {
      "cell_type": "markdown",
      "metadata": {
        "id": "Ro9sgkzWWAut"
      },
      "source": [
        "## Activity 6\n",
        "Create a new dictionary named `shopping_list` and add the following items to the dictionary:\n",
        "\n",
        "<pre>\"milk\" : 4,\n",
        "\"butter\" : 2,\n",
        "\"crackers\" : 1.5,\n",
        "\"rice\" : 2.25,\n",
        "\"spaghetti\" : 1.75,\n",
        "\"dish soap\": 3.25</pre>\n",
        "    \n",
        "Loop through each item in the list and print out each key with its price. Print the answer in this format:\n",
        "\n",
        "<pre>milk\n",
        "price: 4</pre>\n",
        "   \n",
        "Next, calculate how much it will cost if you purchase all the items on the list.\n",
        "* Use a variable named `total_cost` to store the calculated value.\n",
        "* Loop through the dictionary and add the price of each item to the total cost.\n",
        "* After looping through the dictionary, print out the total cost in a message that is meaningful to the user."
      ]
    },
    {
      "cell_type": "code",
      "execution_count": 31,
      "metadata": {
        "id": "EMuEzx-5WAuu",
        "outputId": "43e005c7-fce3-4565-b327-69a34f7cf0b2",
        "colab": {
          "base_uri": "https://localhost:8080/"
        }
      },
      "outputs": [
        {
          "output_type": "stream",
          "name": "stdout",
          "text": [
            "milk\n",
            "price: 4\n",
            "butter\n",
            "price: 2\n",
            "crackers\n",
            "price: 1.5\n",
            "rice\n",
            "price: 2.25\n",
            "spaghetti\n",
            "price: 1.75\n",
            "dish soap\n",
            "price: 3.25\n",
            "total cost\n",
            "14.75\n"
          ]
        }
      ],
      "source": [
        "# your code here\n",
        "shopping_list={\n",
        "    \"milk\" : 4,\n",
        "\"butter\" : 2,\n",
        "\"crackers\" : 1.5,\n",
        "\"rice\" : 2.25,\n",
        "\"spaghetti\" : 1.75,\n",
        "\"dish soap\": 3.25\n",
        "\n",
        "}\n",
        "total_cost=0\n",
        "for i,v in shopping_list.items():\n",
        "  print(i)\n",
        "  print(\"price: {}\".format(v))\n",
        "  total_cost+=v\n",
        "print(\"total cost\")\n",
        "print(total_cost)"
      ]
    },
    {
      "cell_type": "markdown",
      "metadata": {
        "id": "sSOq2uwXWAuu"
      },
      "source": [
        "## Activity 7\n",
        "Create two dictionaries: `price` and `quantity`.\n",
        "* The `price` dictionary should be the same as the `shopping_list` dictionary in the previous activity:\n",
        "    \n",
        "<pre>\"milk\" : 4,\n",
        "\"butter\" : 2,\n",
        "\"crackers\" : 1.5,\n",
        "\"rice\" : 2.25,\n",
        "\"spaghetti\" : 1.75,\n",
        "\"dish soap\": 3.25</pre>\n",
        "\n",
        "* The `quantity` dictionary should have the same keys, but with values that represent the number of items to purchase rather than the price:\n",
        "    \n",
        "<pre>\"milk\" : 1,\n",
        "\"butter\" : 1,\n",
        "\"crackers\" : 3,\n",
        "\"rice\" : 2,\n",
        "\"spaghetti\" : 5,\n",
        "\"dish soap\": 1</pre>\n",
        "\n",
        "Write a script that loops through both dictionaries to calculate the total cost if we purchase the indicated quantity of each item in the dictionaries."
      ]
    },
    {
      "cell_type": "code",
      "execution_count": 37,
      "metadata": {
        "id": "mExRLA7WWAuv",
        "outputId": "ecface73-5644-4f5d-9d48-772fbb3895e7",
        "colab": {
          "base_uri": "https://localhost:8080/"
        }
      },
      "outputs": [
        {
          "output_type": "stream",
          "name": "stdout",
          "text": [
            "milk\n",
            "Price: $4 , Quantity: 1\n",
            "butter\n",
            "Price: $2 , Quantity: 1\n",
            "crackers\n",
            "Price: $1.5 , Quantity: 3\n",
            "rice\n",
            "Price: $2.25 , Quantity: 2\n",
            "spaghetti\n",
            "Price: $1.75 , Quantity: 5\n",
            "dish soap\n",
            "Price: $3.25 , Quantity: 1\n",
            "\n",
            "total_cost\n",
            "27.0\n"
          ]
        }
      ],
      "source": [
        "# your code here\n",
        "price ={\n",
        "    \"milk\" : 4,\n",
        "\"butter\" : 2,\n",
        "\"crackers\" : 1.5,\n",
        "\"rice\" : 2.25,\n",
        "\"spaghetti\" : 1.75,\n",
        "\"dish soap\": 3.25\n",
        "\n",
        "}\n",
        "quantity ={\n",
        "    \"milk\" : 1,\n",
        "\"butter\" : 1,\n",
        "\"crackers\" : 3,\n",
        "\"rice\" : 2,\n",
        "\"spaghetti\" : 5,\n",
        "\"dish soap\": 1\n",
        "\n",
        "}\n",
        "total_cost=0\n",
        "n = price.keys()\n",
        "p = price.values()\n",
        "q = quantity.values()\n",
        "for (i,v),(ii,vv) in zip(price.items(),quantity.items()):\n",
        "  print(i)\n",
        "  print(\"Price: ${} , Quantity: {}\".format(v,vv))\n",
        "  total_cost+= (v*vv)\n",
        "print()\n",
        "print(\"total_cost\")\n",
        "print(total_cost)"
      ]
    },
    {
      "cell_type": "code",
      "source": [
        ""
      ],
      "metadata": {
        "id": "9B4EpIs9ai_o"
      },
      "execution_count": null,
      "outputs": []
    }
  ],
  "metadata": {
    "kernelspec": {
      "display_name": "Python 3",
      "language": "python",
      "name": "python3"
    },
    "language_info": {
      "codemirror_mode": {
        "name": "ipython",
        "version": 3
      },
      "file_extension": ".py",
      "mimetype": "text/x-python",
      "name": "python",
      "nbconvert_exporter": "python",
      "pygments_lexer": "ipython3",
      "version": "3.7.3"
    },
    "colab": {
      "name": "Lesson 3 Activities.ipynb",
      "provenance": []
    }
  },
  "nbformat": 4,
  "nbformat_minor": 0
}