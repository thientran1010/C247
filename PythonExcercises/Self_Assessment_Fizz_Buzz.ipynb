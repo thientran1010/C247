{
  "nbformat": 4,
  "nbformat_minor": 0,
  "metadata": {
    "colab": {
      "name": "Self-Assessment: Fizz Buzz.ipynb",
      "provenance": [],
      "authorship_tag": "ABX9TyMV4R8YPAgryS6KD3qkcyc+",
      "include_colab_link": true
    },
    "kernelspec": {
      "name": "python3",
      "display_name": "Python 3"
    },
    "language_info": {
      "name": "python"
    }
  },
  "cells": [
    {
      "cell_type": "markdown",
      "metadata": {
        "id": "view-in-github",
        "colab_type": "text"
      },
      "source": [
        "<a href=\"https://colab.research.google.com/github/thientran1010/C247/blob/main/PythonExcercises/Self_Assessment_Fizz_Buzz.ipynb\" target=\"_parent\"><img src=\"https://colab.research.google.com/assets/colab-badge.svg\" alt=\"Open In Colab\"/></a>"
      ]
    },
    {
      "cell_type": "code",
      "execution_count": null,
      "metadata": {
        "id": "7SkCIvn4n2Vl"
      },
      "outputs": [],
      "source": [
        "# In this assessment, you will write a program that loops through a series of values and uses those values to determine the output shown to the user.\n",
        "\n",
        "# Instructions\n",
        "# Write a program that performs the following steps:\n",
        "\n",
        "# Ask the user for a number.\n",
        "# Output a count starting with 0.\n",
        "# Display the count number if it is not divisible by 3 or 5.\n",
        "# Replace every multiple of 3 with the word \"fizz.\"\n",
        "# Replace every multiple of 5 with the word \"buzz.\"\n",
        "# Replace multiples of both 3 and 5 with \"fizz buzz.\"\n",
        "# Continue counting until the number of integers replaced with \"fizz,\" \"buzz,\" or \"fizz buzz\" reaches the input number.\n",
        "# The last output line should read \"TRADITION!!\"\n",
        "# For example:\n",
        "\n",
        "# How many fizzing and buzzing units do you need in your life? 7\n",
        "# 0\n",
        "# 1\n",
        "# 2\n",
        "# fizz\n",
        "# 4\n",
        "# buzz\n",
        "# fizz\n",
        "# 7\n",
        "# 8\n",
        "# fizz\n",
        "# buzz\n",
        "# 11\n",
        "# fizz\n",
        "# 13\n",
        "# 14\n",
        "# fizz buzz\n",
        "# TRADITION!!\n",
        "# Requirements\n",
        "# Add your name and the current date as a comment on the first line of code.\n",
        "# Use meaningful names for all variables so that another developer can understand the code easily.\n",
        "# All text displayed to the user must be meaningful and use correct grammar and spelling.\n",
        "# The program should prompt the user for a number.\n",
        "# The program should output a count that replaces individual values with \"fizz,\" \"buzz,\" or \"fizz buzz,\" as indicated in the instructions.\n",
        "# The program should output the text \"TRADITION!!\" as the last line of output, as indicated in the instructions.\n"
      ]
    },
    {
      "cell_type": "code",
      "source": [
        "print(\"How many fizzing and buzzing units do you need in your life? \")\n",
        "inp = int(input())\n",
        "c=0 \n",
        "i=0\n",
        "print(\"Counting starts\")\n",
        "while (i <= 1000 and c<inp):\n",
        "  if(i==0):\n",
        "    print(i)\n",
        "    i+=1\n",
        "    continue\n",
        "  if(i%3==0 and i%5==0):\n",
        "    print(\"fizz buzz\")\n",
        "    c+=1\n",
        "  elif i%3==0 and i%5!=0:\n",
        "    print(\"fizz\")\n",
        "    c+=1\n",
        "  elif i%5==0 and i%3!=0:\n",
        "    print(\"buzz\")\n",
        "    c+=1\n",
        "  else:\n",
        "    print(i)\n",
        "  i+=1\n",
        "\n",
        "\n",
        "print(\"TRADITION!!\")\n"
      ],
      "metadata": {
        "colab": {
          "base_uri": "https://localhost:8080/"
        },
        "id": "Sgr53CkwoTbl",
        "outputId": "6408fbf4-ca2e-459d-d166-8c79575ea962"
      },
      "execution_count": 10,
      "outputs": [
        {
          "output_type": "stream",
          "name": "stdout",
          "text": [
            "How many fizzing and buzzing units do you need in your life? \n",
            "7\n",
            "Counting starts\n",
            "0\n",
            "1\n",
            "2\n",
            "fizz\n",
            "4\n",
            "buzz\n",
            "fizz\n",
            "7\n",
            "8\n",
            "fizz\n",
            "buzz\n",
            "11\n",
            "fizz\n",
            "13\n",
            "14\n",
            "fizz buzz\n",
            "TRADITION!!\n"
          ]
        }
      ]
    },
    {
      "cell_type": "code",
      "source": [
        ""
      ],
      "metadata": {
        "id": "_svjxYF6ohD9"
      },
      "execution_count": null,
      "outputs": []
    }
  ]
}