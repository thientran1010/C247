{
  "nbformat": 4,
  "nbformat_minor": 0,
  "metadata": {
    "colab": {
      "name": "Self-Assessment: Text Count Analysis.ipynb",
      "provenance": [],
      "authorship_tag": "ABX9TyPIFUDcU1/LVPxHxGAEnxdE",
      "include_colab_link": true
    },
    "kernelspec": {
      "name": "python3",
      "display_name": "Python 3"
    },
    "language_info": {
      "name": "python"
    }
  },
  "cells": [
    {
      "cell_type": "markdown",
      "metadata": {
        "id": "view-in-github",
        "colab_type": "text"
      },
      "source": [
        "<a href=\"https://colab.research.google.com/github/thientran1010/C247/blob/main/PythonExcercises/Self_Assessment_Text_Count_Analysis.ipynb\" target=\"_parent\"><img src=\"https://colab.research.google.com/assets/colab-badge.svg\" alt=\"Open In Colab\"/></a>"
      ]
    },
    {
      "cell_type": "code",
      "execution_count": null,
      "metadata": {
        "colab": {
          "base_uri": "https://localhost:8080/"
        },
        "id": "WycgGIJSojm6",
        "outputId": "d5506074-d9c5-4236-a290-f82ac19e2143"
      },
      "outputs": [
        {
          "output_type": "execute_result",
          "data": {
            "text/plain": [
              "{'': 2,\n",
              " 'a': 3,\n",
              " 'about': 1,\n",
              " 'above': 1,\n",
              " 'ago': 1,\n",
              " 'alas': 1,\n",
              " 'and': 4,\n",
              " 'been': 1,\n",
              " 'below': 1,\n",
              " 'but': 2,\n",
              " 'correct': 1,\n",
              " 'country': 1,\n",
              " 'countrymen': 1,\n",
              " 'edges': 1,\n",
              " 'few': 1,\n",
              " 'figures': 1,\n",
              " 'fixed': 1,\n",
              " 'freely': 1,\n",
              " 'hard': 1,\n",
              " 'has': 1,\n",
              " 'have': 2,\n",
              " 'hexagons': 1,\n",
              " 'higher': 1,\n",
              " 'i': 1,\n",
              " 'imagine': 1,\n",
              " 'in': 2,\n",
              " 'instead': 1,\n",
              " 'it': 1,\n",
              " 'like': 1,\n",
              " 'lines': 1,\n",
              " 'luminous': 1,\n",
              " 'mind': 1,\n",
              " 'move': 1,\n",
              " 'much': 1,\n",
              " 'my': 3,\n",
              " 'notion': 1,\n",
              " 'now': 1,\n",
              " 'of': 5,\n",
              " 'on': 2,\n",
              " 'only': 1,\n",
              " 'opened': 1,\n",
              " 'or': 2,\n",
              " 'other': 1,\n",
              " 'paper': 1,\n",
              " 'pentagons': 1,\n",
              " 'places': 1,\n",
              " 'power': 1,\n",
              " 'pretty': 1,\n",
              " 'remaining': 1,\n",
              " 'rising': 1,\n",
              " 'said': 1,\n",
              " 'shadows': 1,\n",
              " 'sheet': 1,\n",
              " 'should': 1,\n",
              " 'sinking': 1,\n",
              " 'squares': 1,\n",
              " 'straight': 1,\n",
              " 'surface': 1,\n",
              " 'the': 2,\n",
              " 'their': 1,\n",
              " 'then': 1,\n",
              " 'things': 1,\n",
              " 'to': 1,\n",
              " 'triangles': 1,\n",
              " 'universe': 1,\n",
              " 'vast': 1,\n",
              " 'very': 1,\n",
              " 'views': 1,\n",
              " 'which': 1,\n",
              " 'will': 1,\n",
              " 'with': 1,\n",
              " 'without': 1,\n",
              " 'years': 1,\n",
              " 'you': 1}"
            ]
          },
          "metadata": {},
          "execution_count": 2
        }
      ],
      "source": [
        "s = \"\"\"Imagine a vast sheet of paper on which straight Lines, Triangles, Squares, Pentagons, Hexagons, and other figures, instead of remaining fixed in their places, move freely about, on or in the surface, but without the power of rising above or sinking below it, very much like shadows - only hard and with luminous edges - and you will then have a pretty correct notion of my country and countrymen. Alas, a few years ago, I should have said \"my universe\": but now my mind has been opened to higher views of things.\"\"\"\n",
        "#do not change any code above this line\n",
        "#your code here\n",
        "import string\n",
        "import re\n",
        "pl =  list(string.punctuation)\n",
        "\n",
        "s=s.lower()\n",
        "s=s.split(\" \")\n",
        "nw=[]\n",
        "\n",
        "# for i in s:\n",
        "#   if(i not in pl and len(i)>=1):\n",
        "#     if i[0] in pl:\n",
        "#       nw.append(i[1:])\n",
        "#       continue\n",
        "#     if i[-1]in pl:\n",
        "#       nw.append(i[:len(i)-1])\n",
        "#       continue\n",
        "#     nw.append(i)\n",
        "for i in s:\n",
        "  \n",
        "  text = re.sub(r'[^\\w\\d\\s\\']+', '', i)\n",
        "  nw.append(text)\n",
        "\n",
        "\n",
        "\n",
        "s = list(nw)\n",
        "\n",
        "\n",
        "ws=set(s)\n",
        "wc=dict()\n",
        "for i in s:\n",
        "  if i in wc:\n",
        "    wc[i]+=1\n",
        "  else:\n",
        "    wc.update({i:1})\n",
        "wc"
      ]
    },
    {
      "cell_type": "code",
      "source": [
        "print(wc)"
      ],
      "metadata": {
        "colab": {
          "base_uri": "https://localhost:8080/"
        },
        "id": "vJqIvJvXrZ8k",
        "outputId": "3c39ad41-0477-4eac-cde7-8a1f1759ae8c"
      },
      "execution_count": null,
      "outputs": [
        {
          "output_type": "stream",
          "name": "stdout",
          "text": [
            "{'imagine': 1, 'a': 3, 'vast': 1, 'sheet': 1, 'of': 5, 'paper': 1, 'on': 2, 'which': 1, 'straight': 1, 'lines,': 1, 'triangles,': 1, 'squares,': 1, 'pentagons,': 1, 'hexagons,': 1, 'and': 4, 'other': 1, 'figures,': 1, 'instead': 1, 'remaining': 1, 'fixed': 1, 'in': 2, 'their': 1, 'places,': 1, 'move': 1, 'freely': 1, 'about,': 1, 'or': 2, 'the': 2, 'surface,': 1, 'but': 2, 'without': 1, 'power': 1, 'rising': 1, 'above': 1, 'sinking': 1, 'below': 1, 'it,': 1, 'very': 1, 'much': 1, 'like': 1, 'shadows': 1, '-': 2, 'only': 1, 'hard': 1, 'with': 1, 'luminous': 1, 'edges': 1, 'you': 1, 'will': 1, 'then': 1, 'have': 2, 'pretty': 1, 'correct': 1, 'notion': 1, 'my': 2, 'country': 1, 'countrymen.': 1, 'alas,': 1, 'few': 1, 'years': 1, 'ago,': 1, 'i': 1, 'should': 1, 'said': 1, '\"my': 1, 'universe\":': 1, 'now': 1, 'mind': 1, 'has': 1, 'been': 1, 'opened': 1, 'to': 1, 'higher': 1, 'views': 1, 'things.': 1}\n"
          ]
        }
      ]
    },
    {
      "cell_type": "code",
      "source": [
        "#punctuation_list"
      ],
      "metadata": {
        "id": "FgSouKMkrkYy"
      },
      "execution_count": null,
      "outputs": []
    },
    {
      "cell_type": "code",
      "source": [
        "w = [\"haythem!\", \"is\" ,\"eating\", \"tacos.\", \".haythem\", \"loves\", \"tacos\", \"\", \":\"]"
      ],
      "metadata": {
        "id": "DxjLbzLGr6FE"
      },
      "execution_count": null,
      "outputs": []
    },
    {
      "cell_type": "code",
      "source": [
        "import string\n",
        "pl =  list(string.punctuation)\n",
        "w = [\"haythem!\", \"is\" ,\"eating\", \"tacos.\", \".haythem\", \"loves\", \"tacos\", \"\", \":\"]\n",
        "nw=[]\n",
        "\n",
        "for i in w:\n",
        "  if(i not in pl and len(i)>=1):\n",
        "    print(i)\n",
        "    if i[0] in pl:\n",
        "      nw.append(i[1:])\n",
        "      continue\n",
        "    if i[-1]in pl:\n",
        "      nw.append(i[:len(i)-1])\n",
        "      continue\n",
        "    nw.append(i)\n",
        "print(nw)"
      ],
      "metadata": {
        "colab": {
          "base_uri": "https://localhost:8080/"
        },
        "id": "nH8joaYRr8rK",
        "outputId": "693066bc-20f9-4964-a077-7d99918041bc"
      },
      "execution_count": null,
      "outputs": [
        {
          "output_type": "stream",
          "name": "stdout",
          "text": [
            "haythem!\n",
            "is\n",
            "eating\n",
            "tacos.\n",
            ".haythem\n",
            "loves\n",
            "tacos\n",
            "['haythem', 'is', 'eating', 'tacos', 'haythem', 'loves', 'tacos']\n"
          ]
        }
      ]
    },
    {
      "cell_type": "code",
      "source": [
        "#https://stackoverflow.com/questions/59877761/how-to-strip-string-from-punctuation-except-apostrophes-for-nlp"
      ],
      "metadata": {
        "id": "P_MwDmdJr-Fz"
      },
      "execution_count": null,
      "outputs": []
    }
  ]
}