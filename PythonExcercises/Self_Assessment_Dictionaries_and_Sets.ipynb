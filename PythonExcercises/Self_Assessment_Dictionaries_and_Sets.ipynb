{
  "nbformat": 4,
  "nbformat_minor": 0,
  "metadata": {
    "colab": {
      "name": "Self-Assessment: Dictionaries and Sets.ipynb",
      "provenance": [],
      "authorship_tag": "ABX9TyMl+4M8yKsOD0IgXyISMoQz",
      "include_colab_link": true
    },
    "kernelspec": {
      "name": "python3",
      "display_name": "Python 3"
    },
    "language_info": {
      "name": "python"
    }
  },
  "cells": [
    {
      "cell_type": "markdown",
      "metadata": {
        "id": "view-in-github",
        "colab_type": "text"
      },
      "source": [
        "<a href=\"https://colab.research.google.com/github/thientran1010/C247/blob/main/PythonExcercises/Self_Assessment_Dictionaries_and_Sets.ipynb\" target=\"_parent\"><img src=\"https://colab.research.google.com/assets/colab-badge.svg\" alt=\"Open In Colab\"/></a>"
      ]
    },
    {
      "cell_type": "code",
      "execution_count": 1,
      "metadata": {
        "colab": {
          "base_uri": "https://localhost:8080/"
        },
        "id": "dU9LR3vWfxhl",
        "outputId": "7bc55c53-ee47-42d0-fc1d-f9a3dbdc81d0"
      },
      "outputs": [
        {
          "name": "stdout",
          "output_type": "stream",
          "text": [
            "Enter an input value: start\n",
            "Enter either add or remove: remove\n",
            "ERROR value not in set\n",
            "Enter quit if you want to quit: sa\n",
            "Enter an input value: end\n",
            "Enter either add or remove: remove\n",
            "Value removed\n",
            "{'star', 'statistics', 'linear regression', 'loop'}\n",
            "Enter quit if you want to quit: quit\n"
          ]
        }
      ],
      "source": [
        "s = {'star','end','loop','linear regression','statistics'}\n",
        "print(s)\n",
        "notQuit=\"\"\n",
        "while(notQuit.lower() != 'quit'):\n",
        "  i = input(\"Enter an input value: \")\n",
        "  o = input(\"Enter either add or remove: \")\n",
        "  if o.lower() == 'add':\n",
        "    if i in s:\n",
        "      print(\"ERROR: Element existed\")\n",
        "    else:\n",
        "      s.add(i)\n",
        "      print(\"Elemented added\")\n",
        "  elif o.lower() == 'remove':\n",
        "    if i in s:\n",
        "      s.remove(i)\n",
        "      print(\"Value removed\")\n",
        "      print(s)\n",
        "    else:\n",
        "      print(\"ERROR value not in set\")\n",
        "  notQuit= input(\"Enter quit if you want to quit: \")\n",
        "\n",
        "  \n"
      ]
    },
    {
      "cell_type": "code",
      "source": [
        ""
      ],
      "metadata": {
        "id": "R5m2o0-1hKhE"
      },
      "execution_count": null,
      "outputs": []
    }
  ]
}