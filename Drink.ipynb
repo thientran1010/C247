{
 "cells": [
  {
   "cell_type": "code",
   "execution_count": 10,
   "id": "950a5234",
   "metadata": {},
   "outputs": [
    {
     "name": "stdout",
     "output_type": "stream",
     "text": [
      "{'name': 22, 'price': 'Coke', 'size': 1, 'ice': False}\n"
     ]
    }
   ],
   "source": [
    "class FoodItem:\n",
    "  price=0\n",
    "  name=\"\"\n",
    "  def __init__(self,name,price):\n",
    "    self.name=name\n",
    "    self.price=price\n",
    "  def display(self):\n",
    "    print(self.__dict__)\n",
    "\n",
    "class Drink(FoodItem):\n",
    "    #size is 1 for small, 2 for medium, 3 for large\n",
    "    size=0\n",
    "    #with ice or not\n",
    "    ice=0\n",
    "    def __init__(self,name,price,size,ice):\n",
    "        FoodItem.__init__(self,name,price)\n",
    "        self.size=size\n",
    "        self.ice=ice\n",
    "    def display(self):\n",
    "        print(self.__dict__)\n",
    "\n",
    "e = Drink(22,\"Coke\",1,False)\n",
    "e.display()\n"
   ]
  },
  {
   "cell_type": "code",
   "execution_count": null,
   "id": "3af4dc71",
   "metadata": {},
   "outputs": [],
   "source": []
  }
 ],
 "metadata": {
  "kernelspec": {
   "display_name": "Python 3 (ipykernel)",
   "language": "python",
   "name": "python3"
  },
  "language_info": {
   "codemirror_mode": {
    "name": "ipython",
    "version": 3
   },
   "file_extension": ".py",
   "mimetype": "text/x-python",
   "name": "python",
   "nbconvert_exporter": "python",
   "pygments_lexer": "ipython3",
   "version": "3.9.12"
  }
 },
 "nbformat": 4,
 "nbformat_minor": 5
}
